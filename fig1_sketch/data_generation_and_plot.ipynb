{
 "cells": [
  {
   "cell_type": "code",
   "execution_count": 1,
   "id": "4794cfe0-ccb8-4cd0-b666-d16b32960982",
   "metadata": {},
   "outputs": [],
   "source": [
    "import numpy as np\n",
    "import matplotlib.pyplot as plt\n",
    "import sys\n",
    "sys.path.insert(0, '../src/')\n",
    "import wave as w\n",
    "import utils as ut"
   ]
  },
  {
   "cell_type": "code",
   "execution_count": 2,
   "id": "d3f5a22f-2758-4631-908f-c145d1b607e6",
   "metadata": {},
   "outputs": [],
   "source": [
    "def build_assay_wave(id_, r0, D, beta, gamma=1.0, cutoff=1):\n",
    "    \"\"\"\n",
    "    It created a wave object with a good tuning of the parameters.\n",
    "    The object has to be run.\n",
    "    \"\"\"\n",
    "    \n",
    "    dx = ut.lin_from_two_points(np.log(r0), np.log(0.01), 0.001, np.log(1), 0.005)\n",
    "    dt = ut.dt_from_cfl(0.03, D, dx)\n",
    "\n",
    "    p = w.Vwave_pars(id_, tot_time=400, dt=dt, dx=dx, \n",
    "                     n_x_bins=int( ut.lin_from_two_points(r0, 0.01, 3, 1, 50)/dx ), \n",
    "                     M=5, r0=r0, D_coef=D, beta=beta, alpha=0.0, gamma=gamma,\n",
    "                     Nh=10**12, N0=10**10, cutoff=cutoff,\n",
    "                     t_burn=ut.lin_from_two_points(r0, 0.01, 200, 1, 6000), \n",
    "                     t_burn_cutoff=ut.lin_from_two_points(r0, 0.01, 70, 1, 1000), \n",
    "                     back_width_fract=ut.lin_from_two_points(np.log(r0), np.log(0.02), 0.2, np.log(1), 3),\n",
    "                     traj_step=int(5/dt), check_step=int(100/dt), traj_after_burn=False, verbose=True)\n",
    "    return w.Vwave(p)"
   ]
  },
  {
   "cell_type": "markdown",
   "id": "240838b2-a628-42d4-86ca-e86befee19b1",
   "metadata": {},
   "source": [
    "## Plotting viral and immune density, coverage and fitness"
   ]
  },
  {
   "cell_type": "code",
   "execution_count": 3,
   "id": "fd491198-5577-4df0-b2e2-f439add97993",
   "metadata": {},
   "outputs": [
    {
     "name": "stdout",
     "output_type": "stream",
     "text": [
      " "
     ]
    },
    {
     "data": {
      "application/vnd.jupyter.widget-view+json": {
       "model_id": "0ce6af9edb2e4c48868eb3220e5368a7",
       "version_major": 2,
       "version_minor": 0
      },
      "text/plain": [
       "Process 0:   0%|          | 0/62595 [00:00<?, ?it/s]"
      ]
     },
     "metadata": {},
     "output_type": "display_data"
    },
    {
     "data": {
      "text/plain": [
       "<wave.Vwave at 0x7f8946922220>"
      ]
     },
     "execution_count": 3,
     "metadata": {},
     "output_type": "execute_result"
    }
   ],
   "source": [
    "r0 = 0.03\n",
    "D = 1e-5\n",
    "beta = 2\n",
    "\n",
    "wave = build_assay_wave(0, r0, D, beta)\n",
    "wave.run()"
   ]
  },
  {
   "cell_type": "code",
   "execution_count": 4,
   "id": "df3e400d-4065-4a2d-b825-2b19f0c7ec0a",
   "metadata": {},
   "outputs": [
    {
     "data": {
      "text/plain": [
       "[<matplotlib.lines.Line2D at 0x7f09ef565bb0>]"
      ]
     },
     "execution_count": 4,
     "metadata": {},
     "output_type": "execute_result"
    },
    {
     "data": {
      "image/png": "[encoded data removed]",
      "text/plain": [
       "<Figure size 504x93.6 with 2 Axes>"
      ]
     },
     "metadata": {
      "needs_background": "light"
     },
     "output_type": "display_data"
    }
   ],
   "source": [
    "p = wave.p\n",
    "left, right = wave.back_i+180, wave.front_i-50\n",
    "\n",
    "fig, ax = plt.subplots(figsize=(7,1.3))\n",
    "ax2 = ax.twinx()\n",
    "x = np.arange(left, right)*p.dx\n",
    "f = p.beta*wave.P[left:right]**p.M - (p.alpha + p.gamma)\n",
    "\n",
    "ax.plot(x, wave.n[left:right]/np.max(wave.n[left:right]))\n",
    "ax.plot(x, wave.nh[left:right]/np.max(wave.nh[left:right]))\n",
    "ax.plot(x, (1-wave.P[left:right])/np.max((1-wave.P[left:right])))\n",
    "ax2.plot(x, f)\n",
    "\n",
    "#plt.savefig('figure1/sketch1.svg')"
   ]
  },
  {
   "cell_type": "markdown",
   "id": "7fafb61c-e8bc-4f5c-993b-b3338c3623f4",
   "metadata": {},
   "source": [
    "## Plotting the wave at small cross reactivity"
   ]
  },
  {
   "cell_type": "code",
   "execution_count": 37,
   "id": "3a90d6ee-440c-4726-93c2-cbf9af0c638f",
   "metadata": {},
   "outputs": [
    {
     "name": "stdout",
     "output_type": "stream",
     "text": [
      " "
     ]
    },
    {
     "data": {
      "application/vnd.jupyter.widget-view+json": {
       "model_id": "50bd1dc218d0479db0dea9e026d7123e",
       "version_major": 2,
       "version_minor": 0
      },
      "text/plain": [
       "Process 0:   0%|          | 0/85532 [00:00<?, ?it/s]"
      ]
     },
     "metadata": {},
     "output_type": "display_data"
    },
    {
     "data": {
      "text/plain": [
       "<wave.Vwave at 0x7f892ce0ef70>"
      ]
     },
     "execution_count": 37,
     "metadata": {},
     "output_type": "execute_result"
    }
   ],
   "source": [
    "r0 = 0.02\n",
    "D = 1e-5\n",
    "beta = 2\n",
    "\n",
    "wave1 = build_assay_wave(0, r0, D, beta)\n",
    "wave1.run()"
   ]
  },
  {
   "cell_type": "code",
   "execution_count": 44,
   "id": "2b8bb6ed-70f0-41ae-8b6d-4d2dd60d9c13",
   "metadata": {},
   "outputs": [
    {
     "data": {
      "image/png": "[encoded data removed]",
      "text/plain": [
       "<Figure size 252x180 with 2 Axes>"
      ]
     },
     "metadata": {
      "needs_background": "light"
     },
     "output_type": "display_data"
    }
   ],
   "source": [
    "p = wave1.p\n",
    "left, right = wave1.back_i+140, wave1.front_i-10\n",
    "\n",
    "fig, ax = plt.subplots(figsize=(3.5,2.5))\n",
    "ax2 = ax.twinx()\n",
    "x = np.arange(left, right)*p.dx\n",
    "f = p.beta*wave1.P[left:right]**p.M - (p.alpha + p.gamma)\n",
    "\n",
    "ax.plot(x, wave1.n[left:right])\n",
    "ax.plot(x, np.ones(len(x)))\n",
    "ax.set_yscale('log')\n",
    "ax.set_ylim(0.01,10**14)\n",
    "ax2.plot(x, f)\n",
    "#ax2.plot(x, 1 - wave1.P[left:right])\n",
    "ax2.plot(x, np.zeros(len(x)))\n",
    "ax2.set_ylim(-0.4,1.1)\n",
    "\n",
    "\n",
    "#plt.savefig('figure1/fkpp.svg')"
   ]
  },
  {
   "cell_type": "markdown",
   "id": "f9eb923c-f2cf-4972-99c9-3ae0d5ca2d7e",
   "metadata": {},
   "source": [
    "## Plotting the wave at large cross-reactivity"
   ]
  },
  {
   "cell_type": "code",
   "execution_count": 40,
   "id": "ce5466bf-75b4-4470-9b85-6dd48f791450",
   "metadata": {},
   "outputs": [
    {
     "name": "stdout",
     "output_type": "stream",
     "text": [
      " "
     ]
    },
    {
     "data": {
      "application/vnd.jupyter.widget-view+json": {
       "model_id": "b5ac6e464c1b438a97ce8ed766cb1d5c",
       "version_major": 2,
       "version_minor": 0
      },
      "text/plain": [
       "Process 0:   0%|          | 0/85333 [00:00<?, ?it/s]"
      ]
     },
     "metadata": {},
     "output_type": "display_data"
    },
    {
     "data": {
      "text/plain": [
       "<wave.Vwave at 0x7f892c8b9a60>"
      ]
     },
     "execution_count": 40,
     "metadata": {},
     "output_type": "execute_result"
    }
   ],
   "source": [
    "r0 = 1\n",
    "D = 1e-5\n",
    "beta = 2\n",
    "\n",
    "wave2 = build_assay_wave(0, r0, D, beta)\n",
    "wave2.run()"
   ]
  },
  {
   "cell_type": "code",
   "execution_count": 43,
   "id": "e9ae173c-8ccd-4f40-ad3f-a505be338532",
   "metadata": {},
   "outputs": [
    {
     "data": {
      "image/png": "[encoded data removed]",
      "text/plain": [
       "<Figure size 252x180 with 2 Axes>"
      ]
     },
     "metadata": {
      "needs_background": "light"
     },
     "output_type": "display_data"
    }
   ],
   "source": [
    "p = wave2.p\n",
    "left, right = wave2.back_i+50, wave2.front_i+20\n",
    "\n",
    "fig, ax = plt.subplots(figsize=(3.5,2.5))\n",
    "ax2 = ax.twinx()\n",
    "x = np.arange(left, right)*p.dx\n",
    "f = p.beta*wave2.P[left:right]**p.M - (p.alpha + p.gamma)\n",
    "\n",
    "ax.plot(x, wave2.n[left:right])\n",
    "ax.plot(x, np.ones(len(x)))\n",
    "ax.set_yscale('log')\n",
    "ax.set_ylim(0.01,10**11)\n",
    "ax2.plot(x, f)\n",
    "ax2.plot(x, np.zeros(len(x)))\n",
    "ax2.set_ylim(-0.4,1.1)\n",
    "\n",
    "\n",
    "#plt.savefig('figure1/linear.svg')"
   ]
  },
  {
   "cell_type": "code",
   "execution_count": null,
   "id": "18e51761-7435-48c6-a637-7fe7fe9b3c45",
   "metadata": {},
   "outputs": [],
   "source": []
  }
 ],
 "metadata": {
  "kernelspec": {
   "display_name": "Python 3",
   "language": "python",
   "name": "python3"
  },
  "language_info": {
   "codemirror_mode": {
    "name": "ipython",
    "version": 3
   },
   "file_extension": ".py",
   "mimetype": "text/x-python",
   "name": "python",
   "nbconvert_exporter": "python",
   "pygments_lexer": "ipython3",
   "version": "3.8.8"
  }
 },
 "nbformat": 4,
 "nbformat_minor": 5
}
