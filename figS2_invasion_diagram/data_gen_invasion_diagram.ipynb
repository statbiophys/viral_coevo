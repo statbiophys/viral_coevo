{
 "cells": [
  {
   "cell_type": "code",
   "execution_count": 65,
   "id": "165699b0-6258-4f39-8ed0-bdbb25a2c3fc",
   "metadata": {},
   "outputs": [],
   "source": [
    "import numpy as np\n",
    "import matplotlib.pyplot as plt\n",
    "import sys\n",
    "sys.path.insert(0, '../src/')\n",
    "import utils as ut\n",
    "import plotter\n",
    "import wave2 as w2\n",
    "import wave as w\n",
    "import pickle\n",
    "from scipy.optimize import brentq"
   ]
  },
  {
   "cell_type": "code",
   "execution_count": 2,
   "id": "0a770093-fddb-452b-a27e-8ba4b3ba3d83",
   "metadata": {},
   "outputs": [],
   "source": [
    "def build_assay_wave(id_, r0, D, beta, gamma=1.0):\n",
    "    \"\"\"\n",
    "    It generates a single wave object with a good parameter tuning.\n",
    "    \"\"\"\n",
    "    dx = ut.lin_from_two_points(np.log(r0), np.log(0.01), 0.0005, np.log(1), 0.005)\n",
    "    dt = ut.dt_from_cfl(0.03, D, dx)\n",
    "\n",
    "    p = w.Vwave_pars(id_, tot_time=200, dt=dt, dx=dx, \n",
    "                     n_x_bins=int( ut.lin_from_two_points(r0, 0.01, 3, 1, 50)/dx ), \n",
    "                     M=5, r0=r0, D_coef=D, beta=beta, alpha=0.0, gamma=gamma,\n",
    "                     Nh=10**12, N0=10**10,\n",
    "                     t_burn=ut.lin_from_two_points(r0, 0.01, 200, 1, 5000), \n",
    "                     t_burn_cutoff=ut.lin_from_two_points(r0, 0.01, 50, 1, 1000), \n",
    "                     back_width_fract=ut.lin_from_two_points(np.log(r0), np.log(0.01), 0.5, np.log(1), 3),\n",
    "                     traj_step=int(5/dt), check_step=int(100/dt), traj_after_burn=True, verbose=False)\n",
    "    return w.Vwave(p)\n",
    "\n",
    "def build_assay_wave2(id_, r0, D, Dm, beta, beta_m, gamma=1.0, gamma_m=1.0, eps=1e-3, time=400, init_n=None, init_nh=None):\n",
    "    \"\"\"\n",
    "    It generates two competing waves with a good parameter tuning\n",
    "    \"\"\"\n",
    "    dx = ut.lin_from_two_points(np.log(r0), np.log(0.01), 0.0005, np.log(1), 0.005)\n",
    "    dt = ut.dt_from_cfl(0.03, D, dx)\n",
    "    \n",
    "    t_burn, t_burn_cutoff = 0, 0\n",
    "    if type(init_n) != np.ndarray:\n",
    "        t_burn = ut.lin_from_two_points(r0, 0.01, 100, 1, 5000)\n",
    "        t_burn_cutoff = ut.lin_from_two_points(r0, 0.01, 50, 1, 1000)\n",
    "\n",
    "    p = w2.Vwave2_pars(id_, tot_time=time, dt=dt, dx=dx, \n",
    "                     n_x_bins=int( ut.lin_from_two_points(r0, 0.01, 3, 1, 50)/dx ), \n",
    "                     M=5, r0=r0,\n",
    "                     D_coef=D, beta=beta, alpha=0.0, gamma=gamma,\n",
    "                     D_coef_m=D_m, beta_m=beta_m, alpha_m=0.0, gamma_m=gamma,\n",
    "                     is_flux=False, eps=eps,\n",
    "                     Nh=10**12, N0=10**10, t_burn=t_burn, t_burn_cutoff=t_burn_cutoff, \n",
    "                     back_width_fract=ut.lin_from_two_points(np.log(r0), np.log(0.01), 0.5, np.log(1), 3),\n",
    "                     traj_step=int(5/dt), check_step=-1, traj_after_burn=True, verbose=False)\n",
    "    return w2.Vwave2(p, init_n=init_n, init_nh=init_nh)\n",
    "\n",
    "def compute_obs(wave):\n",
    "    speed = np.mean(wave.traj.speed(10)[0:-2])\n",
    "    f_tip = np.mean(wave.traj.f_tip[0:-2])\n",
    "    s_tip = np.mean(wave.traj.s_tip[0:-2])\n",
    "    P_tip = np.mean(wave.traj.P_tip[0:-2])\n",
    "    dP_tip = np.mean(wave.traj.dP_tip[0:-2])\n",
    "    return speed, f_tip, s_tip, P_tip, dP_tip"
   ]
  },
  {
   "cell_type": "markdown",
   "id": "5dfacd14-4d92-4d61-b7f4-103ec2b2c1c2",
   "metadata": {},
   "source": [
    "## Finding the zero of the relation through bisection"
   ]
  },
  {
   "cell_type": "code",
   "execution_count": 3,
   "id": "965c05c2-fcc3-4052-9f8b-60c97a2ce623",
   "metadata": {},
   "outputs": [],
   "source": [
    "class monotonic_bisection:\n",
    "    \"\"\"\n",
    "    Bisection method to find the value of beta at the threshold between invasion and not invasion\n",
    "    \"\"\"\n",
    "    \n",
    "    def __init__(self, start_val, start_delta, precision, function, threshold=0.5):\n",
    "        self.start_val = start_val\n",
    "        self.start_delta = start_delta\n",
    "        self.precision = precision\n",
    "        self.function = function\n",
    "        self.threshold = threshold\n",
    "        self.max_iter = 50\n",
    "        \n",
    "        \n",
    "    def run(self):\n",
    "        \n",
    "        self.beta = self.start_val\n",
    "        self.f = self.function(self.beta)\n",
    "        if self.f > self.threshold:\n",
    "            print('Bisection initialized where the function is larger than the threshold')\n",
    "            return self\n",
    "        \n",
    "        delta = self.start_delta\n",
    "        self.beta += delta\n",
    "        count = 0\n",
    "        was_backward = False\n",
    "        \n",
    "        while True:\n",
    "            \n",
    "            self.f = self.function(self.beta)\n",
    "            #print(count, self.beta, self.f)\n",
    "            \n",
    "            if self.f >= self.threshold:\n",
    "                delta *= 0.5\n",
    "                if abs(delta) < self.precision: \n",
    "                    self.final_beta = self.beta - 3*delta/2.0\n",
    "                    break\n",
    "                self.beta -= delta\n",
    "                was_backward = True\n",
    "            else:\n",
    "                if was_backward:\n",
    "                    delta *= 0.5\n",
    "                    if abs(delta) < self.precision: \n",
    "                        self.final_beta = self.beta + delta/2.0\n",
    "                        break\n",
    "                self.beta += delta\n",
    "                was_backward = False\n",
    "            \n",
    "            count+=1\n",
    "            if count > self.max_iter:\n",
    "                print('Bisection reached max iterations')\n",
    "                return self\n",
    "        \n",
    "        #print(self.final_beta)\n",
    "        return self\n",
    "\n",
    "def get_mutant_final_fract(r0, D_res, D_m, beta_res, b_m, eps, max_iterations=30):\n",
    "    \"\"\"\n",
    "    Running a competition of waves and computing the ratio of the two populations at the\n",
    "    end. If the ratio is not close to one (succesfull invasion) or close to zero (failed invasion)\n",
    "    the experiment goes on until the invasion fails or succeds.~\n",
    "    \"\"\"\n",
    "    wave2 = build_assay_wave2(0, r0, D_res, D_m, beta_res, b_m, time=100, eps=eps)\n",
    "    wave2.run()\n",
    "    \n",
    "    i = 0\n",
    "    while wave2.traj.n_mut[-1] > wave2.traj.nvirus[-1]*eps/10 and wave2.traj.n_res[-1] > wave2.traj.nvirus[-1]*eps/10:\n",
    "        #print(wave2.traj.n_mut[-1]/wave2.traj.nvirus[-1], wave2.traj.n_res[-1]/wave2.traj.nvirus[-1], i)\n",
    "        wave2 = build_assay_wave2(0, r0, D_res, D_m, beta_res, b_m, time=200, eps=eps, init_n=wave2.n2, init_nh=wave2.nh)\n",
    "        wave2.run()\n",
    "        \n",
    "        i+=1\n",
    "        if i > max_iterations:\n",
    "            print('Too many iterations', wave2.traj.n_mut[-1]/wave2.traj.nvirus[-1])\n",
    "            break\n",
    "            \n",
    "    return wave2.traj.n_mut[-1]/wave2.traj.nvirus[-1]"
   ]
  },
  {
   "cell_type": "code",
   "execution_count": 75,
   "id": "27080256-8c68-4958-b817-6d228bebbfb7",
   "metadata": {},
   "outputs": [],
   "source": [
    "D_res = 5*1e-6\n",
    "D_m_list = np.linspace(4, 6, 30)*1e-6\n",
    "r0 = 0.02\n",
    "beta_res = 2\n",
    "eps = 0.05"
   ]
  },
  {
   "cell_type": "markdown",
   "id": "9f656572-f2a5-40e2-9a5d-005873355f5b",
   "metadata": {},
   "source": [
    "### Running an isolated wave of the resident to compute its properties"
   ]
  },
  {
   "cell_type": "code",
   "execution_count": 76,
   "id": "dab82eca-1b88-44d7-9183-a5eec7be766b",
   "metadata": {},
   "outputs": [],
   "source": [
    "wave = build_assay_wave(0, r0, D_res, beta_res)\n",
    "wave.run()\n",
    "speed_res, f_tip_res, s_tip_res, P_tip, dP_tip = compute_obs(wave)"
   ]
  },
  {
   "cell_type": "markdown",
   "id": "44534ac9-d89b-4b48-a30f-aa3ba12d4654",
   "metadata": {},
   "source": [
    "### Running the competition"
   ]
  },
  {
   "cell_type": "code",
   "execution_count": null,
   "id": "3c2b8265-6590-4be3-a102-52aa0129498c",
   "metadata": {},
   "outputs": [],
   "source": [
    "beta_zeros = []\n",
    "for D_m in D_m_list:\n",
    "    f = lambda x : get_mutant_final_fract(r0, D_res, D_m, beta_res, x, eps)\n",
    "    m = monotonic_bisection(1.902314, 0.05, 0.001, f).run()\n",
    "    beta_zeros.append(m.final_beta)\n",
    "    print(D_m, m.final_beta)"
   ]
  },
  {
   "cell_type": "code",
   "execution_count": 19,
   "id": "da1d0fe5-a24b-46ae-ab79-c952877d0c74",
   "metadata": {},
   "outputs": [],
   "source": [
    "#f = open('data/invasion_diagram_r0=%g.pickle'%r0, 'wb')\n",
    "#pickle.dump(beta_zeros, f)\n",
    "#f.close()"
   ]
  },
  {
   "cell_type": "code",
   "execution_count": 77,
   "id": "44214191-2e49-4ccf-a950-00dfed3c4627",
   "metadata": {},
   "outputs": [],
   "source": [
    "# importing the assays without running everything again\n",
    "f = open('data/invasion_diagram_r0=%g.pickle'%r0, 'rb')\n",
    "beta_zeros = pickle.load(f)\n",
    "f.close()"
   ]
  },
  {
   "cell_type": "markdown",
   "id": "e4aabfed-0d9e-4501-83f9-955048b025ef",
   "metadata": {},
   "source": [
    "### Finding the critical beta through the equation"
   ]
  },
  {
   "cell_type": "code",
   "execution_count": 78,
   "id": "72d15317-191d-4de2-b304-21eb9c045396",
   "metadata": {},
   "outputs": [],
   "source": [
    "def ineq(D_m, b_res, b_m, f_tip_res, s_tip_res, v, alpha=0, gamma=1):\n",
    "    f_m = b_m/b_res*(f_tip_res+alpha+gamma) - alpha - gamma\n",
    "    s_m = b_m/b_res*s_tip_res\n",
    "    return f_m - v**2/4/D_m - 2.3381*(D_m*s_m**2)**(1/3)"
   ]
  },
  {
   "cell_type": "code",
   "execution_count": 79,
   "id": "8f50522b-f97e-4fdb-8672-c19f5b6b0841",
   "metadata": {},
   "outputs": [],
   "source": [
    "b_m_list = np.array([])\n",
    "for D_m in D_m_list[:len(beta_zeros)]:\n",
    "    f = lambda x : ineq(D_m, beta_res, x, f_tip_res, s_tip_res, speed_res)\n",
    "    b_m_list = np.append(b_m_list, brentq(f, 1.7, 2.3))"
   ]
  },
  {
   "cell_type": "code",
   "execution_count": 80,
   "id": "9bafbd85-41ca-4d9b-96d1-d67be5953649",
   "metadata": {},
   "outputs": [],
   "source": [
    "f = open('data/invasion_diagram_r0=%g.tsv'%r0, 'w')\n",
    "\n",
    "header = '#D_mutant\\tbeta_critical\\tbeta_theory\\n'\n",
    "f.write(header)\n",
    "\n",
    "for i in range(len(beta_zeros)):\n",
    "    f.write(str(D_m_list[i]) + '\\t')\n",
    "    f.write(str(beta_zeros[i]) + '\\t')\n",
    "    f.write(str(b_m_list[i]) + '\\t')\n",
    "        \n",
    "    f.write('\\n')\n",
    "    \n",
    "f.close()"
   ]
  },
  {
   "cell_type": "code",
   "execution_count": null,
   "id": "009268b1-354b-4d79-b648-9362d17a8471",
   "metadata": {},
   "outputs": [],
   "source": []
  }
 ],
 "metadata": {
  "kernelspec": {
   "display_name": "Python 3",
   "language": "python",
   "name": "python3"
  },
  "language_info": {
   "codemirror_mode": {
    "name": "ipython",
    "version": 3
   },
   "file_extension": ".py",
   "mimetype": "text/x-python",
   "name": "python",
   "nbconvert_exporter": "python",
   "pygments_lexer": "ipython3",
   "version": "3.8.8"
  }
 },
 "nbformat": 4,
 "nbformat_minor": 5
}
