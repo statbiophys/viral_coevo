{
 "cells": [
  {
   "cell_type": "code",
   "execution_count": 4,
   "metadata": {},
   "outputs": [],
   "source": [
    "import numpy as np\n",
    "import matplotlib.pyplot as plt\n",
    "import sys\n",
    "sys.path.insert(0, '../src/')\n",
    "import wave as w\n",
    "import utils as ut\n",
    "import plotter\n",
    "import numba_functions as nbf\n",
    "import numba as nb\n",
    "from copy import deepcopy\n",
    "from scipy.optimize import brentq"
   ]
  },
  {
   "cell_type": "markdown",
   "metadata": {},
   "source": [
    "## Plotting the speed and R0 at different D"
   ]
  },
  {
   "cell_type": "code",
   "execution_count": 31,
   "metadata": {},
   "outputs": [],
   "source": [
    "def build_assay_wave(id_, r0, D, beta, gamma=1.0, cutoff=1):\n",
    "    dx = ut.lin_from_two_log_points(r0, 0.5, 0.075, 20, 0.2)\n",
    "    dt = ut.dt_from_cfl(0.03, D, dx)\n",
    "\n",
    "    p = w.Vwave_pars(id_, tot_time=20000, dt=dt, dx=dx, \n",
    "                     n_x_bins=int( ut.lin_from_two_points(r0, 0.5, 100, 20, 2000)/dx ), \n",
    "                     M=5, r0=r0, D_coef=D, beta=beta, alpha=0.0, gamma=gamma,\n",
    "                     Nh=10**10, N0=10**9, cutoff=cutoff,\n",
    "                     t_burn=ut.lin_from_two_points(r0, 0.5, 5000, 20, 200000), \n",
    "                     t_burn_cutoff=ut.lin_from_two_points(r0, 0.5, 300, 20, 5000), \n",
    "                     back_width_fract=ut.lin_from_two_log_points(r0,  0.5, 0.2, 20, 3),\n",
    "                     traj_step=int(50/dt), check_step=int(0/dt), traj_after_burn=True, verbose=True)\n",
    "    return w.Vwave(p)"
   ]
  },
  {
   "cell_type": "markdown",
   "metadata": {},
   "source": [
    "## FKPP regime"
   ]
  },
  {
   "cell_type": "code",
   "execution_count": 45,
   "metadata": {},
   "outputs": [],
   "source": [
    "r0 = 0.5\n",
    "Delta_x = 1\n",
    "lambd = 100\n",
    "lambda_tilde = 2*lambd/Delta_x**2\n",
    "\n",
    "b_zero = 0.05\n",
    "gamma = 0.04\n",
    "D_list = np.linspace(4,6,20)*10**(-4)\n",
    "b_list = (1 - lambda_tilde * D_list) * b_zero"
   ]
  },
  {
   "cell_type": "code",
   "execution_count": null,
   "metadata": {},
   "outputs": [],
   "source": [
    "assays = []\n",
    "for i in range(len(D_list)):\n",
    "    assays.append(build_assay_wave(i, r0, D_list[i], b_list[i], gamma))"
   ]
  },
  {
   "cell_type": "code",
   "execution_count": null,
   "metadata": {},
   "outputs": [],
   "source": [
    "waves = ut.multiprocess_sim(assays, 2)"
   ]
  },
  {
   "cell_type": "code",
   "execution_count": 48,
   "metadata": {},
   "outputs": [],
   "source": [
    "speeds = []\n",
    "for i in range(len(D_list)):\n",
    "    speeds.append(np.mean(waves[i].traj.speed(100)[:]))"
   ]
  },
  {
   "cell_type": "code",
   "execution_count": 49,
   "metadata": {},
   "outputs": [],
   "source": [
    "f = open('data/speed_R0_vs_D_FKPP.tsv', 'w')\n",
    "\n",
    "header = '#D\\tspeed\\tR0\\n'\n",
    "f.write(header)\n",
    "\n",
    "for i in range(len(D_list)):\n",
    "    f.write(str(D_list[i]) + '\\t')\n",
    "    f.write(str(speeds[i]) + '\\t')\n",
    "    f.write(str(b_zero*np.exp(-lambd*D_list[i])) + '\\t')\n",
    "    f.write('\\n')\n",
    "    \n",
    "f.close()\n",
    "\n",
    "\n",
    "f = open('data/speed_R0_vs_D_FKPP_pars.tsv', 'w')\n",
    "\n",
    "header = '#parameter\\tvalue\\n'\n",
    "f.write(header)\n",
    "\n",
    "f.write('lambda\\t' + str(lambda_tilde) + '\\n')\n",
    "f.write('beta0\\t' + str(waves[0].p.beta) + '\\n')\n",
    "f.write('alpha\\t' + str(waves[0].p.alpha) + '\\n')\n",
    "f.write('gamma\\t' + str(waves[0].p.gamma) + '\\n')\n",
    "f.write('Nh\\t' + str(waves[0].p.Nh) + '\\n')\n",
    "f.write('M\\t' + str(waves[0].p.M) + '\\n')\n",
    "f.write('cutoff\\t' + str(waves[0].p.cutoff) + '\\n')\n",
    "\n",
    "f.close()"
   ]
  },
  {
   "cell_type": "markdown",
   "metadata": {},
   "source": [
    "## linear-fitness regime"
   ]
  },
  {
   "cell_type": "code",
   "execution_count": 32,
   "metadata": {},
   "outputs": [],
   "source": [
    "r0 = 22.392905694846775\n",
    "D_list2 = np.linspace(1, 3, 15)*10**(-4)\n",
    "b_list2 = (1 - lambda_tilde * D_list2)*b_zero"
   ]
  },
  {
   "cell_type": "code",
   "execution_count": 33,
   "metadata": {},
   "outputs": [],
   "source": [
    "assays = []\n",
    "for i in range(len(D_list2)):\n",
    "    assays.append(build_assay_wave(i, r0, D_list2[i], b_list2[i], gamma))"
   ]
  },
  {
   "cell_type": "code",
   "execution_count": null,
   "metadata": {},
   "outputs": [],
   "source": [
    "waves2 = ut.multiprocess_sim(assays, 2)"
   ]
  },
  {
   "cell_type": "code",
   "execution_count": 43,
   "metadata": {},
   "outputs": [],
   "source": [
    "speeds2 = []\n",
    "for i in range(len(D_list2)):\n",
    "    speeds2.append(np.mean(waves2[i].traj.speed(50)[-200:]))"
   ]
  },
  {
   "cell_type": "code",
   "execution_count": 44,
   "metadata": {},
   "outputs": [],
   "source": [
    "f = open('data/speed_R0_vs_D_linfit.tsv', 'w')\n",
    "\n",
    "header = '#D\\tspeed\\tR0\\n'\n",
    "f.write(header)\n",
    "\n",
    "for i in range(len(D_list2)):\n",
    "    f.write(str(D_list2[i]) + '\\t')\n",
    "    f.write(str(speeds2[i]) + '\\t')\n",
    "    f.write(str(b_zero*np.exp(-lambd*D_list2[i])) + '\\t')\n",
    "    f.write('\\n')\n",
    "    \n",
    "f.close()\n",
    "\n",
    "\n",
    "f = open('data/speed_R0_vs_D_linfit_pars.tsv', 'w')\n",
    "\n",
    "header = '#parameter\\tvalue\\n'\n",
    "f.write(header)\n",
    "\n",
    "f.write('lambda\\t' + str(lambda_tilde) + '\\n')\n",
    "f.write('beta0\\t' + str(waves2[0].p.beta) + '\\n')\n",
    "f.write('alpha\\t' + str(waves2[0].p.alpha) + '\\n')\n",
    "f.write('gamma\\t' + str(waves2[0].p.gamma) + '\\n')\n",
    "f.write('Nh\\t' + str(waves2[0].p.Nh) + '\\n')\n",
    "f.write('M\\t' + str(waves2[0].p.M) + '\\n')\n",
    "f.write('cutoff\\t' + str(waves2[0].p.cutoff) + '\\n')\n",
    "\n",
    "f.close()"
   ]
  },
  {
   "cell_type": "code",
   "execution_count": null,
   "metadata": {},
   "outputs": [],
   "source": []
  }
 ],
 "metadata": {
  "kernelspec": {
   "display_name": "Python 3",
   "language": "python",
   "name": "python3"
  },
  "language_info": {
   "codemirror_mode": {
    "name": "ipython",
    "version": 3
   },
   "file_extension": ".py",
   "mimetype": "text/x-python",
   "name": "python",
   "nbconvert_exporter": "python",
   "pygments_lexer": "ipython3",
   "version": "3.8.8"
  }
 },
 "nbformat": 4,
 "nbformat_minor": 4
}
