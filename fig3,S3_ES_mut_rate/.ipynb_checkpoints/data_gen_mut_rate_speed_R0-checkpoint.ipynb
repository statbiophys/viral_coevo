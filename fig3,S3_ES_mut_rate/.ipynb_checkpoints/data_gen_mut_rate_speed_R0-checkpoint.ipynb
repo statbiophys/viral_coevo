{
 "cells": [
  {
   "cell_type": "code",
   "execution_count": 1,
   "metadata": {},
   "outputs": [],
   "source": [
    "import numpy as np\n",
    "import matplotlib.pyplot as plt\n",
    "import sys\n",
    "sys.path.insert(0, '../src/')\n",
    "import wave as w\n",
    "import utils as ut\n",
    "import plotter\n",
    "import numba_functions as nbf\n",
    "import numba as nb\n",
    "from copy import deepcopy\n",
    "from scipy.optimize import brentq"
   ]
  },
  {
   "cell_type": "markdown",
   "metadata": {},
   "source": [
    "## Plotting the speed and R0 at different D"
   ]
  },
  {
   "cell_type": "code",
   "execution_count": 2,
   "metadata": {},
   "outputs": [],
   "source": [
    "def build_assay_wave(id_, r0, D, beta, gamma=1.0, cutoff=1):\n",
    "    dx = ut.lin_from_two_points(np.log(r0/Delta_x), np.log(0.05), 0.01, np.log(5), 0.02)\n",
    "    dt = ut.dt_from_cfl(0.03, D, dx)\n",
    "\n",
    "    p = w.Vwave_pars(id_, tot_time=400, dt=dt, dx=dx, \n",
    "                     n_x_bins=int( ut.lin_from_two_points(r0/Delta_x, 0.05, 10, 5, 200)/dx ), \n",
    "                     M=5, r0=r0, D_coef=D, beta=beta, alpha=0.0, gamma=gamma,\n",
    "                     Nh=10**10, N0=10**9, cutoff=cutoff,\n",
    "                     t_burn=ut.lin_from_two_points(r0, 0.01, 200, 1, 6000), \n",
    "                     t_burn_cutoff=ut.lin_from_two_points(r0, 0.01, 70, 1, 1000), \n",
    "                     back_width_fract=ut.lin_from_two_points(np.log(r0/Delta_x), np.log(0.05), 0.5, np.log(5), 3),\n",
    "                     traj_step=int(5/dt), check_step=int(100/dt), traj_after_burn=True, verbose=True)\n",
    "    return w.Vwave(p)"
   ]
  },
  {
   "cell_type": "markdown",
   "metadata": {},
   "source": [
    "## FKPP regime"
   ]
  },
  {
   "cell_type": "code",
   "execution_count": 3,
   "metadata": {},
   "outputs": [],
   "source": [
    "r0 = 0.10345690405573947\n",
    "Delta_x = 1\n",
    "lambd = 250\n",
    "lambda_tilde = 2*lambd/Delta_x**2\n",
    "\n",
    "b_zero = 2\n",
    "D_list = np.linspace(4,6,20)*10**(-4)\n",
    "b_list = (1 - lambda_tilde * D_list) * b_zero"
   ]
  },
  {
   "cell_type": "code",
   "execution_count": 4,
   "metadata": {},
   "outputs": [
    {
     "name": "stdout",
     "output_type": "stream",
     "text": [
      "proc. 0 WARNING: dx is not small compared to r0. dx/r0= 0.11192048973534587\n",
      "proc. 1 WARNING: dx is not small compared to r0. dx/r0= 0.11192048973534587\n",
      "proc. 2 WARNING: dx is not small compared to r0. dx/r0= 0.11192048973534587\n",
      "proc. 3 WARNING: dx is not small compared to r0. dx/r0= 0.11192048973534587\n",
      "proc. 4 WARNING: dx is not small compared to r0. dx/r0= 0.11192048973534587\n",
      "proc. 5 WARNING: dx is not small compared to r0. dx/r0= 0.11192048973534587\n",
      "proc. 6 WARNING: dx is not small compared to r0. dx/r0= 0.11192048973534587\n",
      "proc. 7 WARNING: dx is not small compared to r0. dx/r0= 0.11192048973534587\n",
      "proc. 8 WARNING: dx is not small compared to r0. dx/r0= 0.11192048973534587\n",
      "proc. 9 WARNING: dx is not small compared to r0. dx/r0= 0.11192048973534587\n",
      "proc. 10 WARNING: dx is not small compared to r0. dx/r0= 0.11192048973534587\n",
      "proc. 11 WARNING: dx is not small compared to r0. dx/r0= 0.11192048973534587\n",
      "proc. 12 WARNING: dx is not small compared to r0. dx/r0= 0.11192048973534587\n",
      "proc. 13 WARNING: dx is not small compared to r0. dx/r0= 0.11192048973534587\n",
      "proc. 14 WARNING: dx is not small compared to r0. dx/r0= 0.11192048973534587\n",
      "proc. 15 WARNING: dx is not small compared to r0. dx/r0= 0.11192048973534587\n",
      "proc. 16 WARNING: dx is not small compared to r0. dx/r0= 0.11192048973534587\n",
      "proc. 17 WARNING: dx is not small compared to r0. dx/r0= 0.11192048973534587\n",
      "proc. 18 WARNING: dx is not small compared to r0. dx/r0= 0.11192048973534587\n",
      "proc. 19 WARNING: dx is not small compared to r0. dx/r0= 0.11192048973534587\n"
     ]
    }
   ],
   "source": [
    "assays = []\n",
    "for i in range(len(D_list)):\n",
    "    assays.append(build_assay_wave(i, r0, D_list[i], b_list[i]))"
   ]
  },
  {
   "cell_type": "code",
   "execution_count": 5,
   "metadata": {},
   "outputs": [
    {
     "name": "stdout",
     "output_type": "stream",
     "text": [
      "   "
     ]
    },
    {
     "data": {
      "application/vnd.jupyter.widget-view+json": {
       "model_id": "a6ea56ae36314ee4875bdaed5c55e34e",
       "version_major": 2,
       "version_minor": 0
      },
      "text/plain": [
       "Process 2:   0%|          | 0/120126 [00:00<?, ?it/s]"
      ]
     },
     "metadata": {},
     "output_type": "display_data"
    },
    {
     "data": {
      "application/vnd.jupyter.widget-view+json": {
       "model_id": "c1efbd23cda942aa9b116b71842d147c",
       "version_major": 2,
       "version_minor": 0
      },
      "text/plain": [
       "Process 0:   0%|          | 0/114120 [00:00<?, ?it/s]"
      ]
     },
     "metadata": {},
     "output_type": "display_data"
    },
    {
     "name": "stdout",
     "output_type": "stream",
     "text": [
      " "
     ]
    },
    {
     "data": {
      "application/vnd.jupyter.widget-view+json": {
       "model_id": "201b15be73da48698009a91a5a8f7c67",
       "version_major": 2,
       "version_minor": 0
      },
      "text/plain": [
       "Process 1:   0%|          | 0/117123 [00:00<?, ?it/s]"
      ]
     },
     "metadata": {},
     "output_type": "display_data"
    },
    {
     "data": {
      "application/vnd.jupyter.widget-view+json": {
       "model_id": "a5f55c5a242e476fb2088e677f185bbc",
       "version_major": 2,
       "version_minor": 0
      },
      "text/plain": [
       "Process 3:   0%|          | 0/123129 [00:00<?, ?it/s]"
      ]
     },
     "metadata": {},
     "output_type": "display_data"
    },
    {
     "name": "stdout",
     "output_type": "stream",
     "text": [
      " "
     ]
    },
    {
     "data": {
      "application/vnd.jupyter.widget-view+json": {
       "model_id": "7c668dadb50348daaa7c5efdde083b4b",
       "version_major": 2,
       "version_minor": 0
      },
      "text/plain": [
       "Process 4:   0%|          | 0/126132 [00:00<?, ?it/s]"
      ]
     },
     "metadata": {},
     "output_type": "display_data"
    },
    {
     "name": "stdout",
     "output_type": "stream",
     "text": [
      " "
     ]
    },
    {
     "data": {
      "application/vnd.jupyter.widget-view+json": {
       "model_id": "0bb87929f24544819af966dc470a7804",
       "version_major": 2,
       "version_minor": 0
      },
      "text/plain": [
       "Process 5:   0%|          | 0/129136 [00:00<?, ?it/s]"
      ]
     },
     "metadata": {},
     "output_type": "display_data"
    },
    {
     "name": "stdout",
     "output_type": "stream",
     "text": [
      " "
     ]
    },
    {
     "data": {
      "application/vnd.jupyter.widget-view+json": {
       "model_id": "4b928a7250044cfdb79318f905c9e502",
       "version_major": 2,
       "version_minor": 0
      },
      "text/plain": [
       "Process 6:   0%|          | 0/132139 [00:00<?, ?it/s]"
      ]
     },
     "metadata": {},
     "output_type": "display_data"
    },
    {
     "name": "stdout",
     "output_type": "stream",
     "text": [
      " "
     ]
    },
    {
     "data": {
      "application/vnd.jupyter.widget-view+json": {
       "model_id": "3aa6bd5cec1145b9abcf9b9ff3fcb689",
       "version_major": 2,
       "version_minor": 0
      },
      "text/plain": [
       "Process 7:   0%|          | 0/135142 [00:00<?, ?it/s]"
      ]
     },
     "metadata": {},
     "output_type": "display_data"
    },
    {
     "name": "stdout",
     "output_type": "stream",
     "text": [
      " "
     ]
    },
    {
     "data": {
      "application/vnd.jupyter.widget-view+json": {
       "model_id": "d89ac668a0314f14979fcc2045b1abff",
       "version_major": 2,
       "version_minor": 0
      },
      "text/plain": [
       "Process 8:   0%|          | 0/138145 [00:00<?, ?it/s]"
      ]
     },
     "metadata": {},
     "output_type": "display_data"
    },
    {
     "name": "stdout",
     "output_type": "stream",
     "text": [
      " "
     ]
    },
    {
     "data": {
      "application/vnd.jupyter.widget-view+json": {
       "model_id": "9b4126b5d19d4027bd3433c7338c1ccd",
       "version_major": 2,
       "version_minor": 0
      },
      "text/plain": [
       "Process 9:   0%|          | 0/141148 [00:00<?, ?it/s]"
      ]
     },
     "metadata": {},
     "output_type": "display_data"
    },
    {
     "name": "stdout",
     "output_type": "stream",
     "text": [
      " "
     ]
    },
    {
     "data": {
      "application/vnd.jupyter.widget-view+json": {
       "model_id": "184f1da43cfe4da398d0dd7703948056",
       "version_major": 2,
       "version_minor": 0
      },
      "text/plain": [
       "Process 10:   0%|          | 0/144151 [00:00<?, ?it/s]"
      ]
     },
     "metadata": {},
     "output_type": "display_data"
    },
    {
     "name": "stdout",
     "output_type": "stream",
     "text": [
      " "
     ]
    },
    {
     "data": {
      "application/vnd.jupyter.widget-view+json": {
       "model_id": "bae9693749804bd0850b61434561a94b",
       "version_major": 2,
       "version_minor": 0
      },
      "text/plain": [
       "Process 11:   0%|          | 0/147155 [00:00<?, ?it/s]"
      ]
     },
     "metadata": {},
     "output_type": "display_data"
    },
    {
     "name": "stdout",
     "output_type": "stream",
     "text": [
      " "
     ]
    },
    {
     "data": {
      "application/vnd.jupyter.widget-view+json": {
       "model_id": "121d303071194b02a832417589c66252",
       "version_major": 2,
       "version_minor": 0
      },
      "text/plain": [
       "Process 12:   0%|          | 0/150158 [00:00<?, ?it/s]"
      ]
     },
     "metadata": {},
     "output_type": "display_data"
    },
    {
     "name": "stdout",
     "output_type": "stream",
     "text": [
      " "
     ]
    },
    {
     "data": {
      "application/vnd.jupyter.widget-view+json": {
       "model_id": "541ef10672a24e16b882ea13ba12e324",
       "version_major": 2,
       "version_minor": 0
      },
      "text/plain": [
       "Process 13:   0%|          | 0/153161 [00:00<?, ?it/s]"
      ]
     },
     "metadata": {},
     "output_type": "display_data"
    },
    {
     "name": "stdout",
     "output_type": "stream",
     "text": [
      " "
     ]
    },
    {
     "data": {
      "application/vnd.jupyter.widget-view+json": {
       "model_id": "96b29b4093a048e7894456e3117bb714",
       "version_major": 2,
       "version_minor": 0
      },
      "text/plain": [
       "Process 14:   0%|          | 0/156164 [00:00<?, ?it/s]"
      ]
     },
     "metadata": {},
     "output_type": "display_data"
    },
    {
     "name": "stdout",
     "output_type": "stream",
     "text": [
      " "
     ]
    },
    {
     "data": {
      "application/vnd.jupyter.widget-view+json": {
       "model_id": "5479959581de45fda4aecafa0b71e594",
       "version_major": 2,
       "version_minor": 0
      },
      "text/plain": [
       "Process 15:   0%|          | 0/159167 [00:00<?, ?it/s]"
      ]
     },
     "metadata": {},
     "output_type": "display_data"
    },
    {
     "name": "stdout",
     "output_type": "stream",
     "text": [
      " "
     ]
    },
    {
     "data": {
      "application/vnd.jupyter.widget-view+json": {
       "model_id": "9dafc90d449c4244bcc5be2dbc212a21",
       "version_major": 2,
       "version_minor": 0
      },
      "text/plain": [
       "Process 16:   0%|          | 0/162170 [00:00<?, ?it/s]"
      ]
     },
     "metadata": {},
     "output_type": "display_data"
    },
    {
     "name": "stdout",
     "output_type": "stream",
     "text": [
      " "
     ]
    },
    {
     "data": {
      "application/vnd.jupyter.widget-view+json": {
       "model_id": "dd73dbe9b8094b4f8a93597baab4724f",
       "version_major": 2,
       "version_minor": 0
      },
      "text/plain": [
       "Process 17:   0%|          | 0/165174 [00:00<?, ?it/s]"
      ]
     },
     "metadata": {},
     "output_type": "display_data"
    },
    {
     "name": "stdout",
     "output_type": "stream",
     "text": [
      " "
     ]
    },
    {
     "data": {
      "application/vnd.jupyter.widget-view+json": {
       "model_id": "6d3de7b4b134428498260f7b287377b2",
       "version_major": 2,
       "version_minor": 0
      },
      "text/plain": [
       "Process 18:   0%|          | 0/168177 [00:00<?, ?it/s]"
      ]
     },
     "metadata": {},
     "output_type": "display_data"
    },
    {
     "name": "stdout",
     "output_type": "stream",
     "text": [
      " "
     ]
    },
    {
     "data": {
      "application/vnd.jupyter.widget-view+json": {
       "model_id": "3cd50b2d0d6f448ab02d92f78624ef6b",
       "version_major": 2,
       "version_minor": 0
      },
      "text/plain": [
       "Process 19:   0%|          | 0/171180 [00:00<?, ?it/s]"
      ]
     },
     "metadata": {},
     "output_type": "display_data"
    }
   ],
   "source": [
    "waves = ut.multiprocess_sim(assays, 4)"
   ]
  },
  {
   "cell_type": "code",
   "execution_count": 6,
   "metadata": {},
   "outputs": [],
   "source": [
    "speeds = []\n",
    "for i in range(len(D_list)):\n",
    "    speeds.append(np.mean(waves[i].traj.speed(50)[-50:]))"
   ]
  },
  {
   "cell_type": "code",
   "execution_count": 11,
   "metadata": {},
   "outputs": [],
   "source": [
    "f = open('data/speed_R0_vs_D_FKPP.tsv', 'w')\n",
    "\n",
    "header = '#D\\tspeed\\tR0\\n'\n",
    "f.write(header)\n",
    "\n",
    "for i in range(len(D_list)):\n",
    "    f.write(str(D_list[i]) + '\\t')\n",
    "    f.write(str(speeds[i]) + '\\t')\n",
    "    f.write(str(b_zero*np.exp(-lambd*D_list[i])) + '\\t')\n",
    "    f.write('\\n')\n",
    "    \n",
    "f.close()\n",
    "\n",
    "\n",
    "f = open('data/speed_R0_vs_D_FKPP_pars.tsv', 'w')\n",
    "\n",
    "header = '#parameter\\tvalue\\n'\n",
    "f.write(header)\n",
    "\n",
    "f.write('lambda\\t' + str(lambda_tilde) + '\\n')\n",
    "f.write('beta0\\t' + str(waves[0].p.beta) + '\\n')\n",
    "f.write('alpha\\t' + str(waves[0].p.alpha) + '\\n')\n",
    "f.write('gamma\\t' + str(waves[0].p.gamma) + '\\n')\n",
    "f.write('Nh\\t' + str(waves[0].p.Nh) + '\\n')\n",
    "f.write('M\\t' + str(waves[0].p.M) + '\\n')\n",
    "f.write('cutoff\\t' + str(waves[0].p.cutoff) + '\\n')\n",
    "\n",
    "f.close()"
   ]
  },
  {
   "cell_type": "markdown",
   "metadata": {},
   "source": [
    "## linear-fitness regime"
   ]
  },
  {
   "cell_type": "code",
   "execution_count": 12,
   "metadata": {},
   "outputs": [],
   "source": [
    "def build_assay_wave(id_, r0, D, beta, gamma=1.0, cutoff=1):\n",
    "    dx = ut.lin_from_two_points(np.log(r0/Delta_x), np.log(0.05), 0.025, np.log(7), 0.04)\n",
    "    dt = ut.dt_from_cfl(0.03, D, dx)\n",
    "\n",
    "    p = w.Vwave_pars(id_, tot_time=400, dt=dt, dx=dx, \n",
    "                     n_x_bins=int( ut.lin_from_two_points(r0/Delta_x, 0.05, 10, 7, 300)/dx ), \n",
    "                     M=5, r0=r0, D_coef=D, beta=beta, alpha=0.0, gamma=gamma,\n",
    "                     Nh=10**10, N0=10**9, cutoff=cutoff,\n",
    "                     t_burn=ut.lin_from_two_points(r0, 0.01, 200, 1, 10000), \n",
    "                     t_burn_cutoff=ut.lin_from_two_points(r0, 0.01, 70, 1, 1000), \n",
    "                     back_width_fract=ut.lin_from_two_points(np.log(r0/Delta_x), np.log(0.05), 0.5, np.log(5), 3),\n",
    "                     traj_step=int(5/dt), check_step=int(0/dt), traj_after_burn=True, verbose=True)\n",
    "    return w.Vwave(p)"
   ]
  },
  {
   "cell_type": "code",
   "execution_count": 13,
   "metadata": {},
   "outputs": [],
   "source": [
    "r0 = 6.5\n",
    "Delta_x = 1\n",
    "lambd = 250\n",
    "lambda_tilde = 2*lambd/Delta_x**2\n",
    "\n",
    "b_zero = 2\n",
    "D_list2 = np.linspace(1, 3, 15)*10**(-4)\n",
    "b_list2 = (1 - lambda_tilde * D_list2)*b_zero"
   ]
  },
  {
   "cell_type": "code",
   "execution_count": 14,
   "metadata": {},
   "outputs": [],
   "source": [
    "assays = []\n",
    "for i in range(len(D_list2)):\n",
    "    assays.append(build_assay_wave(i, r0, D_list2[i], b_list2[i]))"
   ]
  },
  {
   "cell_type": "code",
   "execution_count": null,
   "metadata": {},
   "outputs": [
    {
     "name": "stdout",
     "output_type": "stream",
     "text": [
      "   "
     ]
    },
    {
     "data": {
      "application/vnd.jupyter.widget-view+json": {
       "model_id": "52a9dec2d9cd4ceda6eabe620962580d",
       "version_major": 2,
       "version_minor": 0
      },
      "text/plain": [
       "Process 0:   0%|          | 0/136624 [00:00<?, ?it/s]"
      ]
     },
     "metadata": {},
     "output_type": "display_data"
    },
    {
     "data": {
      "application/vnd.jupyter.widget-view+json": {
       "model_id": "ed249bbac8d641a9a9e0cae0fb152416",
       "version_major": 2,
       "version_minor": 0
      },
      "text/plain": [
       "Process 1:   0%|          | 0/156142 [00:00<?, ?it/s]"
      ]
     },
     "metadata": {},
     "output_type": "display_data"
    },
    {
     "data": {
      "application/vnd.jupyter.widget-view+json": {
       "model_id": "4e3ed146aabd408dae766b4cf33804af",
       "version_major": 2,
       "version_minor": 0
      },
      "text/plain": [
       "Process 2:   0%|          | 0/175660 [00:00<?, ?it/s]"
      ]
     },
     "metadata": {},
     "output_type": "display_data"
    },
    {
     "name": "stdout",
     "output_type": "stream",
     "text": [
      " "
     ]
    },
    {
     "data": {
      "application/vnd.jupyter.widget-view+json": {
       "model_id": "c37594f6cd7447b9b5e328df7a01bfed",
       "version_major": 2,
       "version_minor": 0
      },
      "text/plain": [
       "Process 3:   0%|          | 0/195178 [00:00<?, ?it/s]"
      ]
     },
     "metadata": {},
     "output_type": "display_data"
    },
    {
     "name": "stdout",
     "output_type": "stream",
     "text": [
      " "
     ]
    },
    {
     "data": {
      "application/vnd.jupyter.widget-view+json": {
       "model_id": "fcf9395124ec4648beab6fb96bf15482",
       "version_major": 2,
       "version_minor": 0
      },
      "text/plain": [
       "Process 4:   0%|          | 0/214696 [00:00<?, ?it/s]"
      ]
     },
     "metadata": {},
     "output_type": "display_data"
    },
    {
     "name": "stdout",
     "output_type": "stream",
     "text": [
      " "
     ]
    },
    {
     "data": {
      "application/vnd.jupyter.widget-view+json": {
       "model_id": "a20e60b0a10944c88329ca2b1f1d4214",
       "version_major": 2,
       "version_minor": 0
      },
      "text/plain": [
       "Process 5:   0%|          | 0/234214 [00:00<?, ?it/s]"
      ]
     },
     "metadata": {},
     "output_type": "display_data"
    }
   ],
   "source": [
    "waves2 = ut.multiprocess_sim(assays, 4)\n",
    "#assays[0].run()"
   ]
  },
  {
   "cell_type": "code",
   "execution_count": null,
   "metadata": {},
   "outputs": [],
   "source": [
    "speeds2 = []\n",
    "for i in range(len(D_list2)):\n",
    "    speeds2.append(np.mean(waves2[i].traj.speed(50)[-20:]))"
   ]
  },
  {
   "cell_type": "code",
   "execution_count": null,
   "metadata": {},
   "outputs": [],
   "source": [
    "f = open('data/speed_R0_vs_D_linfit.tsv', 'w')\n",
    "\n",
    "header = '#D\\tspeed\\tR0\\n'\n",
    "f.write(header)\n",
    "\n",
    "for i in range(len(D_list)):\n",
    "    f.write(str(D_list2[i]) + '\\t')\n",
    "    f.write(str(speeds2[i]) + '\\t')\n",
    "    f.write(str(b_zero*np.exp(-lambd*D_list2[i])) + '\\t')\n",
    "    f.write('\\n')\n",
    "    \n",
    "f.close()\n",
    "\n",
    "\n",
    "f = open('data/speed_R0_vs_D_linfit_pars.tsv', 'w')\n",
    "\n",
    "header = '#parameter\\tvalue\\n'\n",
    "f.write(header)\n",
    "\n",
    "f.write('lambda\\t' + str(lambda_tilde) + '\\n')\n",
    "f.write('beta0\\t' + str(waves2[0].p.beta) + '\\n')\n",
    "f.write('alpha\\t' + str(waves2[0].p.alpha) + '\\n')\n",
    "f.write('gamma\\t' + str(waves2[0].p.gamma) + '\\n')\n",
    "f.write('Nh\\t' + str(waves2[0].p.Nh) + '\\n')\n",
    "f.write('M\\t' + str(waves2[0].p.M) + '\\n')\n",
    "f.write('cutoff\\t' + str(waves2[0].p.cutoff) + '\\n')\n",
    "\n",
    "f.close()"
   ]
  },
  {
   "cell_type": "code",
   "execution_count": null,
   "metadata": {},
   "outputs": [],
   "source": []
  }
 ],
 "metadata": {
  "kernelspec": {
   "display_name": "Python 3",
   "language": "python",
   "name": "python3"
  },
  "language_info": {
   "codemirror_mode": {
    "name": "ipython",
    "version": 3
   },
   "file_extension": ".py",
   "mimetype": "text/x-python",
   "name": "python",
   "nbconvert_exporter": "python",
   "pygments_lexer": "ipython3",
   "version": "3.8.8"
  }
 },
 "nbformat": 4,
 "nbformat_minor": 4
}
