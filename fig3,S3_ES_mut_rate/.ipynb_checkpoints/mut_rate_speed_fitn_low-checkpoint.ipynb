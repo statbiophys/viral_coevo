{
 "cells": [
  {
   "cell_type": "code",
   "execution_count": 1,
   "metadata": {},
   "outputs": [],
   "source": [
    "import numpy as np\n",
    "import matplotlib.pyplot as plt\n",
    "import sys\n",
    "sys.path.insert(0, '../src/')\n",
    "import wave as w\n",
    "import utils as ut\n",
    "import plotter\n",
    "import numba_functions as nbf\n",
    "import numba as nb\n",
    "from copy import deepcopy\n",
    "from scipy.optimize import brentq"
   ]
  },
  {
   "cell_type": "markdown",
   "metadata": {},
   "source": [
    "## D scan"
   ]
  },
  {
   "cell_type": "code",
   "execution_count": 2,
   "metadata": {},
   "outputs": [],
   "source": [
    "def build_assay_wave(id_, r0, D, beta, gamma=1.0, cutoff=1):\n",
    "    dx = ut.lin_from_two_points(np.log(r0/Delta_x), np.log(0.05), 0.01, np.log(5), 0.02)\n",
    "    dt = ut.dt_from_cfl(0.03, D, dx)\n",
    "\n",
    "    p = w.Vwave_pars(id_, tot_time=400, dt=dt, dx=dx, \n",
    "                     n_x_bins=int( ut.lin_from_two_points(r0/Delta_x, 0.05, 10, 5, 200)/dx ), \n",
    "                     M=5, r0=r0, D_coef=D, beta=beta, alpha=0.0, gamma=gamma,\n",
    "                     Nh=10**10, N0=10**9, cutoff=cutoff,\n",
    "                     t_burn=ut.lin_from_two_points(r0, 0.01, 200, 1, 6000), \n",
    "                     t_burn_cutoff=ut.lin_from_two_points(r0, 0.01, 70, 1, 1000), \n",
    "                     back_width_fract=ut.lin_from_two_points(np.log(r0/Delta_x), np.log(0.05), 0.5, np.log(5), 3),\n",
    "                     traj_step=int(5/dt), check_step=int(100/dt), traj_after_burn=True, verbose=True)\n",
    "    return w.Vwave(p)"
   ]
  },
  {
   "cell_type": "markdown",
   "metadata": {},
   "source": [
    "## FKPP regime"
   ]
  },
  {
   "cell_type": "code",
   "execution_count": 3,
   "metadata": {},
   "outputs": [],
   "source": [
    "r0 = 0.10345690405573947\n",
    "Delta_x = 1\n",
    "lambd = 250\n",
    "lambda_tilde = 2*lambd/Delta_x**2\n",
    "\n",
    "b_zero = 2\n",
    "D_list = np.linspace(4,6,20)*10**(-4)\n",
    "b_list = (1 - lambda_tilde * D_list) * b_zero"
   ]
  },
  {
   "cell_type": "code",
   "execution_count": 4,
   "metadata": {},
   "outputs": [
    {
     "name": "stdout",
     "output_type": "stream",
     "text": [
      "proc. 0 WARNING: dx is not small compared to r0. dx/r0= 0.13481331718121206\n",
      "proc. 1 WARNING: dx is not small compared to r0. dx/r0= 0.13481331718121206\n",
      "proc. 2 WARNING: dx is not small compared to r0. dx/r0= 0.13481331718121206\n",
      "proc. 3 WARNING: dx is not small compared to r0. dx/r0= 0.13481331718121206\n",
      "proc. 4 WARNING: dx is not small compared to r0. dx/r0= 0.13481331718121206\n",
      "proc. 5 WARNING: dx is not small compared to r0. dx/r0= 0.13481331718121206\n",
      "proc. 6 WARNING: dx is not small compared to r0. dx/r0= 0.13481331718121206\n",
      "proc. 7 WARNING: dx is not small compared to r0. dx/r0= 0.13481331718121206\n",
      "proc. 8 WARNING: dx is not small compared to r0. dx/r0= 0.13481331718121206\n",
      "proc. 9 WARNING: dx is not small compared to r0. dx/r0= 0.13481331718121206\n",
      "proc. 10 WARNING: dx is not small compared to r0. dx/r0= 0.13481331718121206\n",
      "proc. 11 WARNING: dx is not small compared to r0. dx/r0= 0.13481331718121206\n",
      "proc. 12 WARNING: dx is not small compared to r0. dx/r0= 0.13481331718121206\n",
      "proc. 13 WARNING: dx is not small compared to r0. dx/r0= 0.13481331718121206\n",
      "proc. 14 WARNING: dx is not small compared to r0. dx/r0= 0.13481331718121206\n",
      "proc. 15 WARNING: dx is not small compared to r0. dx/r0= 0.13481331718121206\n",
      "proc. 16 WARNING: dx is not small compared to r0. dx/r0= 0.13481331718121206\n",
      "proc. 17 WARNING: dx is not small compared to r0. dx/r0= 0.13481331718121206\n",
      "proc. 18 WARNING: dx is not small compared to r0. dx/r0= 0.13481331718121206\n",
      "proc. 19 WARNING: dx is not small compared to r0. dx/r0= 0.13481331718121206\n"
     ]
    }
   ],
   "source": [
    "assays = []\n",
    "for i in range(len(D_list)):\n",
    "    assays.append(build_assay_wave(i, r0, D_list[i], b_list[i]))"
   ]
  },
  {
   "cell_type": "code",
   "execution_count": 5,
   "metadata": {},
   "outputs": [
    {
     "name": "stdout",
     "output_type": "stream",
     "text": [
      "  "
     ]
    },
    {
     "data": {
      "application/vnd.jupyter.widget-view+json": {
       "model_id": "18f647075b494e0c8962d73ca525880b",
       "version_major": 2,
       "version_minor": 0
      },
      "text/plain": [
       "Process 1:   0%|          | 0/80723 [00:00<?, ?it/s]"
      ]
     },
     "metadata": {},
     "output_type": "display_data"
    },
    {
     "name": "stdout",
     "output_type": "stream",
     "text": [
      " "
     ]
    },
    {
     "data": {
      "application/vnd.jupyter.widget-view+json": {
       "model_id": "7c1c2fb86dcd494fbd9a2a2effca7a1f",
       "version_major": 2,
       "version_minor": 0
      },
      "text/plain": [
       "Process 0:   0%|          | 0/78653 [00:00<?, ?it/s]"
      ]
     },
     "metadata": {},
     "output_type": "display_data"
    },
    {
     "data": {
      "application/vnd.jupyter.widget-view+json": {
       "model_id": "281762d9d04c4a86af7bd65f098de8f7",
       "version_major": 2,
       "version_minor": 0
      },
      "text/plain": [
       "Process 2:   0%|          | 0/82792 [00:00<?, ?it/s]"
      ]
     },
     "metadata": {},
     "output_type": "display_data"
    },
    {
     "name": "stdout",
     "output_type": "stream",
     "text": [
      " "
     ]
    },
    {
     "data": {
      "application/vnd.jupyter.widget-view+json": {
       "model_id": "c65b33d9b31746db83231c0475029564",
       "version_major": 2,
       "version_minor": 0
      },
      "text/plain": [
       "Process 3:   0%|          | 0/84862 [00:00<?, ?it/s]"
      ]
     },
     "metadata": {},
     "output_type": "display_data"
    },
    {
     "name": "stdout",
     "output_type": "stream",
     "text": [
      " "
     ]
    },
    {
     "data": {
      "application/vnd.jupyter.widget-view+json": {
       "model_id": "d1a1d8ec6e6441ff9cdf65112177ba52",
       "version_major": 2,
       "version_minor": 0
      },
      "text/plain": [
       "Process 4:   0%|          | 0/86932 [00:00<?, ?it/s]"
      ]
     },
     "metadata": {},
     "output_type": "display_data"
    },
    {
     "name": "stdout",
     "output_type": "stream",
     "text": [
      " "
     ]
    },
    {
     "data": {
      "application/vnd.jupyter.widget-view+json": {
       "model_id": "e0e44c65ea1643a98a7a27a087a0af26",
       "version_major": 2,
       "version_minor": 0
      },
      "text/plain": [
       "Process 5:   0%|          | 0/89002 [00:00<?, ?it/s]"
      ]
     },
     "metadata": {},
     "output_type": "display_data"
    },
    {
     "name": "stdout",
     "output_type": "stream",
     "text": [
      " "
     ]
    },
    {
     "data": {
      "application/vnd.jupyter.widget-view+json": {
       "model_id": "71500b9c6e0c4dabaf60f69c6ec4473c",
       "version_major": 2,
       "version_minor": 0
      },
      "text/plain": [
       "Process 6:   0%|          | 0/91072 [00:00<?, ?it/s]"
      ]
     },
     "metadata": {},
     "output_type": "display_data"
    },
    {
     "name": "stdout",
     "output_type": "stream",
     "text": [
      " "
     ]
    },
    {
     "data": {
      "application/vnd.jupyter.widget-view+json": {
       "model_id": "769c9f38a8324b8daacf8c57675c4fde",
       "version_major": 2,
       "version_minor": 0
      },
      "text/plain": [
       "Process 7:   0%|          | 0/93141 [00:00<?, ?it/s]"
      ]
     },
     "metadata": {},
     "output_type": "display_data"
    },
    {
     "name": "stdout",
     "output_type": "stream",
     "text": [
      " "
     ]
    },
    {
     "data": {
      "application/vnd.jupyter.widget-view+json": {
       "model_id": "8137de16bda141d686dab602b9374cb2",
       "version_major": 2,
       "version_minor": 0
      },
      "text/plain": [
       "Process 8:   0%|          | 0/95211 [00:00<?, ?it/s]"
      ]
     },
     "metadata": {},
     "output_type": "display_data"
    },
    {
     "name": "stdout",
     "output_type": "stream",
     "text": [
      " "
     ]
    },
    {
     "data": {
      "application/vnd.jupyter.widget-view+json": {
       "model_id": "ab0dde78d797461eb133116c12908c4c",
       "version_major": 2,
       "version_minor": 0
      },
      "text/plain": [
       "Process 9:   0%|          | 0/97281 [00:00<?, ?it/s]"
      ]
     },
     "metadata": {},
     "output_type": "display_data"
    },
    {
     "name": "stdout",
     "output_type": "stream",
     "text": [
      " "
     ]
    },
    {
     "data": {
      "application/vnd.jupyter.widget-view+json": {
       "model_id": "39b2e821c7bc45aca504b871f4140fd4",
       "version_major": 2,
       "version_minor": 0
      },
      "text/plain": [
       "Process 10:   0%|          | 0/99351 [00:00<?, ?it/s]"
      ]
     },
     "metadata": {},
     "output_type": "display_data"
    },
    {
     "name": "stdout",
     "output_type": "stream",
     "text": [
      " "
     ]
    },
    {
     "data": {
      "application/vnd.jupyter.widget-view+json": {
       "model_id": "2aac98eca12d4e40975c7fe26a4945d1",
       "version_major": 2,
       "version_minor": 0
      },
      "text/plain": [
       "Process 11:   0%|          | 0/101421 [00:00<?, ?it/s]"
      ]
     },
     "metadata": {},
     "output_type": "display_data"
    },
    {
     "name": "stdout",
     "output_type": "stream",
     "text": [
      " "
     ]
    },
    {
     "data": {
      "application/vnd.jupyter.widget-view+json": {
       "model_id": "e97b6ff3bfdf4ece892d78edf70cf4f3",
       "version_major": 2,
       "version_minor": 0
      },
      "text/plain": [
       "Process 12:   0%|          | 0/103491 [00:00<?, ?it/s]"
      ]
     },
     "metadata": {},
     "output_type": "display_data"
    },
    {
     "name": "stdout",
     "output_type": "stream",
     "text": [
      " "
     ]
    },
    {
     "data": {
      "application/vnd.jupyter.widget-view+json": {
       "model_id": "013fbf29708648f7b6e4eb435b791650",
       "version_major": 2,
       "version_minor": 0
      },
      "text/plain": [
       "Process 13:   0%|          | 0/105560 [00:00<?, ?it/s]"
      ]
     },
     "metadata": {},
     "output_type": "display_data"
    },
    {
     "name": "stdout",
     "output_type": "stream",
     "text": [
      " "
     ]
    },
    {
     "data": {
      "application/vnd.jupyter.widget-view+json": {
       "model_id": "b62bbd5b2414470c97c63486326f1b49",
       "version_major": 2,
       "version_minor": 0
      },
      "text/plain": [
       "Process 14:   0%|          | 0/107630 [00:00<?, ?it/s]"
      ]
     },
     "metadata": {},
     "output_type": "display_data"
    },
    {
     "name": "stdout",
     "output_type": "stream",
     "text": [
      " "
     ]
    },
    {
     "data": {
      "application/vnd.jupyter.widget-view+json": {
       "model_id": "4d486c9d453440609ece0ae3b6f9efb3",
       "version_major": 2,
       "version_minor": 0
      },
      "text/plain": [
       "Process 15:   0%|          | 0/109700 [00:00<?, ?it/s]"
      ]
     },
     "metadata": {},
     "output_type": "display_data"
    },
    {
     "name": "stdout",
     "output_type": "stream",
     "text": [
      " "
     ]
    },
    {
     "data": {
      "application/vnd.jupyter.widget-view+json": {
       "model_id": "0b764cb5de4144c49acc6540e5c82301",
       "version_major": 2,
       "version_minor": 0
      },
      "text/plain": [
       "Process 16:   0%|          | 0/111770 [00:00<?, ?it/s]"
      ]
     },
     "metadata": {},
     "output_type": "display_data"
    },
    {
     "name": "stdout",
     "output_type": "stream",
     "text": [
      " "
     ]
    },
    {
     "data": {
      "application/vnd.jupyter.widget-view+json": {
       "model_id": "c9da0145ab38446da8a763c39b6c7df3",
       "version_major": 2,
       "version_minor": 0
      },
      "text/plain": [
       "Process 17:   0%|          | 0/113840 [00:00<?, ?it/s]"
      ]
     },
     "metadata": {},
     "output_type": "display_data"
    },
    {
     "name": "stdout",
     "output_type": "stream",
     "text": [
      " "
     ]
    },
    {
     "data": {
      "application/vnd.jupyter.widget-view+json": {
       "model_id": "5766e7d045934e828fff64bb4f87f00e",
       "version_major": 2,
       "version_minor": 0
      },
      "text/plain": [
       "Process 18:   0%|          | 0/115909 [00:00<?, ?it/s]"
      ]
     },
     "metadata": {},
     "output_type": "display_data"
    },
    {
     "name": "stdout",
     "output_type": "stream",
     "text": [
      " "
     ]
    },
    {
     "data": {
      "application/vnd.jupyter.widget-view+json": {
       "model_id": "28879a1e14d9474cba0173978f320a7d",
       "version_major": 2,
       "version_minor": 0
      },
      "text/plain": [
       "Process 19:   0%|          | 0/117979 [00:00<?, ?it/s]"
      ]
     },
     "metadata": {},
     "output_type": "display_data"
    }
   ],
   "source": [
    "waves = ut.multiprocess_sim(assays, 3)"
   ]
  },
  {
   "cell_type": "code",
   "execution_count": 16,
   "metadata": {},
   "outputs": [],
   "source": [
    "speeds = []\n",
    "for i in range(len(D_list)):\n",
    "    speeds.append(np.mean(waves[i].traj.speed(50)[-50:]))"
   ]
  },
  {
   "cell_type": "code",
   "execution_count": 19,
   "metadata": {},
   "outputs": [
    {
     "data": {
      "image/png": "[encoded data removed]",
      "text/plain": [
       "<Figure size 252x144 with 2 Axes>"
      ]
     },
     "metadata": {
      "needs_background": "light"
     },
     "output_type": "display_data"
    }
   ],
   "source": [
    "fig, ax1 = plt.subplots(figsize=(3.5,2))\n",
    "ax2 = plt.twinx(ax1)\n",
    "\n",
    "ax1.plot(D_list, speeds)\n",
    "ax1.plot(np.ones(2)*0.0004863498242628905, [min(speeds), max(speeds)], c='k', ls='--', lw=3)\n",
    "\n",
    "ax2.plot(D_list, b_zero*np.exp(-lambd*D_list))\n",
    "plt.tight_layout()\n",
    "\n",
    "plt.savefig('mut_rate_speed_fitn_low.svg', dpi=200)"
   ]
  },
  {
   "cell_type": "markdown",
   "metadata": {},
   "source": [
    "## linear-fitness regime"
   ]
  },
  {
   "cell_type": "code",
   "execution_count": 3,
   "metadata": {},
   "outputs": [],
   "source": [
    "def build_assay_wave(id_, r0, D, beta, gamma=1.0, cutoff=1):\n",
    "    dx = ut.lin_from_two_points(np.log(r0/Delta_x), np.log(0.05), 0.025, np.log(7), 0.04)\n",
    "    dt = ut.dt_from_cfl(0.03, D, dx)\n",
    "\n",
    "    p = w.Vwave_pars(id_, tot_time=400, dt=dt, dx=dx, \n",
    "                     n_x_bins=int( ut.lin_from_two_points(r0/Delta_x, 0.05, 10, 7, 300)/dx ), \n",
    "                     M=5, r0=r0, D_coef=D, beta=beta, alpha=0.0, gamma=gamma,\n",
    "                     Nh=10**10, N0=10**9, cutoff=cutoff,\n",
    "                     t_burn=ut.lin_from_two_points(r0, 0.01, 200, 1, 10000), \n",
    "                     t_burn_cutoff=ut.lin_from_two_points(r0, 0.01, 70, 1, 1000), \n",
    "                     back_width_fract=ut.lin_from_two_points(np.log(r0/Delta_x), np.log(0.05), 0.5, np.log(5), 3),\n",
    "                     traj_step=int(5/dt), check_step=int(0/dt), traj_after_burn=True, verbose=True)\n",
    "    return w.Vwave(p)"
   ]
  },
  {
   "cell_type": "code",
   "execution_count": 4,
   "metadata": {},
   "outputs": [],
   "source": [
    "r0 = 6.5\n",
    "Delta_x = 1\n",
    "lambd = 250\n",
    "lambda_tilde = 2*lambd/Delta_x**2\n",
    "\n",
    "b_zero = 2\n",
    "D_list2 = np.linspace(1, 3, 15)*10**(-4)\n",
    "b_list2 = (1 - lambda_tilde * D_list2)*b_zero"
   ]
  },
  {
   "cell_type": "code",
   "execution_count": 5,
   "metadata": {},
   "outputs": [],
   "source": [
    "assays = []\n",
    "for i in range(len(D_list2)):\n",
    "    assays.append(build_assay_wave(i, r0, D_list2[i], b_list2[i]))"
   ]
  },
  {
   "cell_type": "code",
   "execution_count": 6,
   "metadata": {},
   "outputs": [
    {
     "name": "stdout",
     "output_type": "stream",
     "text": [
      "    "
     ]
    },
    {
     "data": {
      "application/vnd.jupyter.widget-view+json": {
       "model_id": "fcfcfa6f2ebb431bb1fbec0bd13b71a1",
       "version_major": 2,
       "version_minor": 0
      },
      "text/plain": [
       "Process 2:   0%|          | 0/175660 [00:00<?, ?it/s]"
      ]
     },
     "metadata": {},
     "output_type": "display_data"
    },
    {
     "data": {
      "application/vnd.jupyter.widget-view+json": {
       "model_id": "fec9210b239a40e48a68df3449f7a3fe",
       "version_major": 2,
       "version_minor": 0
      },
      "text/plain": [
       "Process 1:   0%|          | 0/156142 [00:00<?, ?it/s]"
      ]
     },
     "metadata": {},
     "output_type": "display_data"
    },
    {
     "data": {
      "application/vnd.jupyter.widget-view+json": {
       "model_id": "1fbf1198e1674dd2a1f569f6c838306f",
       "version_major": 2,
       "version_minor": 0
      },
      "text/plain": [
       "Process 0:   0%|          | 0/136624 [00:00<?, ?it/s]"
      ]
     },
     "metadata": {},
     "output_type": "display_data"
    },
    {
     "data": {
      "application/vnd.jupyter.widget-view+json": {
       "model_id": "5c70c9f19d704cdc89b02faecfb68e9a",
       "version_major": 2,
       "version_minor": 0
      },
      "text/plain": [
       "Process 3:   0%|          | 0/195178 [00:00<?, ?it/s]"
      ]
     },
     "metadata": {},
     "output_type": "display_data"
    },
    {
     "name": "stdout",
     "output_type": "stream",
     "text": [
      " "
     ]
    },
    {
     "data": {
      "application/vnd.jupyter.widget-view+json": {
       "model_id": "d6cc8219222d40bea21adbe02a969984",
       "version_major": 2,
       "version_minor": 0
      },
      "text/plain": [
       "Process 4:   0%|          | 0/214696 [00:00<?, ?it/s]"
      ]
     },
     "metadata": {},
     "output_type": "display_data"
    },
    {
     "name": "stdout",
     "output_type": "stream",
     "text": [
      " "
     ]
    },
    {
     "data": {
      "application/vnd.jupyter.widget-view+json": {
       "model_id": "3374eba6666a415686023d1f83e95e56",
       "version_major": 2,
       "version_minor": 0
      },
      "text/plain": [
       "Process 5:   0%|          | 0/234214 [00:00<?, ?it/s]"
      ]
     },
     "metadata": {},
     "output_type": "display_data"
    },
    {
     "name": "stdout",
     "output_type": "stream",
     "text": [
      " "
     ]
    },
    {
     "data": {
      "application/vnd.jupyter.widget-view+json": {
       "model_id": "3b30fe83b81a447681b7613730057ad7",
       "version_major": 2,
       "version_minor": 0
      },
      "text/plain": [
       "Process 6:   0%|          | 0/253732 [00:00<?, ?it/s]"
      ]
     },
     "metadata": {},
     "output_type": "display_data"
    },
    {
     "name": "stdout",
     "output_type": "stream",
     "text": [
      " "
     ]
    },
    {
     "data": {
      "application/vnd.jupyter.widget-view+json": {
       "model_id": "0a7b4e49c8b84871802cd7a84e6244fe",
       "version_major": 2,
       "version_minor": 0
      },
      "text/plain": [
       "Process 7:   0%|          | 0/273249 [00:00<?, ?it/s]"
      ]
     },
     "metadata": {},
     "output_type": "display_data"
    },
    {
     "name": "stdout",
     "output_type": "stream",
     "text": [
      " "
     ]
    },
    {
     "data": {
      "application/vnd.jupyter.widget-view+json": {
       "model_id": "97277dbbe54349b1b6226dd4e063c7ee",
       "version_major": 2,
       "version_minor": 0
      },
      "text/plain": [
       "Process 8:   0%|          | 0/292767 [00:00<?, ?it/s]"
      ]
     },
     "metadata": {},
     "output_type": "display_data"
    },
    {
     "name": "stdout",
     "output_type": "stream",
     "text": [
      " "
     ]
    },
    {
     "data": {
      "application/vnd.jupyter.widget-view+json": {
       "model_id": "1faedb12d01d4e09ba6374fc3af88e3c",
       "version_major": 2,
       "version_minor": 0
      },
      "text/plain": [
       "Process 9:   0%|          | 0/312285 [00:00<?, ?it/s]"
      ]
     },
     "metadata": {},
     "output_type": "display_data"
    },
    {
     "name": "stdout",
     "output_type": "stream",
     "text": [
      " "
     ]
    },
    {
     "data": {
      "application/vnd.jupyter.widget-view+json": {
       "model_id": "8b51cba1ccac42afa9769b9588fe8779",
       "version_major": 2,
       "version_minor": 0
      },
      "text/plain": [
       "Process 10:   0%|          | 0/331803 [00:00<?, ?it/s]"
      ]
     },
     "metadata": {},
     "output_type": "display_data"
    },
    {
     "name": "stdout",
     "output_type": "stream",
     "text": [
      " "
     ]
    },
    {
     "data": {
      "application/vnd.jupyter.widget-view+json": {
       "model_id": "15a446b74ee348c49094b7cb70d25a31",
       "version_major": 2,
       "version_minor": 0
      },
      "text/plain": [
       "Process 11:   0%|          | 0/351321 [00:00<?, ?it/s]"
      ]
     },
     "metadata": {},
     "output_type": "display_data"
    },
    {
     "name": "stdout",
     "output_type": "stream",
     "text": [
      " "
     ]
    },
    {
     "data": {
      "application/vnd.jupyter.widget-view+json": {
       "model_id": "0d8a29dd3d7e476b87f0ad18c9717cc7",
       "version_major": 2,
       "version_minor": 0
      },
      "text/plain": [
       "Process 12:   0%|          | 0/370839 [00:00<?, ?it/s]"
      ]
     },
     "metadata": {},
     "output_type": "display_data"
    },
    {
     "name": "stdout",
     "output_type": "stream",
     "text": [
      " "
     ]
    },
    {
     "data": {
      "application/vnd.jupyter.widget-view+json": {
       "model_id": "dc967ad7dbe64551a9f9c7bd8040d3ea",
       "version_major": 2,
       "version_minor": 0
      },
      "text/plain": [
       "Process 13:   0%|          | 0/390357 [00:00<?, ?it/s]"
      ]
     },
     "metadata": {},
     "output_type": "display_data"
    },
    {
     "name": "stdout",
     "output_type": "stream",
     "text": [
      " "
     ]
    },
    {
     "data": {
      "application/vnd.jupyter.widget-view+json": {
       "model_id": "348a9492760744cf81dba04cc6c5ab88",
       "version_major": 2,
       "version_minor": 0
      },
      "text/plain": [
       "Process 14:   0%|          | 0/409874 [00:00<?, ?it/s]"
      ]
     },
     "metadata": {},
     "output_type": "display_data"
    }
   ],
   "source": [
    "waves2 = ut.multiprocess_sim(assays, 4)\n",
    "#assays[0].run()"
   ]
  },
  {
   "cell_type": "code",
   "execution_count": 10,
   "metadata": {},
   "outputs": [],
   "source": [
    "speeds2 = []\n",
    "for i in range(len(D_list2)):\n",
    "    speeds2.append(np.mean(waves2[i].traj.speed(50)[-20:]))"
   ]
  },
  {
   "cell_type": "code",
   "execution_count": 11,
   "metadata": {},
   "outputs": [
    {
     "data": {
      "image/png": "[encoded data removed]",
      "text/plain": [
       "<Figure size 252x144 with 2 Axes>"
      ]
     },
     "metadata": {
      "needs_background": "light"
     },
     "output_type": "display_data"
    }
   ],
   "source": [
    "fig, ax1 = plt.subplots(figsize=(3.5,2))\n",
    "ax2 = plt.twinx(ax1)\n",
    "\n",
    "ax1.plot(D_list2, speeds2)\n",
    "ax1.plot(np.ones(2)*0.00016950119025888893, [min(speeds2), max(speeds2)], c='k', ls='--', lw=3)\n",
    "\n",
    "ax2.plot(D_list2, b_zero*(1-lambd*D_list2))\n",
    "plt.tight_layout()\n",
    "\n",
    "plt.savefig('mut_rate_speed_fitn_large.svg', dpi=200)"
   ]
  },
  {
   "cell_type": "code",
   "execution_count": 44,
   "metadata": {},
   "outputs": [],
   "source": [
    "def plot_wave(ax1, ax2, w, fontsize=12):\n",
    "    ax1, ax11 = plotter.plot_populations(ax1, w)\n",
    "    ax1.set_xlim(0, w.p.n_x_bins*w.p.dx)\n",
    "    try:\n",
    "        ax2, ax22 = plotter.plot_fitness(ax2, w)\n",
    "        ax2.set_title('dx=%g, n x bins=%g'%(w.p.dx, w.p.n_x_bins), fontsize=fontsize)\n",
    "    except ValueError:\n",
    "        pass\n",
    "    ax11.set_yscale('log')\n",
    "    return ax1, ax2"
   ]
  },
  {
   "cell_type": "code",
   "execution_count": 37,
   "metadata": {},
   "outputs": [
    {
     "data": {
      "image/png": "[encoded data removed]",
      "text/plain": [
       "<Figure size 576x288 with 4 Axes>"
      ]
     },
     "metadata": {
      "needs_background": "light"
     },
     "output_type": "display_data"
    }
   ],
   "source": [
    "fig, (ax1, ax2) = plt.subplots(1,2, figsize=(8,4))\n",
    "\n",
    "ax = plot_wave(ax1, ax2, waves2[0])\n",
    "plt.tight_layout()"
   ]
  },
  {
   "cell_type": "code",
   "execution_count": 25,
   "metadata": {},
   "outputs": [
    {
     "data": {
      "text/plain": [
       "5.631578947368421e-05"
      ]
     },
     "execution_count": 25,
     "metadata": {},
     "output_type": "execute_result"
    }
   ],
   "source": [
    "waves2[4].p.D_coef"
   ]
  },
  {
   "cell_type": "code",
   "execution_count": null,
   "metadata": {},
   "outputs": [],
   "source": []
  }
 ],
 "metadata": {
  "kernelspec": {
   "display_name": "Python 3",
   "language": "python",
   "name": "python3"
  },
  "language_info": {
   "codemirror_mode": {
    "name": "ipython",
    "version": 3
   },
   "file_extension": ".py",
   "mimetype": "text/x-python",
   "name": "python",
   "nbconvert_exporter": "python",
   "pygments_lexer": "ipython3",
   "version": "3.8.8"
  }
 },
 "nbformat": 4,
 "nbformat_minor": 4
}
