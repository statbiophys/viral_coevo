{
 "cells": [
  {
   "cell_type": "code",
   "execution_count": 1,
   "id": "5818d9b6-87e1-439d-846c-00b1ec556e91",
   "metadata": {},
   "outputs": [],
   "source": [
    "import numpy as np\n",
    "import matplotlib.pyplot as plt\n",
    "import sys\n",
    "sys.path.insert(0, '../src/')\n",
    "import plotter"
   ]
  },
  {
   "cell_type": "markdown",
   "id": "8640f995-dbd2-4b42-8c44-433e1a60a103",
   "metadata": {},
   "source": [
    "## Importing data points"
   ]
  },
  {
   "cell_type": "code",
   "execution_count": 52,
   "id": "6c354d89-ff94-402f-a7df-d14a4832ca5e",
   "metadata": {},
   "outputs": [],
   "source": [
    "f = open('data/ES_mut_rate_Dx=0.5.tsv', 'r')\n",
    "dx1 = 0.5\n",
    "\n",
    "r0_list1, f_tips1, s_tips1 = np.array([]), np.array([]), np.array([])\n",
    "D_list1, D_tip1, D_FKPP1, D_lin1 = np.array([]), np.array([]), np.array([]), np.array([])\n",
    "for line in f.readlines():\n",
    "    if line[0] == '#':\n",
    "        continue\n",
    "        \n",
    "    r0_list1 = np.append(r0_list1, float(line.split('\\t')[0]))\n",
    "    D_list1 = np.append(D_list1, float(line.split('\\t')[1]))\n",
    "    D_tip1 = np.append(D_tip1, float(line.split('\\t')[2]))\n",
    "    f_tips1 = np.append(f_tips1, float(line.split('\\t')[3]))\n",
    "    s_tips1 = np.append(s_tips1, float(line.split('\\t')[4]))\n",
    "    D_FKPP1 = np.append(D_FKPP1, float(line.split('\\t')[5]))\n",
    "    if line.split('\\t')[6] == '':\n",
    "        D_lin1 = np.append(D_lin1, float('nan'))\n",
    "    else:\n",
    "        D_lin1 = np.append(D_lin1, float(line.split('\\t')[6]))\n",
    "    \n",
    "f.close()\n",
    "\n",
    "f = open('data/ES_mut_rate_Dx=0.5_pars.tsv', 'r')\n",
    "l1 = float(f.readlines()[1].split('\\t')[1])\n",
    "f.close()\n",
    "\n",
    "\n",
    "f = open('data/ES_mut_rate_Dx=1.tsv', 'r')\n",
    "dx2 = 1\n",
    "\n",
    "r0_list2, f_tips2, s_tips2 = np.array([]), np.array([]), np.array([])\n",
    "D_list2, D_tip2, D_FKPP2, D_lin2 = np.array([]), np.array([]), np.array([]), np.array([])\n",
    "for line in f.readlines():\n",
    "    if line[0] == '#':\n",
    "        continue\n",
    "        \n",
    "    r0_list2 = np.append(r0_list2, float(line.split('\\t')[0]))\n",
    "    D_list2 = np.append(D_list2, float(line.split('\\t')[1]))\n",
    "    D_tip2 = np.append(D_tip2, float(line.split('\\t')[2]))\n",
    "    f_tips2 = np.append(f_tips2, float(line.split('\\t')[3]))\n",
    "    s_tips2 = np.append(s_tips2, float(line.split('\\t')[4]))\n",
    "    D_FKPP2 = np.append(D_FKPP2, float(line.split('\\t')[5]))\n",
    "    if line.split('\\t')[6] == '':\n",
    "        D_lin2 = np.append(D_lin2, float('nan'))\n",
    "    else:\n",
    "        D_lin2 = np.append(D_lin2, float(line.split('\\t')[6]))\n",
    "    \n",
    "f.close()\n",
    "\n",
    "f = open('data/ES_mut_rate_Dx=1_pars.tsv', 'r')\n",
    "lines = f.readlines()\n",
    "l2 = float(lines[1].split('\\t')[1])\n",
    "gamma = float(lines[4].split('\\t')[1])\n",
    "f.close()\n",
    "\n",
    "\n",
    "f = open('data/ES_mut_rate_Dx=2.tsv', 'r')\n",
    "dx3 = 2\n",
    "\n",
    "r0_list3, f_tips3, s_tips3 = np.array([]), np.array([]), np.array([])\n",
    "D_list3, D_tip3, D_FKPP3, D_lin3 = np.array([]), np.array([]), np.array([]), np.array([])\n",
    "for line in f.readlines():\n",
    "    if line[0] == '#':\n",
    "        continue\n",
    "        \n",
    "    r0_list3 = np.append(r0_list3, float(line.split('\\t')[0]))\n",
    "    D_list3 = np.append(D_list3, float(line.split('\\t')[1]))\n",
    "    D_tip3 = np.append(D_tip3, float(line.split('\\t')[2]))\n",
    "    f_tips3 = np.append(f_tips3, float(line.split('\\t')[3]))\n",
    "    s_tips3 = np.append(s_tips3, float(line.split('\\t')[4]))\n",
    "    D_FKPP3 = np.append(D_FKPP3, float(line.split('\\t')[5]))\n",
    "    if line.split('\\t')[6] == '':\n",
    "        D_lin3 = np.append(D_lin3, float('nan'))\n",
    "    else:\n",
    "        D_lin3 = np.append(D_lin3, float(line.split('\\t')[6]))\n",
    "    \n",
    "f.close()\n",
    "\n",
    "f = open('data/ES_mut_rate_Dx=2_pars.tsv', 'r')\n",
    "l3 = float(f.readlines()[1].split('\\t')[1])\n",
    "f.close()\n",
    "\n",
    "\n",
    "f = open('data/ES_mut_rate_stoch.tsv', 'r')\n",
    "\n",
    "r0_list_stoch, f_tips_stoch, s_tips_stoch = np.array([]), np.array([]), np.array([])\n",
    "D_list_stoch, D_tip_stoch, D_std = np.array([]), np.array([]), np.array([])\n",
    "for line in f.readlines():\n",
    "    if line[0] == '#':\n",
    "        continue\n",
    "        \n",
    "    r0_list_stoch = np.append(r0_list_stoch, float(line.split('\\t')[0]))\n",
    "    D_list_stoch = np.append(D_list_stoch, float(line.split('\\t')[1]))\n",
    "    D_std = np.append(D_std, float(line.split('\\t')[2]))\n",
    "    D_tip_stoch = np.append(D_tip_stoch, float(line.split('\\t')[3]))\n",
    "    f_tips_stoch = np.append(f_tips_stoch, float(line.split('\\t')[4]))\n",
    "    s_tips_stoch = np.append(s_tips_stoch, float(line.split('\\t')[5]))\n",
    "    \n",
    "f.close()\n",
    "\n",
    "f = open('data/ES_mut_rate_stoch_pars.tsv', 'r')\n",
    "lines = f.readlines()\n",
    "l_stoch = float(lines[1].split('\\t')[1])\n",
    "gamma_stoch = float(lines[4].split('\\t')[1])\n",
    "f.close()"
   ]
  },
  {
   "cell_type": "markdown",
   "id": "5df0ff15-f015-42e2-9dc1-f7580bfa9483",
   "metadata": {},
   "source": [
    "## Panel A"
   ]
  },
  {
   "cell_type": "code",
   "execution_count": 55,
   "id": "99838146-f542-43ad-aa67-6a1f5ae36c80",
   "metadata": {},
   "outputs": [
    {
     "data": {
      "image/png": "[encoded data removed]",
      "text/plain": [
       "<Figure size 432x216 with 1 Axes>"
      ]
     },
     "metadata": {
      "needs_background": "light"
     },
     "output_type": "display_data"
    }
   ],
   "source": [
    "plt.figure(figsize=(6,3))\n",
    "plt.xscale('log')\n",
    "plt.yscale('log')\n",
    "plt.xlabel(r'$\\lambda r_0^2$', fontsize=12)\n",
    "plt.ylabel(r'$D^*/r_0^2$', fontsize=12)\n",
    "\n",
    "\n",
    "plt.scatter(l1*r0_list1**2, D_list1/r0_list1**2, marker='o', facecolor='none', edgecolor='b', s=60, label=r'$\\lambda$ = %g'%l1)\n",
    "plt.scatter(l2*r0_list2**2, D_list2/r0_list2**2, marker='s', s=60, facecolor='none', edgecolor='#a2cffe', label=r'$\\lambda$ = %g'%l2)\n",
    "plt.scatter(l3*r0_list3**2, D_list3/r0_list3**2, marker='v', edgecolor='#2c6fbb', s=60, facecolor='none', label=r'$\\lambda$ = %g'%l3)\n",
    "plt.legend(fontsize=12)\n",
    "\n",
    "plt.plot((l2*r0_list2**2)[r0_list2 > 2], D_lin2[r0_list2 > 2]/(r0_list2[r0_list2 > 2]**2), c='k', ls='--', lw=3)\n",
    "plt.plot((l2*r0_list2**2)[r0_list2 < 5], D_FKPP2[r0_list2 < 5]/(r0_list2[r0_list2 < 5]**2), c='k', ls=':', lw=3)\n",
    "\n",
    "plt.savefig('plots/es_mut_rate_lambda.svg', dpi=200)"
   ]
  },
  {
   "cell_type": "markdown",
   "id": "8dda82c8-ceb6-4565-959e-a9dcb67f363b",
   "metadata": {},
   "source": [
    "## Panel A inset"
   ]
  },
  {
   "cell_type": "code",
   "execution_count": 53,
   "id": "6dac8682-afd6-486d-b5e3-944871d3b35c",
   "metadata": {},
   "outputs": [],
   "source": [
    "lD = l2 * np.array(D_list2)\n",
    "sigm = -2.3381 * (D_list2*s_tips2**2)**(1/3)\n",
    "y = (2*(f_tips2 + sigm) + gamma)* lD\n",
    "x = f_tips2 + sigm*4/3\n",
    "\n",
    "lD_st = l_stoch * np.array(D_list_stoch)\n",
    "sigm_st = -2.3381 * (D_list_stoch*s_tips_stoch**2)**(1/3)\n",
    "y_st = (2*(f_tips_stoch + sigm_st) + gamma_stoch)* lD_st\n",
    "x_st = f_tips_stoch + sigm_st*4/3"
   ]
  },
  {
   "cell_type": "code",
   "execution_count": 54,
   "id": "7e15a771-b9e9-4534-85d6-68ed81913be0",
   "metadata": {},
   "outputs": [
    {
     "data": {
      "image/png": "[encoded data removed]",
      "text/plain": [
       "<Figure size 180x216 with 1 Axes>"
      ]
     },
     "metadata": {
      "needs_background": "light"
     },
     "output_type": "display_data"
    }
   ],
   "source": [
    "fig, ax1 = plt.subplots(1,1,figsize=(2.5,3))\n",
    "\n",
    "ax1.scatter(x, y, marker='o', facecolor='none', edgecolor='b', s=60)\n",
    "ax1.scatter(x_st[3:], y_st[3:], c='g', marker='x')\n",
    "    \n",
    "xs = np.linspace(min(x), max(x))\n",
    "ax1.plot(xs, xs, c='k')\n",
    "\n",
    "ax1.set_xlabel(r'$F_T^* + 4\\sigma_T^* / 3$', fontsize=14)\n",
    "ax1.set_ylabel(r'$\\lambda D^* ( 2 (F_T^* + \\sigma_T^*) + \\gamma)$', fontsize=14)\n",
    "\n",
    "plt.tight_layout()\n",
    "\n",
    "plt.savefig('plots/es_mutrate_relation.svg')"
   ]
  },
  {
   "cell_type": "markdown",
   "id": "1ada9f05-d048-49ba-9867-482f8be0b7e9",
   "metadata": {},
   "source": [
    "## Panel B "
   ]
  },
  {
   "cell_type": "code",
   "execution_count": 59,
   "id": "937fbfc8-fdaa-43d2-a659-9daefcf3e7cf",
   "metadata": {},
   "outputs": [],
   "source": [
    "f = open('data/speed_R0_vs_D_FKPP.tsv', 'r')\n",
    "\n",
    "D_list, speeds, R0s = np.array([]), np.array([]), np.array([])\n",
    "for line in f.readlines():\n",
    "    if line[0] == '#':\n",
    "        continue\n",
    "    \n",
    "    D_list = np.append(D_list, float(line.split('\\t')[0]))\n",
    "    speeds = np.append(speeds, float(line.split('\\t')[1]))\n",
    "    R0s = np.append(R0s, float(line.split('\\t')[2]))\n",
    "    \n",
    "f.close()\n",
    "\n",
    "f = open('data/speed_R0_vs_D_linfit.tsv', 'r')\n",
    "\n",
    "D_list2, speeds2, R0s2 = np.array([]), np.array([]), np.array([])\n",
    "for line in f.readlines():\n",
    "    if line[0] == '#':\n",
    "        continue\n",
    "    \n",
    "    D_list2 = np.append(D_list2, float(line.split('\\t')[0]))\n",
    "    speeds2 = np.append(speeds2, float(line.split('\\t')[1]))\n",
    "    R0s2 = np.append(R0s2, float(line.split('\\t')[2]))\n",
    "    \n",
    "f.close()"
   ]
  },
  {
   "cell_type": "code",
   "execution_count": 61,
   "id": "55059fb3-e30b-41b6-ad9c-2ffd643a6165",
   "metadata": {},
   "outputs": [
    {
     "data": {
      "image/png": "[encoded data removed]",
      "text/plain": [
       "<Figure size 252x144 with 2 Axes>"
      ]
     },
     "metadata": {
      "needs_background": "light"
     },
     "output_type": "display_data"
    }
   ],
   "source": [
    "fig, ax1 = plt.subplots(figsize=(3.5,2))\n",
    "ax2 = plt.twinx(ax1)\n",
    "\n",
    "ax1.plot(D_list, speeds)\n",
    "ax1.plot(np.ones(2)*0.0004863498242628905, [min(speeds), max(speeds)], c='k', ls='--', lw=3)\n",
    "\n",
    "ax2.plot(D_list, R0s)\n",
    "plt.tight_layout()\n",
    "\n",
    "plt.savefig('plots/speed_R0_vs_D_FKPP.svg')"
   ]
  },
  {
   "cell_type": "code",
   "execution_count": null,
   "id": "db102d39-3afd-4e0c-a0ff-84c516f604b1",
   "metadata": {},
   "outputs": [],
   "source": [
    "fig, ax1 = plt.subplots(figsize=(3.5,2))\n",
    "ax2 = plt.twinx(ax1)\n",
    "\n",
    "ax1.plot(D_list2, speeds2)\n",
    "ax1.plot(np.ones(2)*0.00016950119025888893, [min(speeds2), max(speeds2)], c='k', ls='--', lw=3)\n",
    "\n",
    "ax2.plot(D_list2, b_zero*np.exp(-lambd*D_list2))\n",
    "plt.tight_layout()\n",
    "\n",
    "plt.savefig('plots/speed_R0_vs_D_linfit.svg')"
   ]
  }
 ],
 "metadata": {
  "kernelspec": {
   "display_name": "Python 3",
   "language": "python",
   "name": "python3"
  },
  "language_info": {
   "codemirror_mode": {
    "name": "ipython",
    "version": 3
   },
   "file_extension": ".py",
   "mimetype": "text/x-python",
   "name": "python",
   "nbconvert_exporter": "python",
   "pygments_lexer": "ipython3",
   "version": "3.8.8"
  }
 },
 "nbformat": 4,
 "nbformat_minor": 5
}
