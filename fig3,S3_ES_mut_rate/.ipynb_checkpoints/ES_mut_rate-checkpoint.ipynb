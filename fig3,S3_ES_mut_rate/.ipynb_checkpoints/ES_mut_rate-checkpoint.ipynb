{
 "cells": [
  {
   "cell_type": "code",
   "execution_count": 3,
   "metadata": {},
   "outputs": [],
   "source": [
    "import numpy as np\n",
    "import matplotlib.pyplot as plt\n",
    "import sys\n",
    "sys.path.insert(0, '../src/')\n",
    "import wave_mut_rate as wD\n",
    "import utils as ut\n",
    "import plotter\n",
    "import numba_functions as nbf\n",
    "import numba as nb\n",
    "from copy import deepcopy\n",
    "from scipy.optimize import brentq\n",
    "import pickle"
   ]
  },
  {
   "cell_type": "code",
   "execution_count": 4,
   "metadata": {},
   "outputs": [],
   "source": [
    "def est1f(d):\n",
    "    return -l*d*(f+a) + f\n",
    "\n",
    "def est2f(d):\n",
    "    k = -2.3381 * (d*s**2)**(1/3)\n",
    "    return -l*(f+a) + (k/3 + v**2/4/d)/d - 2/3*k*l\n",
    "\n",
    "def est3f(d):\n",
    "    k = -2.3381 * (d*s**2)**(1/3)\n",
    "    return -l*(f+a) + (4*k/3 + f)/d - 2/3*k*l"
   ]
  },
  {
   "cell_type": "markdown",
   "metadata": {},
   "source": [
    "## r0 scan"
   ]
  },
  {
   "cell_type": "code",
   "execution_count": 6,
   "metadata": {},
   "outputs": [],
   "source": [
    "r0_list = np.logspace(np.log10(0.05), np.log10(10), 25)\n",
    "lambd = 5000\n",
    "stoch, cutoff = False, 1"
   ]
  },
  {
   "cell_type": "code",
   "execution_count": 10,
   "metadata": {},
   "outputs": [],
   "source": [
    "def build_assay_wave(id_, r0, Ds, beta=2, lambd=5000, gamma=1, cutoff=1, n_D_bins=150, time=20000, eps=2e-16, stoch=False):\n",
    "    dx = ut.lin_from_two_points(np.log(r0), np.log(0.025), 0.002, np.log(1), 0.01)\n",
    "    dt = ut.dt_from_cfl(0.03, 1e-5, dx)\n",
    "\n",
    "    p = wD.Vwave_mut_rate_pars(id_, tot_time=time, dt=dt, dx=dx, \n",
    "                     n_x_bins=int( ut.lin_from_two_points(r0, 0.01, 5, 1, 80)/dx ), \n",
    "                     M=5, r0=r0, alpha=0, beta=beta, gamma=gamma, lambd=lambd,\n",
    "                     n_D_bins=n_D_bins, eps=eps, Ds=Ds, D0_i=int(n_D_bins/2),\n",
    "                     Nh=10**12, N0=10**10, cutoff=cutoff,\n",
    "                     t_burn=ut.lin_from_two_points(r0, 0.05, 250, 10, 10000), \n",
    "                     t_burn_cutoff=ut.lin_from_two_points(r0, 0.05, 70, 5, 1000), \n",
    "                     back_width_fract=ut.lin_from_two_points(np.log(r0), np.log(0.01), 0.01, np.log(10), 5),\n",
    "                     traj_step=int(20/dt), check_step=0, traj_after_burn=True, verbose=True, global_cutoff=True)\n",
    "    \n",
    "    return deepcopy(wD.Vwave_mut_rate(p, stoch))"
   ]
  },
  {
   "cell_type": "markdown",
   "metadata": {},
   "source": [
    "### Low values of r0"
   ]
  },
  {
   "cell_type": "code",
   "execution_count": 11,
   "metadata": {},
   "outputs": [
    {
     "name": "stdout",
     "output_type": "stream",
     "text": [
      "[0.05       0.06235141 0.07775396 0.09696137 0.12091356 0.15078261\n",
      " 0.18803015 0.23447889 0.29240177 0.36463324 0.4547079  0.56703355\n",
      " 0.70710678 0.88178205]\n"
     ]
    }
   ],
   "source": [
    "r0_list_low = r0_list[:14]\n",
    "print(r0_list_low)"
   ]
  },
  {
   "cell_type": "code",
   "execution_count": 12,
   "metadata": {},
   "outputs": [],
   "source": [
    "n_D_bins = 250\n",
    "Ds_low = np.linspace(3.6e-5,6.6e-5, n_D_bins)\n",
    "eps = 1e-16\n",
    "time = 50000"
   ]
  },
  {
   "cell_type": "code",
   "execution_count": 13,
   "metadata": {},
   "outputs": [],
   "source": [
    "assays = []\n",
    "for i, r0 in enumerate(r0_list_low):\n",
    "    assays.append(build_assay_wave(i, r0, Ds_low, lambd=lambd, n_D_bins=n_D_bins, time=time, eps=eps, stoch=False))\n",
    "    \n",
    "waves1 = ut.multiprocess_sim(assays, 2)"
   ]
  },
  {
   "cell_type": "markdown",
   "metadata": {},
   "source": [
    "### Large values"
   ]
  },
  {
   "cell_type": "code",
   "execution_count": 7,
   "metadata": {},
   "outputs": [
    {
     "name": "stdout",
     "output_type": "stream",
     "text": [
      "[1.09960702 1.37124088 1.70997595 2.13238811 2.65914795 3.31603229\n",
      " 4.13518554]\n"
     ]
    }
   ],
   "source": [
    "r0_list_large = r0_list[14:21]\n",
    "print(r0_list_large)"
   ]
  },
  {
   "cell_type": "code",
   "execution_count": null,
   "metadata": {},
   "outputs": [],
   "source": [
    "n_D_bins = 250\n",
    "Ds_large = np.linspace(1.2e-5,4.8e-5, n_D_bins)"
   ]
  },
  {
   "cell_type": "code",
   "execution_count": null,
   "metadata": {},
   "outputs": [],
   "source": [
    "assays = []\n",
    "for i, r0 in enumerate(r0_list_large):\n",
    "    assays.append(build_assay_wave(i, r0, Ds_large, lambd=lambd, gamma=1, n_D_bins=n_D_bins, time=time, eps=eps, stoch=False))\n",
    "    \n",
    "waves2 = ut.multiprocess_sim(assays, 2)"
   ]
  },
  {
   "cell_type": "markdown",
   "metadata": {},
   "source": [
    "### Large large values"
   ]
  },
  {
   "cell_type": "code",
   "execution_count": 8,
   "metadata": {},
   "outputs": [
    {
     "name": "stdout",
     "output_type": "stream",
     "text": [
      "[5.15669269 6.43054083 8.0190653 ]\n"
     ]
    }
   ],
   "source": [
    "r0_list_largelarge = r0_list[21:24]\n",
    "print(r0_list_largelarge)"
   ]
  },
  {
   "cell_type": "code",
   "execution_count": 9,
   "metadata": {},
   "outputs": [],
   "source": [
    "n_D_bins = 500\n",
    "Ds_large = np.linspace(0,2e-5, n_D_bins)"
   ]
  },
  {
   "cell_type": "code",
   "execution_count": null,
   "metadata": {},
   "outputs": [],
   "source": [
    "assays = []\n",
    "for i, r0 in enumerate(r0_list_largelarge):\n",
    "    assays.append(build_assay_wave(i, r0, Ds_large, lambd=lambd, gamma=1, n_D_bins=n_D_bins, time=time, eps=eps, stoch=False))\n",
    "    \n",
    "waves3 = ut.multiprocess_sim(assays, 2)"
   ]
  },
  {
   "cell_type": "markdown",
   "metadata": {},
   "source": [
    "## Trajectory check"
   ]
  },
  {
   "cell_type": "code",
   "execution_count": 15,
   "metadata": {},
   "outputs": [
    {
     "data": {
      "image/png": "[encoded data removed]",
      "text/plain": [
       "<Figure size 648x252 with 2 Axes>"
      ]
     },
     "metadata": {
      "needs_background": "light"
     },
     "output_type": "display_data"
    }
   ],
   "source": [
    "fig, (ax1, ax2) = plt.subplots(1,2,figsize=(9,3.5))\n",
    "mean_D, max_D = [], []\n",
    "speeds, f_tips, s_tips = np.array([]),np.array([]), np.array([])\n",
    "est2, est3 = np.array([]), np.array([])\n",
    "for w in waves:\n",
    "    speeds = np.append(speeds, np.mean(w.traj.speed(10)[-200:]))\n",
    "    f_tips = np.append(f_tips, np.mean(w.traj.f_tip[-200:]))\n",
    "    s_tips = np.append(s_tips, np.mean(w.traj.s_tip[-200:]))\n",
    "    mean_D.append(w.traj.mean_D[-1]),\n",
    "    max_D.append(w.traj.max_D[-1])\n",
    "    ax1.plot(w.traj.times - w.p.t_burn, w.traj.mean_D)\n",
    "    std = w.traj.std_D\n",
    "    ax1.fill_between(w.traj.times - w.p.t_burn, w.traj.mean_D-std, w.traj.mean_D+std, alpha=0.3)\n",
    "    ax2.plot(w.traj.times - w.p.t_burn, w.traj.f_tip)\n",
    "    \n",
    "    a, l = w.p.alpha+w.p.gamma, w.p.lambd\n",
    "    v, f, s = speeds[-1], f_tips[-1], s_tips[-1]\n",
    "    est2 = np.append(est2, brentq(est2f, 5e-6, 1e-4))\n",
    "    est3 = np.append(est3, brentq(est3f, 5e-6, 1e-4))"
   ]
  },
  {
   "cell_type": "markdown",
   "metadata": {},
   "source": [
    "### ES analysis"
   ]
  },
  {
   "cell_type": "code",
   "execution_count": 19,
   "metadata": {},
   "outputs": [],
   "source": [
    "assay_list = [waves1, waves2, waves3]\n",
    "assays_len = [len(ws) for ws in assay_list]\n",
    "L = np.sum(assays_len)"
   ]
  },
  {
   "cell_type": "code",
   "execution_count": 71,
   "metadata": {},
   "outputs": [],
   "source": [
    "def D_FKPP_f(d):\n",
    "    return 1 - np.exp(lambd*d)*a/b - lambd*d\n",
    "    \n",
    "def D_lin_f(d):\n",
    "    k = -2.3381 * (d*s_lin**2)**(1/3)\n",
    "    return -2*k*l/3 + (k/3 + v_lin**2/4/d)/d - l*(v_lin**2/4/d - k + a)\n",
    "\n",
    "def vtau_lin(p, meanD):\n",
    "    return p.r0*((p.beta*np.exp(-p.lambd*meanD)/(p.alpha + p.gamma))**(1/p.M) - 1)**(-1)\n",
    "\n",
    "def sel_coef_lin(p, meanD):\n",
    "    return (p.alpha + p.gamma)*p.M/vtau_lin(p, meanD)\n",
    "\n",
    "def speed_lin(p, size, meanD):\n",
    "    s = sel_coef_lin(p, meanD)\n",
    "    d_inv = (s/meanD)**(1/3)\n",
    "    eps0 = - 2.3381\n",
    "    r = size/cutoff\n",
    "    aux = 3*np.log(r*d_inv)\n",
    "    return 2*meanD*d_inv*(aux**(1/3) + eps0*aux**(-1/3))\n",
    "\n",
    "def size_lin(p, meanD):\n",
    "    vtau = vtau_lin(p, meanD)\n",
    "    def _Neq(x, p, vtau):\n",
    "        return (vtau - speed_lin(p, x, meanD)*p.M*p.Nh/x)\n",
    "    return brentq(_Neq, 1e4, p.Nh*1000, args = (p, vtau))"
   ]
  },
  {
   "cell_type": "code",
   "execution_count": 72,
   "metadata": {},
   "outputs": [],
   "source": [
    "mean_D = np.array([])\n",
    "speeds, f_tips, s_tips = np.array([]), np.array([]), np.array([])\n",
    "est2, est3 = np.array([]), np.array([])\n",
    "D_FKPP, D_lin = np.array([]), np.array([])\n",
    "\n",
    "ns, vs = np.array([]), np.array([])\n",
    "for ass in assay_list:\n",
    "    for i, w in enumerate(ass):\n",
    "        speeds = np.append(speeds, np.mean(w.traj.speed(10)[-100:]))\n",
    "        f_tips = np.append(f_tips, np.mean(w.traj.f_tip[-100:]))\n",
    "        s_tips = np.append(s_tips, np.mean(w.traj.s_tip[-100:]))\n",
    "        mean_D = np.append(mean_D, np.mean(w.traj.mean_D[-1]))\n",
    "\n",
    "        a, l, b = w.p.alpha+w.p.gamma, w.p.lambd, w.p.beta\n",
    "        v, f, s = speeds[-1], f_tips[-1], s_tips[-1]\n",
    "        est2 = np.append(est2, brentq(est2f, 5e-6, 1e-4))\n",
    "        est3 = np.append(est3, brentq(est3f, 5e-6, 1e-4))\n",
    "        \n",
    "        n = size_lin(w.p, mean_D[-1])\n",
    "        ns = np.append(ns, n)\n",
    "        v_lin = speed_lin(w.p, n, mean_D[-1])\n",
    "        s_lin = sel_coef_lin(w.p, ut.vtau_lin_mutrate(w.p))\n",
    "        vs = np.append(vs, v_lin)\n",
    "        D_lin = np.append(D_lin, brentq(D_lin_f, 1e-6, 1e-3))\n",
    "        D_FKPP = np.append(D_FKPP, brentq(D_FKPP_f, 5e-6, 1e-4))"
   ]
  },
  {
   "cell_type": "code",
   "execution_count": null,
   "metadata": {},
   "outputs": [],
   "source": [
    "plt.figure(figsize=(6,3))\n",
    "plt.xscale('log')\n",
    "plt.scatter(r0_list[:-1], mean_D, c='b', label='average D')\n",
    "\n",
    "est1 = f_tips/lambd/(f_tips + a)\n",
    "#plt.plot(r0_list[:-1], est1)\n",
    "#plt.plot(r0_list[:-1], est2)\n",
    "#plt.plot(r0_list[:-1], est3)\n",
    "#plt.plot(r0_list[:-1], np.ones(len(r0_list)-1)*np.log(2)/lambd)\n",
    "i_FKPP_end = 13\n",
    "plt.plot(r0_list[:i_FKPP_end], D_FKPP[:i_FKPP_end], c='k', ls=':', lw=2)\n",
    "i_lin_start = 10\n",
    "plt.plot(r0_list[i_lin_start:-1], D_lin[i_lin_start:], c='k', ls='--', lw=2)\n",
    "plt.plot()\n",
    "plt.xlabel('$r_0$', fontsize=12)\n",
    "plt.ylabel(r'$D*$', fontsize=12)\n",
    "plt.savefig('es_mut_rate_global_cutoff.svg', dpi=200)"
   ]
  },
  {
   "cell_type": "code",
   "execution_count": null,
   "metadata": {},
   "outputs": [],
   "source": []
  }
 ],
 "metadata": {
  "kernelspec": {
   "display_name": "Python 3",
   "language": "python",
   "name": "python3"
  },
  "language_info": {
   "codemirror_mode": {
    "name": "ipython",
    "version": 3
   },
   "file_extension": ".py",
   "mimetype": "text/x-python",
   "name": "python",
   "nbconvert_exporter": "python",
   "pygments_lexer": "ipython3",
   "version": "3.8.8"
  }
 },
 "nbformat": 4,
 "nbformat_minor": 4
}
