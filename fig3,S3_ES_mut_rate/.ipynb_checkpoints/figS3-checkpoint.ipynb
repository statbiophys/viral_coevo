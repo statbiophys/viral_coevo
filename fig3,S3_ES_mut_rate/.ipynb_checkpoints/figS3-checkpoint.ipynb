{
 "cells": [
  {
   "cell_type": "code",
   "execution_count": 2,
   "id": "5818d9b6-87e1-439d-846c-00b1ec556e91",
   "metadata": {},
   "outputs": [],
   "source": [
    "import numpy as np\n",
    "import matplotlib.pyplot as plt\n",
    "import sys\n",
    "sys.path.insert(0, '../src/')\n",
    "import plotter"
   ]
  },
  {
   "cell_type": "markdown",
   "id": "8640f995-dbd2-4b42-8c44-433e1a60a103",
   "metadata": {},
   "source": [
    "## Importing data points"
   ]
  },
  {
   "cell_type": "code",
   "execution_count": 16,
   "id": "6c354d89-ff94-402f-a7df-d14a4832ca5e",
   "metadata": {},
   "outputs": [],
   "source": [
    "f = open('data/ES_mut_rate_Dx=0.5.tsv', 'r')\n",
    "dx1 = 0.5\n",
    "\n",
    "r0_list1, f_tips1, s_tips1 = np.array([]), np.array([]), np.array([])\n",
    "D_list1, D_tip1, D_FKPP1, D_lin1 = np.array([]), np.array([]), np.array([]), np.array([])\n",
    "for line in f.readlines():\n",
    "    if line[0] == '#':\n",
    "        continue\n",
    "        \n",
    "    r0_list1 = np.append(r0_list1, float(line.split('\\t')[0]))\n",
    "    D_list1 = np.append(D_list1, float(line.split('\\t')[1]))\n",
    "    D_tip1 = np.append(D_tip1, float(line.split('\\t')[2]))\n",
    "    f_tips1 = np.append(f_tips1, float(line.split('\\t')[3]))\n",
    "    s_tips1 = np.append(s_tips1, float(line.split('\\t')[4]))\n",
    "    D_FKPP1 = np.append(D_FKPP1, float(line.split('\\t')[5]))\n",
    "    if line.split('\\t')[6] == '':\n",
    "        D_lin1 = np.append(D_lin1, float('nan'))\n",
    "    else:\n",
    "        D_lin1 = np.append(D_lin1, float(line.split('\\t')[6]))\n",
    "    \n",
    "f.close()\n",
    "\n",
    "\n",
    "f = open('data/ES_mut_rate_Dx=1.tsv', 'r')\n",
    "dx2 = 1\n",
    "\n",
    "r0_list2, f_tips2, s_tips2 = np.array([]), np.array([]), np.array([])\n",
    "D_list2, D_tip2, D_FKPP2, D_lin2 = np.array([]), np.array([]), np.array([]), np.array([])\n",
    "for line in f.readlines():\n",
    "    if line[0] == '#':\n",
    "        continue\n",
    "        \n",
    "    r0_list2 = np.append(r0_list2, float(line.split('\\t')[0]))\n",
    "    D_list2 = np.append(D_list2, float(line.split('\\t')[1]))\n",
    "    D_tip2 = np.append(D_tip2, float(line.split('\\t')[2]))\n",
    "    f_tips2 = np.append(f_tips2, float(line.split('\\t')[3]))\n",
    "    s_tips2 = np.append(s_tips2, float(line.split('\\t')[4]))\n",
    "    D_FKPP2 = np.append(D_FKPP2, float(line.split('\\t')[5]))\n",
    "    if line.split('\\t')[6] == '':\n",
    "        D_lin2 = np.append(D_lin2, float('nan'))\n",
    "    else:\n",
    "        D_lin2 = np.append(D_lin2, float(line.split('\\t')[6]))\n",
    "    \n",
    "f.close()\n",
    "\n",
    "\n",
    "f = open('data/ES_mut_rate_Dx=2.tsv', 'r')\n",
    "dx3 = 2\n",
    "\n",
    "r0_list3, f_tips3, s_tips3 = np.array([]), np.array([]), np.array([])\n",
    "D_list3, D_tip3, D_FKPP3, D_lin3 = np.array([]), np.array([]), np.array([]), np.array([])\n",
    "for line in f.readlines():\n",
    "    if line[0] == '#':\n",
    "        continue\n",
    "        \n",
    "    r0_list3 = np.append(r0_list3, float(line.split('\\t')[0]))\n",
    "    D_list3 = np.append(D_list3, float(line.split('\\t')[1]))\n",
    "    D_tip3 = np.append(D_tip3, float(line.split('\\t')[2]))\n",
    "    f_tips3 = np.append(f_tips3, float(line.split('\\t')[3]))\n",
    "    s_tips3 = np.append(s_tips3, float(line.split('\\t')[4]))\n",
    "    D_FKPP3 = np.append(D_FKPP3, float(line.split('\\t')[5]))\n",
    "    if line.split('\\t')[6] == '':\n",
    "        D_lin3 = np.append(D_lin3, float('nan'))\n",
    "    else:\n",
    "        D_lin3 = np.append(D_lin3, float(line.split('\\t')[6]))\n",
    "    \n",
    "f.close()"
   ]
  },
  {
   "cell_type": "markdown",
   "id": "7cbf1940-f459-4c02-8dd5-49c2b8d35d1b",
   "metadata": {},
   "source": [
    "## Delta x rescaling"
   ]
  },
  {
   "cell_type": "code",
   "execution_count": 28,
   "id": "99838146-f542-43ad-aa67-6a1f5ae36c80",
   "metadata": {},
   "outputs": [
    {
     "data": {
      "image/png": "[encoded data removed]",
      "text/plain": [
       "<Figure size 432x288 with 1 Axes>"
      ]
     },
     "metadata": {
      "needs_background": "light"
     },
     "output_type": "display_data"
    }
   ],
   "source": [
    "plt.xscale('log')\n",
    "plt.xlabel('$r_0/\\Delta x$', fontsize=12)\n",
    "plt.ylabel(r'$U_b^*$', fontsize=12)\n",
    "plt.scatter(r0_list1/dx1, 2*D_list1/dx1**2, marker='o', facecolors='none', edgecolors='r', s=100, label=r'$\\Delta x$ = 0.5')\n",
    "plt.scatter(r0_list2/dx2, 2*D_list2/dx2**2, marker='+', s=100, label=r'$\\Delta x$ = 1')\n",
    "plt.scatter(r0_list3/dx3, 2*D_list3/dx3**2, marker='>', edgecolors='g', facecolors='none', s=100, label=r'$\\Delta x$ = 1')\n",
    "\n",
    "plt.legend()\n",
    "\n",
    "plt.plot(r0_list2[r0_list2 > 2], D_lin2[r0_list2 > 2]*2, c='k', ls='--', lw=2)\n",
    "plt.plot(r0_list2[r0_list2 < 1], D_FKPP2[r0_list2 < 1]*2, c='k', ls=':', lw=2)\n",
    "\n",
    "#r0_FKPP_end = 10\n",
    "#plt.plot(r0s[r0s < r0_FKPP_end], np.ones(len(r0s[r0s < r0_FKPP_end]))*D_FKPP*2, c='k', ls=':', lw=2)\n",
    "\n",
    "plt.savefig('plots/es_mut_rate_Dx.svg', dpi=200)"
   ]
  }
 ],
 "metadata": {
  "kernelspec": {
   "display_name": "Python 3",
   "language": "python",
   "name": "python3"
  },
  "language_info": {
   "codemirror_mode": {
    "name": "ipython",
    "version": 3
   },
   "file_extension": ".py",
   "mimetype": "text/x-python",
   "name": "python",
   "nbconvert_exporter": "python",
   "pygments_lexer": "ipython3",
   "version": "3.8.8"
  }
 },
 "nbformat": 4,
 "nbformat_minor": 5
}
