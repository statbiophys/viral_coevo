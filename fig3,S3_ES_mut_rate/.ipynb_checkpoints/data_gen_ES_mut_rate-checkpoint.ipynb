{
 "cells": [
  {
   "cell_type": "code",
   "execution_count": 1,
   "metadata": {},
   "outputs": [],
   "source": [
    "import numpy as np\n",
    "import matplotlib.pyplot as plt\n",
    "import sys\n",
    "sys.path.insert(0, '../src/')\n",
    "import wave_mut_rate as wD\n",
    "import utils as ut\n",
    "import plotter\n",
    "import pickle\n",
    "from copy import deepcopy\n",
    "from scipy.optimize import brentq"
   ]
  },
  {
   "cell_type": "code",
   "execution_count": 2,
   "metadata": {},
   "outputs": [],
   "source": [
    "class eps_schedule():\n",
    "    \"\"\"\n",
    "    Scheduling of the diffusion coefficient over the mutation rate\n",
    "    \"\"\"\n",
    "    \n",
    "    def __init__(self, first_eps, first_time, decay_exp, decay_scale):\n",
    "        self.first_eps = first_eps\n",
    "        self.first_time = first_time\n",
    "        self.decay_exp = decay_exp\n",
    "        self.decay_scale = decay_scale\n",
    "        \n",
    "    def get(self, t):\n",
    "        if t < self.first_time:\n",
    "            return self.first_eps\n",
    "        else:\n",
    "            t1 = t - self.first_time\n",
    "            return self.first_eps*( self.decay_scale/(t1 + self.decay_scale) )**self.decay_exp\n"
   ]
  },
  {
   "cell_type": "code",
   "execution_count": 3,
   "metadata": {},
   "outputs": [],
   "source": [
    "def build_assay_wave(id_, r0, lambda_tilde, Ds, D_CLF, beta, gamma,  eps=1e-13, time=3000, Delta_x=1):\n",
    "    #dx = ut.lin_from_two_log_points(r0/Delta_x, 0.5, 0.06, 5, 0.1)\n",
    "    dx = ut.lin_from_two_log_points(r0, 0.5, 0.07, 50, 0.22)\n",
    "    dt = ut.dt_from_cfl(0.03, D_CLF, dx)\n",
    "\n",
    "    p = wD.Vwave_mut_rate_pars(id_, tot_time=time, dt=dt, dx=dx, \n",
    "                     n_x_bins=int( ut.lin_from_two_points(r0/Delta_x, 0.25, 200, 50, 5000)/dx ), \n",
    "                     M=5, r0=r0, alpha=0, beta=beta, gamma=gamma, lambda_tilde=lambda_tilde,\n",
    "                     eps=eps, Ds=Ds,\n",
    "                     Nh=10**10, N0=10**8, cutoff=1,\n",
    "                     t_burn=ut.lin_from_two_points(r0/Delta_x, 0.25, 5000, 50, 50000), \n",
    "                     t_burn_cutoff=ut.lin_from_two_points(r0/Delta_x, 0.05, 70, 5, 5000), \n",
    "                     #t_burn=200, t_burn_cutoff=100,\n",
    "                     back_width_fract=ut.lin_from_two_log_points(r0/Delta_x, 0.5, 0.5, 50, 3),\n",
    "                     traj_step=int(50/dt), check_step=int(0/dt), traj_after_burn=True, verbose=True, global_cutoff=True)\n",
    "    \n",
    "    return deepcopy(wD.Vwave_mut_rate(p, False))"
   ]
  },
  {
   "cell_type": "code",
   "execution_count": 4,
   "metadata": {},
   "outputs": [],
   "source": [
    "def D_FKPP_f(p):\n",
    "    return (p.beta - p.alpha - p.gamma)/(2*p.beta*p.lambda_tilde)\n",
    "    \n",
    "    \n",
    "def vtau_lin(p, meanD):\n",
    "    return p.r0*((p.beta*(1 - p.lambda_tilde*meanD)/(p.alpha + p.gamma))**(1/p.M) - 1)**(-1)\n",
    "\n",
    "def sel_coef_lin(p, meanD):\n",
    "    return (p.alpha + p.gamma)*p.M/vtau_lin(p, meanD)\n",
    "\n",
    "def speed_lin(p, size, meanD):\n",
    "    s = sel_coef_lin(p, meanD)\n",
    "    d_inv = (s/meanD)**(1/3)\n",
    "    eps0 = - 2.3381\n",
    "    aux = 3*np.log(size*d_inv)\n",
    "    return 2*meanD*d_inv*(aux**(1/3) + eps0*aux**(-1/3))\n",
    "\n",
    "def size_lin(p, meanD):\n",
    "    vtau = vtau_lin(p, meanD)\n",
    "    def _Neq(x, p, vtau):\n",
    "        return (vtau - speed_lin(p, x, meanD)*p.M*p.Nh/x)\n",
    "    return brentq(_Neq, 1e3, p.Nh*1000, args = (p, vtau))\n",
    "\n",
    "def D_f_lin(p, D_left, D_right):\n",
    "    xi0 = - 2.3381\n",
    "    def f(x):\n",
    "        Ntot = size_lin(p, x)\n",
    "        v = speed_lin(p, Ntot, x)\n",
    "        s = sel_coef_lin(p, x)\n",
    "        k = xi0 * (x*s**2)**(1/3)\n",
    "        f = v**2/4/x - k\n",
    "        return f*(1 - 2*p.lambda_tilde*x) + 2*k*(2/3 - p.lambda_tilde*x) - (p.alpha + p.gamma)*p.lambda_tilde*x\n",
    "    #print(f(D_left), f(D_right))\n",
    "    return brentq(f, D_left, D_right)\n",
    "\n",
    "def estf(d):\n",
    "    k = -2.3381 * (d*s**2)**(1/3)\n",
    "    return f*(1 - 2*l*d) + 2*k*(2/3 - l*d) - (a+g)*l*d"
   ]
  },
  {
   "cell_type": "markdown",
   "metadata": {},
   "source": [
    "## Finding ES mutation coef for different r0"
   ]
  },
  {
   "cell_type": "code",
   "execution_count": 13,
   "metadata": {},
   "outputs": [
    {
     "name": "stdout",
     "output_type": "stream",
     "text": [
      "[ 0.5         0.66985501  0.89741146  1.20227112  1.61069466  2.15786376\n",
      "  2.89091169  3.87298335  5.18867457  6.95131928  9.31275205 12.47638718\n",
      " 16.71474085 22.39290569 30.        ]\n"
     ]
    }
   ],
   "source": [
    "Delta_x = 1\n",
    "beta = 0.05\n",
    "gamma = 0.04\n",
    "lambd = 100\n",
    "c_list = np.logspace(np.log10(0.5), np.log10(30), 15)\n",
    "r0_list = c_list * Delta_x\n",
    "lambda_tilde = 2*lambd/Delta_x**2\n",
    "print(c_list)"
   ]
  },
  {
   "cell_type": "markdown",
   "metadata": {},
   "source": [
    "### We set a naive guess of the ED diffusion coefficient and the domain of D in which it is contained"
   ]
  },
  {
   "cell_type": "code",
   "execution_count": 14,
   "metadata": {},
   "outputs": [],
   "source": [
    "i_change = int(len(c_list)*0.55)\n",
    "D_guess1 = [ut.lin_from_two_log_points(c, 0.5, 5e-4, 5, 3.8e-4) for c in c_list[:i_change]]\n",
    "D_guess2 = [ut.lin_from_two_log_points(c, 5, 3.8e-4, 50, 0.5e-4) for c in c_list[i_change:]]\n",
    "D_guess = np.concatenate((D_guess1, D_guess2)) * Delta_x**2\n",
    "D_window_up = D_guess+1.2e-4 * Delta_x**2\n",
    "D_window_low = np.max([np.ones(len(r0_list))*1e-6, D_guess-1.2e-4* Delta_x**2], axis=0) "
   ]
  },
  {
   "cell_type": "code",
   "execution_count": 15,
   "metadata": {},
   "outputs": [
    {
     "data": {
      "text/plain": [
       "[<matplotlib.lines.Line2D at 0x7f3326e80340>]"
      ]
     },
     "execution_count": 15,
     "metadata": {},
     "output_type": "execute_result"
    },
    {
     "data": {
      "image/png": "[encoded data removed]",
      "text/plain": [
       "<Figure size 432x288 with 1 Axes>"
      ]
     },
     "metadata": {
      "needs_background": "light"
     },
     "output_type": "display_data"
    }
   ],
   "source": [
    "plt.xscale('log')\n",
    "plt.plot(r0_list, D_guess, lw=2)\n",
    "plt.plot(r0_list, D_window_low, c='k')\n",
    "plt.plot(r0_list, D_window_up, c='k')"
   ]
  },
  {
   "cell_type": "markdown",
   "metadata": {},
   "source": [
    "### Building the ES wave objects"
   ]
  },
  {
   "cell_type": "code",
   "execution_count": 8,
   "metadata": {},
   "outputs": [],
   "source": [
    "n_D_bins = 200\n",
    "time = 400000"
   ]
  },
  {
   "cell_type": "code",
   "execution_count": null,
   "metadata": {},
   "outputs": [],
   "source": [
    "assays = []\n",
    "for i, r0 in enumerate(r0_list):\n",
    "    Ds = np.linspace(D_window_low[i], D_window_up[i], n_D_bins)\n",
    "    eps = eps_schedule(0.15e-14, 20000, 2, 500)\n",
    "    D_CLF = D_guess[i]\n",
    "    assays.append(build_assay_wave(i, r0, lambda_tilde, Ds, D_CLF, beta=beta, gamma=gamma, time=time, eps=eps, Delta_x=Delta_x))"
   ]
  },
  {
   "cell_type": "markdown",
   "metadata": {},
   "source": [
    "### Running simulations\n",
    "No pickle files are included in the repo since they have large dimensions"
   ]
  },
  {
   "cell_type": "code",
   "execution_count": null,
   "metadata": {},
   "outputs": [],
   "source": [
    "waves = ut.multiprocess_sim(assays, 4)"
   ]
  },
  {
   "cell_type": "code",
   "execution_count": 90,
   "metadata": {},
   "outputs": [],
   "source": [
    "#f = open('data/mut_rate_Dx=%g_assays.pickle'%Delta_x, 'wb')\n",
    "#pickle.dump(waves, f)\n",
    "#f.close()"
   ]
  },
  {
   "cell_type": "code",
   "execution_count": 6,
   "metadata": {},
   "outputs": [],
   "source": [
    "f = open('data/mut_rate_Dx=%g_assays.pickle'%Delta_x, 'rb')\n",
    "waves = pickle.load(f)\n",
    "f.close()"
   ]
  },
  {
   "cell_type": "markdown",
   "metadata": {},
   "source": [
    "### Checking convergence to the stationary state"
   ]
  },
  {
   "cell_type": "code",
   "execution_count": 8,
   "metadata": {},
   "outputs": [
    {
     "name": "stdout",
     "output_type": "stream",
     "text": [
      "0.5\n",
      "0.6698550069565965\n",
      "0.897411460689644\n",
      "1.2022711204863819\n",
      "1.6106946595542408\n",
      "2.1578637647613177\n",
      "2.89091169431116\n",
      "3.8729833462074175\n",
      "5.1886745726331025\n",
      "6.951319283893326\n",
      "9.312752054539772\n",
      "12.476387184557597\n",
      "16.714740848610045\n",
      "22.392905694846775\n",
      "29.999999999999996\n"
     ]
    },
    {
     "data": {
      "image/png": "[encoded data removed]",
      "text/plain": [
       "<Figure size 720x360 with 2 Axes>"
      ]
     },
     "metadata": {
      "needs_background": "light"
     },
     "output_type": "display_data"
    }
   ],
   "source": [
    "fig, (ax1, ax2) = plt.subplots(1,2,figsize=(10,5))\n",
    "ax1.set_xlabel('time')\n",
    "ax1.set_ylabel('mean D')\n",
    "ax2.set_xlabel('time')\n",
    "ax2.set_ylabel('F_T')\n",
    "\n",
    "mean_D, max_D = [], []\n",
    "speeds, f_tips, s_tips = np.array([]),np.array([]), np.array([])\n",
    "r0_lin_start = 5\n",
    "D_flin = np.array([])\n",
    "est = np.array([])\n",
    "for w in waves:\n",
    "    speeds = np.append(speeds, np.mean(w.traj.speed(5)[-50:]))\n",
    "    f_tips = np.append(f_tips, np.mean(w.traj.f_tip[-50:]))\n",
    "    s_tips = np.append(s_tips, np.mean(w.traj.s_tip[-50:]))\n",
    "    mean_D.append(w.traj.mean_D[-1]),\n",
    "    max_D.append(w.traj.max_D[-1])\n",
    "    \n",
    "    ax1.plot(w.traj.times - w.p.t_burn, w.traj.mean_D)\n",
    "    std = w.traj.std_D\n",
    "    ax1.fill_between(w.traj.times - w.p.t_burn, w.traj.mean_D-std, w.traj.mean_D+std, alpha=0.2)\n",
    "    ax2.plot(w.traj.f_tip)\n",
    "    \n",
    "    a, g, l = w.p.alpha, w.p.gamma, w.p.lambda_tilde\n",
    "    v, f, s = speeds[-1], f_tips[-1], s_tips[-1]\n",
    "    #est = np.append(est, brentq(estf, 1e-5, 2e-4))\n",
    "    print(w.p.r0)\n",
    "    #if w.p.r0 > r0_lin_start:\n",
    "        #D_flin = np.append(D_flin, D_f_lin(w.p, 0.2e-4, 1e-4))"
   ]
  },
  {
   "cell_type": "markdown",
   "metadata": {},
   "source": [
    "## Looking for ES D at large r0 using \"adiabatic\" initial conditions (the final n and h profiles of the provious r0)"
   ]
  },
  {
   "cell_type": "code",
   "execution_count": 12,
   "metadata": {},
   "outputs": [],
   "source": [
    "def build_assay_wave2(id_, r0, lambda_tilde, Ds, D_guess, beta, gamma, eps=1e-13, time=0, \n",
    "                      init_n=None, init_nh=None, t_burn=20000, t_burn_cutoff=0):\n",
    "    dx = 0.3\n",
    "    dt = ut.dt_from_cfl(0.03, D_guess/2, dx)\n",
    "\n",
    "    p = wD.Vwave_mut_rate_pars(id_, tot_time=time, dt=dt, dx=dx, \n",
    "                     n_x_bins=int(5000/dx), \n",
    "                     M=5, r0=r0, alpha=0, beta=beta, gamma=gamma, lambda_tilde=lambda_tilde,\n",
    "                     eps=eps, Ds=Ds, D0_i=np.sum(Ds<D_guess),\n",
    "                     Nh=10**10, N0=10**8, cutoff=1,\n",
    "                     t_burn=t_burn, t_burn_cutoff=t_burn_cutoff, \n",
    "                     back_width_fract=3,\n",
    "                     traj_step=int(1000/dt), check_step=int(0/dt), traj_after_burn=True, verbose=True, global_cutoff=True)\n",
    "    \n",
    "    return deepcopy(wD.Vwave_mut_rate(p, False, init_n=init_n, init_nh=init_nh))"
   ]
  },
  {
   "cell_type": "code",
   "execution_count": 20,
   "metadata": {},
   "outputs": [],
   "source": [
    "Ds = np.linspace(0.5e-6, 5e-5, 150)\n",
    "c_list2 = np.linspace(30, 100, 31)\n",
    "r0_list2 = c_list2 * Delta_x\n",
    "time2 = 7000000\n",
    "eps = eps_schedule(5e-18, 200000, 2, 100000)"
   ]
  },
  {
   "cell_type": "code",
   "execution_count": null,
   "metadata": {},
   "outputs": [],
   "source": [
    "first_wave = build_assay_wave2(0, r0_list2[0], lambda_tilde, Ds, waves[-1].traj.mean_D[-1]*1.2, beta=beta, gamma=gamma,\n",
    "                               eps=eps, time=time2, t_burn=50000, t_burn_cutoff=2000)\n",
    "first_wave = first_wave.run()"
   ]
  },
  {
   "cell_type": "code",
   "execution_count": null,
   "metadata": {},
   "outputs": [],
   "source": [
    "waves2 = [first_wave]\n",
    "for r0 in r0_list2[1:]:\n",
    "    D_guess = waves2[-1].traj.mean_D[-1]\n",
    "    eps_start = ut.lin_from_two_loglog_points(r0, 30, 5e-18, 100, 0.5e-18)\n",
    "    eps = eps_schedule(eps_start, 100000, 2, 30000)\n",
    "    t_burn = ut.lin_from_two_points(r0, 30, 50000, 100, 100000)\n",
    "    print(r0, D_guess)\n",
    "    wave2 = build_assay_wave2(0, r0, lambda_tilde, Ds, D_guess, beta=beta, gamma=gamma, \n",
    "                              eps=eps, time=time2, t_burn=t_burn, init_n=waves2[-1].n, init_nh=waves2[-1].nh)\n",
    "    waves2.append(wave2.run())"
   ]
  },
  {
   "cell_type": "code",
   "execution_count": 25,
   "metadata": {},
   "outputs": [],
   "source": [
    "f = open('data/mut_rate_large_Dx=%g_assays.pickle'%Delta_x, 'wb')\n",
    "pickle.dump(waves2, f)\n",
    "f.close()"
   ]
  },
  {
   "cell_type": "code",
   "execution_count": null,
   "metadata": {},
   "outputs": [],
   "source": [
    "f = open('data/mut_rate_large_Dx=%g_assays.pickle'%Delta_x, 'rb')\n",
    "waves2 = pickle.load(f)\n",
    "f.close()"
   ]
  },
  {
   "cell_type": "markdown",
   "metadata": {},
   "source": [
    "### Checking the convergence"
   ]
  },
  {
   "cell_type": "code",
   "execution_count": null,
   "metadata": {},
   "outputs": [],
   "source": [
    "fig, (ax1, ax2) = plt.subplots(1,2,figsize=(10,5))\n",
    "ax1.set_xlabel('time')\n",
    "ax1.set_ylabel('mean D')\n",
    "ax2.set_xlabel('time')\n",
    "ax2.set_ylabel('F_T')\n",
    "mean_D2 = []\n",
    "speeds2, f_tips2, s_tips2 = np.array([]),np.array([]), np.array([])\n",
    "D_flin2 = np.array([])\n",
    "est2 = np.array([])\n",
    "for w in waves2:\n",
    "    speeds2 = np.append(speeds2, np.mean(w.traj.speed(5)[-50:]))\n",
    "    f_tips2 = np.append(f_tips2, np.mean(w.traj.f_tip[-50:]))\n",
    "    s_tips2 = np.append(s_tips2, np.mean(w.traj.s_tip[-50:]))\n",
    "    mean_D2.append(w.traj.mean_D[-1])\n",
    "    ax1.plot(w.traj.times - w.p.t_burn, w.traj.mean_D)\n",
    "    std = w.traj.std_D\n",
    "    ax1.fill_between(w.traj.times - w.p.t_burn, w.traj.mean_D-std, w.traj.mean_D+std, alpha=0.2)\n",
    "    ax2.plot(w.traj.times - w.p.t_burn, w.traj.f_tip)\n",
    "    #ax2.set_ylim(0,0.2)\n",
    "    \n",
    "    a, g, l = w.p.alpha, w.p.gamma, w.p.lambda_tilde\n",
    "    v, f, s = speeds2[-1], f_tips2[-1], s_tips2[-1]\n",
    "    print(w.p.r0)\n",
    "    est2 = np.append(est2, brentq(estf, 1e-5, 4e-5))\n",
    "    \n",
    "    if w.p.r0 > r0_lin_start:\n",
    "        D_flin2 = np.append(D_flin2, D_f_lin(w.p, 1e-5, 4e-5))"
   ]
  },
  {
   "cell_type": "code",
   "execution_count": 30,
   "metadata": {},
   "outputs": [
    {
     "data": {
      "text/plain": [
       "[<matplotlib.lines.Line2D at 0x7f13581a0370>]"
      ]
     },
     "execution_count": 30,
     "metadata": {},
     "output_type": "execute_result"
    },
    {
     "data": {
      "image/png": "[encoded data removed]",
      "text/plain": [
       "<Figure size 432x288 with 1 Axes>"
      ]
     },
     "metadata": {
      "needs_background": "light"
     },
     "output_type": "display_data"
    }
   ],
   "source": [
    "large_indexes = [5, 10, 17]\n",
    "r0s = np.append(r0_list, r0_list2[large_indexes])\n",
    "D_list = np.append(mean_D, np.array(mean_D2)[large_indexes])\n",
    "est_list = np.append(est, np.array(est2)[large_indexes])\n",
    "D_flin_list = np.append(D_flin, D_flin2[large_indexes])\n",
    "D_FKPP = D_FKPP_f(waves[0].p)\n",
    "speed_list = np.append(speeds, np.array(speeds2)[large_indexes])\n",
    "f_tip_list = np.append(f_tips, np.array(f_tips2)[large_indexes])\n",
    "s_tip_list = np.append(s_tips, np.array(s_tips2)[large_indexes])\n",
    "\n",
    "plt.xscale('log')\n",
    "plt.xlabel('r0')\n",
    "plt.ylabel(r'$D_{ES}$')\n",
    "plt.scatter(r0s, D_list)\n",
    "plt.plot(r0s, est_list)\n",
    "\n",
    "plt.plot(r0s[r0s > r0_lin_start], D_flin_list, c='k', ls='--', lw=2)\n",
    "\n",
    "r0_FKPP_end = 10\n",
    "plt.plot(r0s[r0s < r0_FKPP_end], np.ones(len(r0s[r0s < r0_FKPP_end]))*D_FKPP, c='k', ls=':', lw=2)\n",
    "\n",
    "#plt.savefig('plots/es_mut_rate.svg', dpi=200)"
   ]
  },
  {
   "cell_type": "markdown",
   "metadata": {},
   "source": [
    "## Exporing the points"
   ]
  },
  {
   "cell_type": "code",
   "execution_count": 31,
   "metadata": {},
   "outputs": [],
   "source": [
    "f = open('data/ES_mut_rate_Dx=%g.tsv'%Delta_x, 'w')\n",
    "\n",
    "header = '#r0\\tD_ES\\tD_ES_tip\\tF_T\\ts_T\\tD_ES_FKPP\\tD_ES_linfit\\n'\n",
    "f.write(header)\n",
    "\n",
    "i_linfit_start = np.sum(r0s < r0_lin_start)\n",
    "for i in range(len(r0s)):\n",
    "    f.write(str(r0s[i]) + '\\t')\n",
    "    f.write(str(D_list[i]) + '\\t')\n",
    "    f.write(str(est_list[i]) + '\\t')\n",
    "    f.write(str(f_tip_list[i]) + '\\t')\n",
    "    f.write(str(s_tip_list[i]) + '\\t')\n",
    "    f.write(str(D_FKPP) + '\\t')\n",
    "    \n",
    "    if r0s[i] >= r0_lin_start:\n",
    "        f.write(str(D_flin_list[i - i_linfit_start]) + '\\t')\n",
    "    else:\n",
    "        f.write('\\t')\n",
    "        \n",
    "    f.write('\\n')\n",
    "    \n",
    "f.close()"
   ]
  },
  {
   "cell_type": "code",
   "execution_count": 32,
   "metadata": {},
   "outputs": [],
   "source": [
    "f = open('data/ES_mut_rate_Dx=%g_pars.tsv'%Delta_x, 'w')\n",
    "\n",
    "header = '#parameter\\tvalue\\n'\n",
    "f.write(header)\n",
    "\n",
    "f.write('lambda\\t' + str(waves[0].p.lambda_tilde) + '\\n')\n",
    "f.write('beta\\t' + str(waves[0].p.beta) + '\\n')\n",
    "f.write('alpha\\t' + str(waves[0].p.alpha) + '\\n')\n",
    "f.write('gamma\\t' + str(waves[0].p.gamma) + '\\n')\n",
    "f.write('Nh\\t' + str(waves[0].p.Nh) + '\\n')\n",
    "f.write('M\\t' + str(waves[0].p.M) + '\\n')\n",
    "f.write('cutoff\\t' + str(waves[0].p.cutoff) + '\\n')\n",
    "\n",
    "f.close()"
   ]
  },
  {
   "cell_type": "code",
   "execution_count": null,
   "metadata": {},
   "outputs": [],
   "source": []
  }
 ],
 "metadata": {
  "kernelspec": {
   "display_name": "Python 3",
   "language": "python",
   "name": "python3"
  },
  "language_info": {
   "codemirror_mode": {
    "name": "ipython",
    "version": 3
   },
   "file_extension": ".py",
   "mimetype": "text/x-python",
   "name": "python",
   "nbconvert_exporter": "python",
   "pygments_lexer": "ipython3",
   "version": "3.8.8"
  }
 },
 "nbformat": 4,
 "nbformat_minor": 4
}
