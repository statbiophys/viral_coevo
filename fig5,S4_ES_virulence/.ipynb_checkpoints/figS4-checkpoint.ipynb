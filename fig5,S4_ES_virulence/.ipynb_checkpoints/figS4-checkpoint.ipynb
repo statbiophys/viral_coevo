{
 "cells": [
  {
   "cell_type": "code",
   "execution_count": 1,
   "id": "21dcae67-3af3-47f9-98dc-e8385cc7ec4d",
   "metadata": {},
   "outputs": [],
   "source": [
    "import numpy as np\n",
    "import matplotlib.pyplot as plt"
   ]
  },
  {
   "cell_type": "markdown",
   "id": "89de8ca3-8c47-4df5-b7ed-bdae41a6ff5f",
   "metadata": {},
   "source": [
    "### Importing data points"
   ]
  },
  {
   "cell_type": "code",
   "execution_count": 2,
   "id": "13314858-880f-4888-82aa-e614cae612c0",
   "metadata": {},
   "outputs": [],
   "source": [
    "f = open('data/ES_virulence_stoch.tsv', 'r')\n",
    "\n",
    "r0_list_st, f_tips_st, s_tips_st = np.array([]), np.array([]), np.array([])\n",
    "a_list_st, a_std = np.array([]), np.array([])\n",
    "for line in f.readlines():\n",
    "    if line[0] == '#':\n",
    "        continue\n",
    "        \n",
    "    r0_list_st = np.append(r0_list_st, float(line.split('\\t')[0]))\n",
    "    a_list_st = np.append(a_list_st, float(line.split('\\t')[1]))\n",
    "    a_std = np.append(a_std, float(line.split('\\t')[2]))\n",
    "    f_tips_st = np.append(f_tips_st, float(line.split('\\t')[3]))\n",
    "    s_tips_st = np.append(s_tips_st, float(line.split('\\t')[4]))\n",
    "    \n",
    "f.close()\n",
    "\n",
    "f = open('data/ES_virulence_stoch_pars.tsv', 'r')\n",
    "lines = f.readlines()\n",
    "D_st = float(lines[1].split('\\t')[1])\n",
    "gamma_st = float(lines[3].split('\\t')[1])\n",
    "f.close()"
   ]
  },
  {
   "cell_type": "code",
   "execution_count": 8,
   "id": "7c9ccb58-a271-4635-bce3-98ec3ef0da94",
   "metadata": {},
   "outputs": [
    {
     "data": {
      "image/png": "[encoded data removed]",
      "text/plain": [
       "<Figure size 432x288 with 1 Axes>"
      ]
     },
     "metadata": {
      "needs_background": "light"
     },
     "output_type": "display_data"
    }
   ],
   "source": [
    "plt.xscale('log')\n",
    "plt.xlabel('$r_0$', fontsize=12)\n",
    "plt.xlim(r0_list_st[0]-0.002, r0_list_st[-1]+0.2)\n",
    "plt.ylabel(r'$\\alpha^*$', fontsize=12)\n",
    "\n",
    "plt.errorbar(r0_list_st, a_list_st, yerr=a_std, c='k')\n",
    "\n",
    "sigm = -2.3381*(D_st*s_tips_st**2)**(1/3) \n",
    "est = f_tips_st + gamma_st + 2/3*sigm\n",
    "plt.plot(r0_list_st, est, label=r'$v^2/4/D+\\gamma - \\xi_0(D s_T^2)^{1/3}/3$')\n",
    "\n",
    "plt.savefig('plots/es_virulence_stochastic.svg', dpi=200)"
   ]
  },
  {
   "cell_type": "code",
   "execution_count": null,
   "id": "b8400b6f-c2bf-49f6-ae4d-fb5a877f95c2",
   "metadata": {},
   "outputs": [],
   "source": []
  }
 ],
 "metadata": {
  "kernelspec": {
   "display_name": "Python 3",
   "language": "python",
   "name": "python3"
  },
  "language_info": {
   "codemirror_mode": {
    "name": "ipython",
    "version": 3
   },
   "file_extension": ".py",
   "mimetype": "text/x-python",
   "name": "python",
   "nbconvert_exporter": "python",
   "pygments_lexer": "ipython3",
   "version": "3.8.8"
  }
 },
 "nbformat": 4,
 "nbformat_minor": 5
}
