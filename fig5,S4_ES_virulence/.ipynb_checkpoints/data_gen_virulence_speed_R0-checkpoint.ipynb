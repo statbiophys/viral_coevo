{
 "cells": [
  {
   "cell_type": "code",
   "execution_count": 1,
   "metadata": {},
   "outputs": [],
   "source": [
    "import numpy as np\n",
    "import matplotlib.pyplot as plt\n",
    "import sys\n",
    "sys.path.insert(0, '../src/')\n",
    "import wave as w\n",
    "import utils as ut\n",
    "import plotter\n",
    "import numba_functions as nbf\n",
    "import numba as nb\n",
    "from copy import deepcopy\n",
    "from scipy.optimize import brentq\n",
    "import pickle"
   ]
  },
  {
   "cell_type": "code",
   "execution_count": 2,
   "metadata": {},
   "outputs": [],
   "source": [
    "def build_assay_wave(id_, r0, D, alpha, beta, gamma=0.5, cutoff=1):\n",
    "    dx = ut.lin_from_two_points(np.log(r0), np.log(0.02), 0.001, np.log(3), 0.008)\n",
    "    dt = ut.dt_from_cfl(0.03, D, dx)\n",
    "\n",
    "    p = w.Vwave_pars(id_, tot_time=400, dt=dt, dx=dx, \n",
    "                     n_x_bins=int( ut.lin_from_two_points(r0, 0.01, 3, 1, 80)/dx ), \n",
    "                     M=5, r0=r0, D_coef=D, beta=beta, alpha=alpha, gamma=gamma,\n",
    "                     Nh=10**12, N0=10**10, cutoff=cutoff,\n",
    "                     t_burn=ut.lin_from_two_points(r0, 0.01, 200, 1, 15000), \n",
    "                     t_burn_cutoff=ut.lin_from_two_points(r0, 0.01, 70, 1, 1000), \n",
    "                     back_width_fract=ut.lin_from_two_points(np.log(r0), np.log(0.0075), 0.1, np.log(1), 3),\n",
    "                     traj_step=int(10/dt), check_step=int(100/dt), traj_after_burn=True, verbose=True)\n",
    "    return w.Vwave(p)"
   ]
  },
  {
   "cell_type": "markdown",
   "metadata": {},
   "source": [
    "## FKPP regime"
   ]
  },
  {
   "cell_type": "code",
   "execution_count": 3,
   "metadata": {},
   "outputs": [],
   "source": [
    "r0 = 0.0217\n",
    "D_coef = 1e-5\n",
    "b_zero = 2\n",
    "a_list = np.linspace(0.75, 1.25, 25)\n",
    "b_list = np.sqrt(a_list)*b_zero"
   ]
  },
  {
   "cell_type": "code",
   "execution_count": 27,
   "metadata": {},
   "outputs": [],
   "source": [
    "assays = []\n",
    "for i in range(len(a_list)):\n",
    "    assays.append(build_assay_wave(i, r0, D_coef, a_list[i], b_list[i]))"
   ]
  },
  {
   "cell_type": "code",
   "execution_count": null,
   "metadata": {},
   "outputs": [],
   "source": [
    "waves = ut.multiprocess_sim(assays, 2)"
   ]
  },
  {
   "cell_type": "code",
   "execution_count": 6,
   "metadata": {},
   "outputs": [],
   "source": [
    "# Save on pickle\n",
    "#f = open('data/virulence_speed_assays.pickle', 'wb')\n",
    "#pickle.dump(waves, f)\n",
    "#f.close()"
   ]
  },
  {
   "cell_type": "code",
   "execution_count": 7,
   "metadata": {},
   "outputs": [],
   "source": [
    "# Load from pickle\n",
    "f = open('data/virulence_speed_assays.pickle', 'rb')\n",
    "waves = pickle.load(f)\n",
    "f.close()"
   ]
  },
  {
   "cell_type": "code",
   "execution_count": 8,
   "metadata": {},
   "outputs": [],
   "source": [
    "speeds = []\n",
    "for i in range(len(a_list)):\n",
    "    speeds.append(np.mean(waves[i].traj.speed(15)[-50:]))"
   ]
  },
  {
   "cell_type": "code",
   "execution_count": 9,
   "metadata": {},
   "outputs": [
    {
     "data": {
      "image/png": "[encoded data removed]",
      "text/plain": [
       "<Figure size 252x216 with 2 Axes>"
      ]
     },
     "metadata": {
      "needs_background": "light"
     },
     "output_type": "display_data"
    }
   ],
   "source": [
    "fig, ax1 = plt.subplots(figsize=(3.5,3))\n",
    "ax2 = plt.twinx(ax1)\n",
    "\n",
    "ax1.plot(a_list, speeds)\n",
    "ax1.plot(np.ones(2)*0.991701976619518, [min(speeds), max(speeds)], c='k', ls='--', lw=3)\n",
    "\n",
    "ax2.plot(a_list, b_zero*np.sqrt(a_list)/(a_list+0.5))\n",
    "plt.tight_layout()\n",
    "plt.savefig('plots/speed_fitn_virulence_FKPP.svg')"
   ]
  },
  {
   "cell_type": "markdown",
   "metadata": {},
   "source": [
    "## linear-fitness regime"
   ]
  },
  {
   "cell_type": "code",
   "execution_count": 10,
   "metadata": {},
   "outputs": [],
   "source": [
    "r0 = 2.2993164891338513\n",
    "D_coef = 1e-5\n",
    "b_zero = 2\n",
    "a_list2 = np.linspace(0.5, 0.85, 15)\n",
    "b_list2 = np.sqrt(a_list2)*b_zero"
   ]
  },
  {
   "cell_type": "code",
   "execution_count": 33,
   "metadata": {},
   "outputs": [],
   "source": [
    "assays = []\n",
    "for i in range(len(a_list2)):\n",
    "    assays.append(build_assay_wave(i, r0, D_coef, a_list2[i], b_list2[i]))"
   ]
  },
  {
   "cell_type": "code",
   "execution_count": null,
   "metadata": {},
   "outputs": [],
   "source": [
    "waves2 = ut.multiprocess_sim(assays, 2)"
   ]
  },
  {
   "cell_type": "code",
   "execution_count": 35,
   "metadata": {},
   "outputs": [],
   "source": [
    "# Save on pickle\n",
    "#f = open('data/virulence_speed_assays2.pickle', 'wb')\n",
    "#pickle.dump(waves2, f)\n",
    "#f.close()"
   ]
  },
  {
   "cell_type": "code",
   "execution_count": 11,
   "metadata": {},
   "outputs": [],
   "source": [
    "# Load from pickle\n",
    "f = open('data/virulence_speed_assays2.pickle', 'rb')\n",
    "waves2 = pickle.load(f)\n",
    "f.close()"
   ]
  },
  {
   "cell_type": "code",
   "execution_count": 29,
   "metadata": {},
   "outputs": [],
   "source": [
    "speeds2 = []\n",
    "for i in range(len(a_list2)):\n",
    "    speeds2.append(np.mean(waves2[i].traj.speed(30)[-500:]))"
   ]
  },
  {
   "cell_type": "code",
   "execution_count": 30,
   "metadata": {},
   "outputs": [
    {
     "data": {
      "image/png": "[encoded data removed]",
      "text/plain": [
       "<Figure size 252x216 with 2 Axes>"
      ]
     },
     "metadata": {
      "needs_background": "light"
     },
     "output_type": "display_data"
    }
   ],
   "source": [
    "fig, ax1 = plt.subplots(figsize=(3.5,3))\n",
    "ax2 = plt.twinx(ax1)\n",
    "\n",
    "ax1.plot(a_list2, speeds2)\n",
    "ax1.plot(np.ones(2)*0.5638232490519046, [min(speeds2), max(speeds2)], c='k', ls='--', lw=3)\n",
    "\n",
    "ax2.plot(a_list2, b_zero*np.sqrt(a_list2)/(a_list2+0.5))\n",
    "plt.tight_layout()\n",
    "\n",
    "plt.savefig('plots/speed_fitn_virulence_linfit.svg')"
   ]
  },
  {
   "cell_type": "code",
   "execution_count": null,
   "metadata": {},
   "outputs": [],
   "source": []
  }
 ],
 "metadata": {
  "kernelspec": {
   "display_name": "Python 3",
   "language": "python",
   "name": "python3"
  },
  "language_info": {
   "codemirror_mode": {
    "name": "ipython",
    "version": 3
   },
   "file_extension": ".py",
   "mimetype": "text/x-python",
   "name": "python",
   "nbconvert_exporter": "python",
   "pygments_lexer": "ipython3",
   "version": "3.8.8"
  }
 },
 "nbformat": 4,
 "nbformat_minor": 4
}
