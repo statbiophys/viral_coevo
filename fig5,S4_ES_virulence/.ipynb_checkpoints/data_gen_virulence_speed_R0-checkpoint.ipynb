{
 "cells": [
  {
   "cell_type": "code",
   "execution_count": 1,
   "metadata": {},
   "outputs": [],
   "source": [
    "import numpy as np\n",
    "import matplotlib.pyplot as plt\n",
    "import sys\n",
    "sys.path.insert(0, '../src/')\n",
    "import wave as w\n",
    "import utils as ut\n",
    "import plotter\n",
    "import numba_functions as nbf\n",
    "import numba as nb\n",
    "from copy import deepcopy\n",
    "from scipy.optimize import brentq\n",
    "import pickle"
   ]
  },
  {
   "cell_type": "code",
   "execution_count": 22,
   "metadata": {},
   "outputs": [],
   "source": [
    "def build_assay_wave(id_, r0, D, alpha, beta, gamma=0.5, cutoff=1):\n",
    "    dx = ut.lin_from_two_log_points(r0, 0.5, 0.08, 100, 0.6)\n",
    "    dt = ut.dt_from_cfl(0.02, D, dx)\n",
    "\n",
    "    p = w.Vwave_pars(id_, tot_time=50000, dt=dt, dx=dx, \n",
    "                     n_x_bins=int( ut.lin_from_two_points(r0, 0.5, 250, 100, 10000)/dx ), \n",
    "                     M=5, r0=r0, D_coef=D, beta=beta, alpha=alpha, gamma=gamma,\n",
    "                     Nh=10**10, N0=10**8, cutoff=cutoff,\n",
    "                     t_burn=ut.lin_from_two_points(r0, 0.5, 5000, 50, 600000), \n",
    "                     t_burn_cutoff=ut.lin_from_two_points(r0, 0.5, 200, 50, 10000), \n",
    "                     back_width_fract=ut.lin_from_two_log_points(r0, 0.5, 0.5, 50, 3),\n",
    "                     traj_step=int(50/dt), check_step=int(0/dt), traj_after_burn=True, verbose=True)\n",
    "    return w.Vwave(p)"
   ]
  },
  {
   "cell_type": "markdown",
   "metadata": {},
   "source": [
    "## FKPP regime"
   ]
  },
  {
   "cell_type": "code",
   "execution_count": 23,
   "metadata": {},
   "outputs": [],
   "source": [
    "r0 = 0.5\n",
    "D_coef = 0.5e-3\n",
    "gamma = 0.05\n",
    "beta0 = 0.5\n",
    "a_list = np.linspace(0.06, 0.065, 20)\n",
    "b_list = np.sqrt(a_list)*beta0"
   ]
  },
  {
   "cell_type": "code",
   "execution_count": null,
   "metadata": {},
   "outputs": [],
   "source": [
    "assays = []\n",
    "for i in range(len(a_list)):\n",
    "    assays.append(build_assay_wave(i, r0, D_coef, a_list[i], b_list[i], gamma))"
   ]
  },
  {
   "cell_type": "code",
   "execution_count": 25,
   "metadata": {},
   "outputs": [
    {
     "name": "stdout",
     "output_type": "stream",
     "text": [
      "  "
     ]
    },
    {
     "data": {
      "application/vnd.jupyter.widget-view+json": {
       "model_id": "da57ee42f7db418f98a2c4c95db1f2b7",
       "version_major": 2,
       "version_minor": 0
      },
      "text/plain": [
       "Process 0:   0%|          | 0/214843 [00:00<?, ?it/s]"
      ]
     },
     "metadata": {},
     "output_type": "display_data"
    },
    {
     "data": {
      "application/vnd.jupyter.widget-view+json": {
       "model_id": "f17754534a9a4241857cfa72777a42a8",
       "version_major": 2,
       "version_minor": 0
      },
      "text/plain": [
       "Process 2:   0%|          | 0/214843 [00:00<?, ?it/s]"
      ]
     },
     "metadata": {},
     "output_type": "display_data"
    },
    {
     "name": "stdout",
     "output_type": "stream",
     "text": [
      " "
     ]
    },
    {
     "data": {
      "application/vnd.jupyter.widget-view+json": {
       "model_id": "5e3ae856264444fa9090d86c37d66b9d",
       "version_major": 2,
       "version_minor": 0
      },
      "text/plain": [
       "Process 1:   0%|          | 0/214843 [00:00<?, ?it/s]"
      ]
     },
     "metadata": {},
     "output_type": "display_data"
    },
    {
     "name": "stdout",
     "output_type": "stream",
     "text": [
      " "
     ]
    },
    {
     "data": {
      "application/vnd.jupyter.widget-view+json": {
       "model_id": "5f48bad2bc6d481f87700acc4dac81e6",
       "version_major": 2,
       "version_minor": 0
      },
      "text/plain": [
       "Process 3:   0%|          | 0/214843 [00:00<?, ?it/s]"
      ]
     },
     "metadata": {},
     "output_type": "display_data"
    },
    {
     "name": "stdout",
     "output_type": "stream",
     "text": [
      " "
     ]
    },
    {
     "data": {
      "application/vnd.jupyter.widget-view+json": {
       "model_id": "6b813fea394f44e68a1e677909e51972",
       "version_major": 2,
       "version_minor": 0
      },
      "text/plain": [
       "Process 4:   0%|          | 0/214843 [00:00<?, ?it/s]"
      ]
     },
     "metadata": {},
     "output_type": "display_data"
    },
    {
     "name": "stdout",
     "output_type": "stream",
     "text": [
      " "
     ]
    },
    {
     "data": {
      "application/vnd.jupyter.widget-view+json": {
       "model_id": "eacf60f7d2db4681b230bd8630ba133c",
       "version_major": 2,
       "version_minor": 0
      },
      "text/plain": [
       "Process 5:   0%|          | 0/214843 [00:00<?, ?it/s]"
      ]
     },
     "metadata": {},
     "output_type": "display_data"
    },
    {
     "name": "stdout",
     "output_type": "stream",
     "text": [
      " "
     ]
    },
    {
     "data": {
      "application/vnd.jupyter.widget-view+json": {
       "model_id": "fabaef50ef4b46deb6a6cc716ff08608",
       "version_major": 2,
       "version_minor": 0
      },
      "text/plain": [
       "Process 6:   0%|          | 0/214843 [00:00<?, ?it/s]"
      ]
     },
     "metadata": {},
     "output_type": "display_data"
    },
    {
     "name": "stdout",
     "output_type": "stream",
     "text": [
      " "
     ]
    },
    {
     "data": {
      "application/vnd.jupyter.widget-view+json": {
       "model_id": "81f65cc68e5146aab0ddcacac0f1f654",
       "version_major": 2,
       "version_minor": 0
      },
      "text/plain": [
       "Process 7:   0%|          | 0/214843 [00:00<?, ?it/s]"
      ]
     },
     "metadata": {},
     "output_type": "display_data"
    },
    {
     "name": "stdout",
     "output_type": "stream",
     "text": [
      " "
     ]
    },
    {
     "data": {
      "application/vnd.jupyter.widget-view+json": {
       "model_id": "98032d1b7d5c441bafdedbb63207d195",
       "version_major": 2,
       "version_minor": 0
      },
      "text/plain": [
       "Process 8:   0%|          | 0/214843 [00:00<?, ?it/s]"
      ]
     },
     "metadata": {},
     "output_type": "display_data"
    },
    {
     "name": "stdout",
     "output_type": "stream",
     "text": [
      " "
     ]
    },
    {
     "data": {
      "application/vnd.jupyter.widget-view+json": {
       "model_id": "1ae0ce0fdbf046f090d5a83d59fcfcbd",
       "version_major": 2,
       "version_minor": 0
      },
      "text/plain": [
       "Process 9:   0%|          | 0/214843 [00:00<?, ?it/s]"
      ]
     },
     "metadata": {},
     "output_type": "display_data"
    },
    {
     "name": "stdout",
     "output_type": "stream",
     "text": [
      " "
     ]
    },
    {
     "data": {
      "application/vnd.jupyter.widget-view+json": {
       "model_id": "6c1995170f074f7e954cea44f62c6ab7",
       "version_major": 2,
       "version_minor": 0
      },
      "text/plain": [
       "Process 10:   0%|          | 0/214843 [00:00<?, ?it/s]"
      ]
     },
     "metadata": {},
     "output_type": "display_data"
    },
    {
     "name": "stdout",
     "output_type": "stream",
     "text": [
      " "
     ]
    },
    {
     "data": {
      "application/vnd.jupyter.widget-view+json": {
       "model_id": "ea888c54901042d4b810da22d8161a7f",
       "version_major": 2,
       "version_minor": 0
      },
      "text/plain": [
       "Process 11:   0%|          | 0/214843 [00:00<?, ?it/s]"
      ]
     },
     "metadata": {},
     "output_type": "display_data"
    },
    {
     "name": "stdout",
     "output_type": "stream",
     "text": [
      " "
     ]
    },
    {
     "data": {
      "application/vnd.jupyter.widget-view+json": {
       "model_id": "0f611d94eb69418099b2a36b28854555",
       "version_major": 2,
       "version_minor": 0
      },
      "text/plain": [
       "Process 12:   0%|          | 0/214843 [00:00<?, ?it/s]"
      ]
     },
     "metadata": {},
     "output_type": "display_data"
    },
    {
     "name": "stdout",
     "output_type": "stream",
     "text": [
      " "
     ]
    },
    {
     "data": {
      "application/vnd.jupyter.widget-view+json": {
       "model_id": "029eb74efb204867b26ed6b71ffa5dc5",
       "version_major": 2,
       "version_minor": 0
      },
      "text/plain": [
       "Process 13:   0%|          | 0/214843 [00:00<?, ?it/s]"
      ]
     },
     "metadata": {},
     "output_type": "display_data"
    },
    {
     "name": "stdout",
     "output_type": "stream",
     "text": [
      " "
     ]
    },
    {
     "data": {
      "application/vnd.jupyter.widget-view+json": {
       "model_id": "6067b9ca773b42b08265b6cb216bc4d7",
       "version_major": 2,
       "version_minor": 0
      },
      "text/plain": [
       "Process 14:   0%|          | 0/214843 [00:00<?, ?it/s]"
      ]
     },
     "metadata": {},
     "output_type": "display_data"
    },
    {
     "name": "stdout",
     "output_type": "stream",
     "text": [
      " "
     ]
    },
    {
     "data": {
      "application/vnd.jupyter.widget-view+json": {
       "model_id": "d7d62da2f52d427389149cce0097fed8",
       "version_major": 2,
       "version_minor": 0
      },
      "text/plain": [
       "Process 15:   0%|          | 0/214843 [00:00<?, ?it/s]"
      ]
     },
     "metadata": {},
     "output_type": "display_data"
    },
    {
     "name": "stdout",
     "output_type": "stream",
     "text": [
      " "
     ]
    },
    {
     "data": {
      "application/vnd.jupyter.widget-view+json": {
       "model_id": "3d98437b48f54a6484eb3b2734dd3f0c",
       "version_major": 2,
       "version_minor": 0
      },
      "text/plain": [
       "Process 16:   0%|          | 0/214843 [00:00<?, ?it/s]"
      ]
     },
     "metadata": {},
     "output_type": "display_data"
    },
    {
     "name": "stdout",
     "output_type": "stream",
     "text": [
      " "
     ]
    },
    {
     "data": {
      "application/vnd.jupyter.widget-view+json": {
       "model_id": "361b5dc2e3364e6e9da32de06f39eafe",
       "version_major": 2,
       "version_minor": 0
      },
      "text/plain": [
       "Process 17:   0%|          | 0/214843 [00:00<?, ?it/s]"
      ]
     },
     "metadata": {},
     "output_type": "display_data"
    },
    {
     "name": "stdout",
     "output_type": "stream",
     "text": [
      " "
     ]
    },
    {
     "data": {
      "application/vnd.jupyter.widget-view+json": {
       "model_id": "ea0998a5843240d3963cb3cbdd7b2d22",
       "version_major": 2,
       "version_minor": 0
      },
      "text/plain": [
       "Process 18:   0%|          | 0/214843 [00:00<?, ?it/s]"
      ]
     },
     "metadata": {},
     "output_type": "display_data"
    },
    {
     "name": "stdout",
     "output_type": "stream",
     "text": [
      " "
     ]
    },
    {
     "data": {
      "application/vnd.jupyter.widget-view+json": {
       "model_id": "95a572646e6f4ab68ab0a0b8b870a658",
       "version_major": 2,
       "version_minor": 0
      },
      "text/plain": [
       "Process 19:   0%|          | 0/214843 [00:00<?, ?it/s]"
      ]
     },
     "metadata": {},
     "output_type": "display_data"
    }
   ],
   "source": [
    "waves = ut.multiprocess_sim(assays, 3)"
   ]
  },
  {
   "cell_type": "code",
   "execution_count": 26,
   "metadata": {},
   "outputs": [],
   "source": [
    "speeds = []\n",
    "for i in range(len(a_list)):\n",
    "    speeds.append(np.mean(waves[i].traj.speed(200)[:]))"
   ]
  },
  {
   "cell_type": "code",
   "execution_count": 27,
   "metadata": {},
   "outputs": [
    {
     "data": {
      "image/png": "[encoded data removed]",
      "text/plain": [
       "<Figure size 252x216 with 2 Axes>"
      ]
     },
     "metadata": {
      "needs_background": "light"
     },
     "output_type": "display_data"
    }
   ],
   "source": [
    "fig, ax1 = plt.subplots(figsize=(3.5,3))\n",
    "ax2 = plt.twinx(ax1)\n",
    "\n",
    "ax1.plot(a_list, speeds)\n",
    "ax1.plot(np.ones(2)*0.06210757493071612, [min(speeds), max(speeds)], c='k', ls='--', lw=3)\n",
    "\n",
    "ax2.plot(a_list, beta0*np.sqrt(a_list)/(a_list+gamma))\n",
    "plt.tight_layout()"
   ]
  },
  {
   "cell_type": "code",
   "execution_count": 28,
   "metadata": {},
   "outputs": [],
   "source": [
    "f = open('data/speed_R0_vs_alpha_FKPP.tsv', 'w')\n",
    "\n",
    "header = '#D\\tspeed\\tR0\\n'\n",
    "f.write(header)\n",
    "\n",
    "for i in range(len(a_list)):\n",
    "    f.write(str(a_list[i]) + '\\t')\n",
    "    f.write(str(speeds[i]) + '\\t')\n",
    "    f.write(str(beta0*np.sqrt(a_list[i])/(a_list[i]+gamma)) + '\\t')\n",
    "    f.write('\\n')\n",
    "    \n",
    "f.close()\n",
    "\n",
    "\n",
    "f = open('data/speed_R0_vs_alpha_FKPP_pars.tsv', 'w')\n",
    "\n",
    "header = '#parameter\\tvalue\\n'\n",
    "f.write(header)\n",
    "\n",
    "f.write('D\\t' + str(waves[0].p.D_coef) + '\\n')\n",
    "f.write('beta0\\t' + str(waves[0].p.beta) + '\\n')\n",
    "f.write('alpha\\t' + str(waves[0].p.alpha) + '\\n')\n",
    "f.write('gamma\\t' + str(waves[0].p.gamma) + '\\n')\n",
    "f.write('Nh\\t' + str(waves[0].p.Nh) + '\\n')\n",
    "f.write('M\\t' + str(waves[0].p.M) + '\\n')\n",
    "f.write('cutoff\\t' + str(waves[0].p.cutoff) + '\\n')\n",
    "\n",
    "f.close()"
   ]
  },
  {
   "cell_type": "markdown",
   "metadata": {},
   "source": [
    "## linear-fitness regime"
   ]
  },
  {
   "cell_type": "code",
   "execution_count": 7,
   "metadata": {},
   "outputs": [],
   "source": [
    "r0 = 75.66\n",
    "a_list2 = np.linspace(0.0502, 0.055, 20)\n",
    "b_list2 = np.sqrt(a_list2)*beta0"
   ]
  },
  {
   "cell_type": "code",
   "execution_count": 8,
   "metadata": {},
   "outputs": [],
   "source": [
    "assays = []\n",
    "for i in range(len(a_list2)):\n",
    "    assays.append(build_assay_wave(i, r0, D_coef, a_list2[i], b_list2[i], gamma))"
   ]
  },
  {
   "cell_type": "code",
   "execution_count": null,
   "metadata": {},
   "outputs": [],
   "source": [
    "waves2 = ut.multiprocess_sim(assays, 4)"
   ]
  },
  {
   "cell_type": "code",
   "execution_count": 10,
   "metadata": {},
   "outputs": [],
   "source": [
    "speeds2 = []\n",
    "for i in range(len(a_list2)):\n",
    "    speeds2.append(np.mean(waves2[i].traj.speed(50)[300:]))"
   ]
  },
  {
   "cell_type": "code",
   "execution_count": 13,
   "metadata": {},
   "outputs": [
    {
     "data": {
      "text/plain": [
       "4082"
      ]
     },
     "execution_count": 13,
     "metadata": {},
     "output_type": "execute_result"
    }
   ],
   "source": [
    "len(waves2[i].traj.speed(1000))"
   ]
  },
  {
   "cell_type": "code",
   "execution_count": 14,
   "metadata": {},
   "outputs": [
    {
     "data": {
      "image/png": "[encoded data removed]",
      "text/plain": [
       "<Figure size 252x216 with 2 Axes>"
      ]
     },
     "metadata": {
      "needs_background": "light"
     },
     "output_type": "display_data"
    }
   ],
   "source": [
    "fig, ax1 = plt.subplots(figsize=(3.5,3))\n",
    "ax2 = plt.twinx(ax1)\n",
    "\n",
    "ax1.plot(a_list2, speeds2)\n",
    "ax1.plot(np.ones(2)*0.05112595680039541, [min(speeds2), max(speeds2)], c='k', ls='--', lw=3)\n",
    "\n",
    "ax2.plot(a_list2, beta0*np.sqrt(a_list2)/(a_list2+gamma))\n",
    "plt.tight_layout()"
   ]
  },
  {
   "cell_type": "code",
   "execution_count": 29,
   "metadata": {},
   "outputs": [],
   "source": [
    "f = open('data/speed_R0_vs_alpha_linfit.tsv', 'w')\n",
    "\n",
    "header = '#D\\tspeed\\tR0\\n'\n",
    "f.write(header)\n",
    "\n",
    "for i in range(len(a_list2)):\n",
    "    f.write(str(a_list2[i]) + '\\t')\n",
    "    f.write(str(speeds2[i]) + '\\t')\n",
    "    f.write(str(beta0*np.sqrt(a_list2[i])/(a_list2[i]+gamma)) + '\\t')\n",
    "    f.write('\\n')\n",
    "    \n",
    "f.close()\n",
    "\n",
    "\n",
    "f = open('data/speed_R0_vs_alpha_linfit_pars.tsv', 'w')\n",
    "\n",
    "header = '#parameter\\tvalue\\n'\n",
    "f.write(header)\n",
    "\n",
    "f.write('D\\t' + str(waves2[0].p.D_coef) + '\\n')\n",
    "f.write('beta0\\t' + str(waves2[0].p.beta) + '\\n')\n",
    "f.write('alpha\\t' + str(waves2[0].p.alpha) + '\\n')\n",
    "f.write('gamma\\t' + str(waves2[0].p.gamma) + '\\n')\n",
    "f.write('Nh\\t' + str(waves2[0].p.Nh) + '\\n')\n",
    "f.write('M\\t' + str(waves2[0].p.M) + '\\n')\n",
    "f.write('cutoff\\t' + str(waves2[0].p.cutoff) + '\\n')\n",
    "\n",
    "f.close()"
   ]
  },
  {
   "cell_type": "code",
   "execution_count": null,
   "metadata": {},
   "outputs": [],
   "source": []
  }
 ],
 "metadata": {
  "kernelspec": {
   "display_name": "Python 3",
   "language": "python",
   "name": "python3"
  },
  "language_info": {
   "codemirror_mode": {
    "name": "ipython",
    "version": 3
   },
   "file_extension": ".py",
   "mimetype": "text/x-python",
   "name": "python",
   "nbconvert_exporter": "python",
   "pygments_lexer": "ipython3",
   "version": "3.8.8"
  }
 },
 "nbformat": 4,
 "nbformat_minor": 4
}
