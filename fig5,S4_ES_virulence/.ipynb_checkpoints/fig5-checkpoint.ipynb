{
 "cells": [
  {
   "cell_type": "code",
   "execution_count": 1,
   "id": "21dcae67-3af3-47f9-98dc-e8385cc7ec4d",
   "metadata": {},
   "outputs": [],
   "source": [
    "import numpy as np\n",
    "import matplotlib.pyplot as plt"
   ]
  },
  {
   "cell_type": "markdown",
   "id": "89de8ca3-8c47-4df5-b7ed-bdae41a6ff5f",
   "metadata": {},
   "source": [
    "### Importing data points"
   ]
  },
  {
   "cell_type": "code",
   "execution_count": 21,
   "id": "13314858-880f-4888-82aa-e614cae612c0",
   "metadata": {},
   "outputs": [],
   "source": [
    "f = open('data/ES_virulence1.tsv', 'r')\n",
    "\n",
    "r0_list1, f_tips1, s_tips1 = np.array([]), np.array([]), np.array([])\n",
    "a_list1, a_tip1, a_FKPP1, a_lin1 = np.array([]), np.array([]), np.array([]), np.array([])\n",
    "for line in f.readlines():\n",
    "    if line[0] == '#':\n",
    "        continue\n",
    "        \n",
    "    r0_list1 = np.append(r0_list1, float(line.split('\\t')[0]))\n",
    "    a_list1 = np.append(a_list1, float(line.split('\\t')[1]))\n",
    "    a_tip1 = np.append(a_tip1, float(line.split('\\t')[2]))\n",
    "    f_tips1 = np.append(f_tips1, float(line.split('\\t')[3]))\n",
    "    s_tips1 = np.append(s_tips1, float(line.split('\\t')[4]))\n",
    "    a_FKPP1 = np.append(a_FKPP1, float(line.split('\\t')[5]))\n",
    "    if line.split('\\t')[6] == 0:\n",
    "        a_lin1 = np.append(a_lin1, float('nan'))\n",
    "    else:\n",
    "        a_lin1 = np.append(a_lin1, float(line.split('\\t')[6]))\n",
    "    \n",
    "f.close()\n",
    "\n",
    "f = open('data/ES_virulence1_pars.tsv', 'r')\n",
    "lines = f.readlines()\n",
    "D1 = float(lines[1].split('\\t')[1])\n",
    "b1 = float(lines[2].split('\\t')[1])\n",
    "gamma1 = float(lines[3].split('\\t')[1])\n",
    "f.close()\n",
    "\n",
    "\n",
    "f = open('data/ES_virulence2.tsv', 'r')\n",
    "\n",
    "r0_list2, f_tips2, s_tips2 = np.array([]), np.array([]), np.array([])\n",
    "a_list2, a_tip2, a_FKPP2, a_lin2 = np.array([]), np.array([]), np.array([]), np.array([])\n",
    "for line in f.readlines():\n",
    "    if line[0] == '#':\n",
    "        continue\n",
    "        \n",
    "    r0_list2 = np.append(r0_list2, float(line.split('\\t')[0]))\n",
    "    a_list2 = np.append(a_list2, float(line.split('\\t')[1]))\n",
    "    a_tip2 = np.append(a_tip2, float(line.split('\\t')[2]))\n",
    "    f_tips2 = np.append(f_tips2, float(line.split('\\t')[3]))\n",
    "    s_tips2 = np.append(s_tips2, float(line.split('\\t')[4]))\n",
    "    a_FKPP2 = np.append(a_FKPP2, float(line.split('\\t')[5]))\n",
    "    if line.split('\\t')[6] == 0:\n",
    "        a_lin2 = np.append(a_lin2, float('nan'))\n",
    "    else:\n",
    "        a_lin2 = np.append(a_lin2, float(line.split('\\t')[6]))\n",
    "    \n",
    "f.close()\n",
    "\n",
    "f = open('data/ES_virulence2_pars.tsv', 'r')\n",
    "lines = f.readlines()\n",
    "D2 = float(lines[1].split('\\t')[1])\n",
    "f.close()\n",
    "\n",
    "\n",
    "f = open('data/ES_virulence3.tsv', 'r')\n",
    "\n",
    "r0_list3, f_tips3, s_tips3 = np.array([]), np.array([]), np.array([])\n",
    "a_list3, a_tip3, a_FKPP3, a_lin3 = np.array([]), np.array([]), np.array([]), np.array([])\n",
    "for line in f.readlines():\n",
    "    if line[0] == '#':\n",
    "        continue\n",
    "        \n",
    "    r0_list3 = np.append(r0_list3, float(line.split('\\t')[0]))\n",
    "    a_list3 = np.append(a_list3, float(line.split('\\t')[1]))\n",
    "    a_tip3 = np.append(a_tip3, float(line.split('\\t')[2]))\n",
    "    f_tips3 = np.append(f_tips3, float(line.split('\\t')[3]))\n",
    "    s_tips3 = np.append(s_tips3, float(line.split('\\t')[4]))\n",
    "    a_FKPP3 = np.append(a_FKPP3, float(line.split('\\t')[5]))\n",
    "    if line.split('\\t')[6] == 0:\n",
    "        a_lin3 = np.append(a_lin3, float('nan'))\n",
    "    else:\n",
    "        a_lin3 = np.append(a_lin3, float(line.split('\\t')[6]))\n",
    "    \n",
    "f.close()\n",
    "\n",
    "f = open('data/ES_virulence3_pars.tsv', 'r')\n",
    "lines = f.readlines()\n",
    "D3 = float(lines[1].split('\\t')[1])\n",
    "f.close()\n",
    "\n",
    "\n",
    "f = open('data/ES_virulence_stoch.tsv', 'r')\n",
    "\n",
    "r0_list_st, f_tips_st, s_tips_st = np.array([]), np.array([]), np.array([])\n",
    "a_list_st, a_std = np.array([]), np.array([])\n",
    "for line in f.readlines():\n",
    "    if line[0] == '#':\n",
    "        continue\n",
    "        \n",
    "    r0_list_st = np.append(r0_list_st, float(line.split('\\t')[0]))\n",
    "    a_list_st = np.append(a_list_st, float(line.split('\\t')[1]))\n",
    "    a_std = np.append(a_std, float(line.split('\\t')[2]))\n",
    "    f_tips_st = np.append(f_tips_st, float(line.split('\\t')[3]))\n",
    "    s_tips_st = np.append(s_tips_st, float(line.split('\\t')[4]))\n",
    "    \n",
    "f.close()\n",
    "\n",
    "f = open('data/ES_virulence_stoch_pars.tsv', 'r')\n",
    "lines = f.readlines()\n",
    "D_st = float(lines[1].split('\\t')[1])\n",
    "gamma_st = float(lines[3].split('\\t')[1])\n",
    "f.close()"
   ]
  },
  {
   "cell_type": "markdown",
   "id": "72ad4dda-42cb-465b-bba5-86e1e9b52af4",
   "metadata": {},
   "source": [
    "### Panel A"
   ]
  },
  {
   "cell_type": "code",
   "execution_count": 12,
   "id": "d1bff4a7-c9b5-471e-98e1-0ef890ca28f5",
   "metadata": {},
   "outputs": [
    {
     "data": {
      "image/png": "[encoded data removed]",
      "text/plain": [
       "<Figure size 432x216 with 1 Axes>"
      ]
     },
     "metadata": {
      "needs_background": "light"
     },
     "output_type": "display_data"
    }
   ],
   "source": [
    "plt.figure(figsize=(6,3))\n",
    "plt.xscale('log')\n",
    "plt.scatter(r0_list1**2/D1, a_list1, marker='o', facecolor='none', edgecolor='b', s=60, label=r'$D$=%g'%D1)\n",
    "plt.scatter(r0_list2**2/D2, a_list2, marker='s', s=60, facecolor='none', edgecolor='#a2cffe', label=r'$D$=%g'%D2)\n",
    "plt.scatter(r0_list3**2/D3, a_list3, marker='v', edgecolor='#2c6fbb', s=60, facecolor='none', label=r'$D$=%g'%D3)\n",
    "\n",
    "plt.legend()\n",
    "\n",
    "i_FKPP_end = 13\n",
    "i_lin_start = 17\n",
    "plt.plot(r0_list1[:i_FKPP_end]**2/D1, a_FKPP1[:i_FKPP_end], c='k', ls=':', lw=2)\n",
    "plt.plot(r0_list1[i_lin_start:]**2/D1, a_lin1[i_lin_start:], c='k', ls='--', lw=2)\n",
    "\n",
    "plt.xlabel(r'$r_0^2/D$', fontsize=12)\n",
    "plt.ylabel(r'$\\alpha^*$', fontsize=12)\n",
    "\n",
    "plt.savefig('plots/es_virulence.svg', dpi=200)"
   ]
  },
  {
   "cell_type": "markdown",
   "id": "bd806276-342c-4235-a113-9d6c5c46f043",
   "metadata": {},
   "source": [
    "### Panel A inset"
   ]
  },
  {
   "cell_type": "code",
   "execution_count": 22,
   "id": "3719c16c-376a-4411-a9ab-d2b8c11a2f80",
   "metadata": {},
   "outputs": [],
   "source": [
    "sigm = -2.3381 * (D1*s_tips1**2)**(1/3)\n",
    "y = f_tips1 + gamma1 + 2*sigm/3\n",
    "\n",
    "sigm_st = -2.3381 * (D_st*s_tips_st**2)**(1/3)\n",
    "y_st = f_tips_st + gamma_st + 2*sigm_st/3"
   ]
  },
  {
   "cell_type": "code",
   "execution_count": 23,
   "id": "7c9ccb58-a271-4635-bce3-98ec3ef0da94",
   "metadata": {},
   "outputs": [
    {
     "data": {
      "image/png": "[encoded data removed]",
      "text/plain": [
       "<Figure size 180x216 with 1 Axes>"
      ]
     },
     "metadata": {
      "needs_background": "light"
     },
     "output_type": "display_data"
    }
   ],
   "source": [
    "fig, ax1 = plt.subplots(1,1,figsize=(2.5,3))\n",
    "\n",
    "ax1.scatter(a_list1, y, marker='o', facecolor='none', edgecolor='b', s=60)\n",
    "ax1.scatter(a_list_st, y_st, marker='x', c='g')\n",
    "ax1.set_xlabel(r'$F_T^* + 2/3 \\sigma_T^* + \\gamma$', fontsize=14)\n",
    "ax1.set_ylabel(r'$\\alpha^*$', fontsize=14)\n",
    "\n",
    "xs = np.linspace(min(y), max(y))\n",
    "ax1.plot(xs, xs, c='k')\n",
    "plt.savefig('plots/es_virulence_relation.svg', dpi=200)"
   ]
  },
  {
   "cell_type": "code",
   "execution_count": null,
   "id": "b8400b6f-c2bf-49f6-ae4d-fb5a877f95c2",
   "metadata": {},
   "outputs": [],
   "source": []
  }
 ],
 "metadata": {
  "kernelspec": {
   "display_name": "Python 3",
   "language": "python",
   "name": "python3"
  },
  "language_info": {
   "codemirror_mode": {
    "name": "ipython",
    "version": 3
   },
   "file_extension": ".py",
   "mimetype": "text/x-python",
   "name": "python",
   "nbconvert_exporter": "python",
   "pygments_lexer": "ipython3",
   "version": "3.8.8"
  }
 },
 "nbformat": 4,
 "nbformat_minor": 5
}
