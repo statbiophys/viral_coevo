{
 "cells": [
  {
   "cell_type": "code",
   "execution_count": 2,
   "id": "21dcae67-3af3-47f9-98dc-e8385cc7ec4d",
   "metadata": {},
   "outputs": [],
   "source": [
    "import numpy as np\n",
    "import matplotlib.pyplot as plt"
   ]
  },
  {
   "cell_type": "markdown",
   "id": "89de8ca3-8c47-4df5-b7ed-bdae41a6ff5f",
   "metadata": {},
   "source": [
    "### Importing data points"
   ]
  },
  {
   "cell_type": "code",
   "execution_count": 6,
   "id": "13314858-880f-4888-82aa-e614cae612c0",
   "metadata": {},
   "outputs": [],
   "source": [
    "f = open('data/ES_virulence_stoch.tsv', 'r')\n",
    "\n",
    "r0_list_st, f_tips_st, s_tips_st = np.array([]), np.array([]), np.array([])\n",
    "a_list_st, a_std = np.array([]), np.array([])\n",
    "for line in f.readlines():\n",
    "    if line[0] == '#':\n",
    "        continue\n",
    "        \n",
    "    r0_list_st = np.append(r0_list_st, float(line.split('\\t')[0]))\n",
    "    a_list_st = np.append(a_list_st, float(line.split('\\t')[1]))\n",
    "    a_std = np.append(a_std, float(line.split('\\t')[2]))\n",
    "    f_tips_st = np.append(f_tips_st, float(line.split('\\t')[3]))\n",
    "    s_tips_st = np.append(s_tips_st, float(line.split('\\t')[4]))\n",
    "    \n",
    "f.close()\n",
    "\n",
    "f = open('data/ES_virulence_stoch_pars.tsv', 'r')\n",
    "lines = f.readlines()\n",
    "D_st = float(lines[1].split('\\t')[1])\n",
    "gamma_st = float(lines[3].split('\\t')[1])\n",
    "f.close()\n",
    "\n",
    "\n",
    "Delta_x = 0.5\n",
    "f = open('data/ES_virulence_Dx=%g.tsv'%Delta_x, 'r')\n",
    "\n",
    "r0_list1, f_tips1, s_tips1 = np.array([]), np.array([]), np.array([])\n",
    "a_list1, a_tip1, a_FKPP1, a_lin1 = np.array([]), np.array([]), np.array([]), np.array([])\n",
    "for line in f.readlines():\n",
    "    if line[0] == '#':\n",
    "        continue\n",
    "        \n",
    "    r0_list1 = np.append(r0_list1, float(line.split('\\t')[0]))\n",
    "    a_list1 = np.append(a_list1, float(line.split('\\t')[1]))\n",
    "    a_tip1 = np.append(a_tip1, float(line.split('\\t')[2]))\n",
    "    f_tips1 = np.append(f_tips1, float(line.split('\\t')[3]))\n",
    "    s_tips1 = np.append(s_tips1, float(line.split('\\t')[4]))\n",
    "    a_FKPP1 = np.append(a_FKPP1, float(line.split('\\t')[5]))\n",
    "    if line.split('\\t')[6] == 0:\n",
    "        a_lin1 = np.append(a_lin1, float('nan'))\n",
    "    else:\n",
    "        a_lin1 = np.append(a_lin1, float(line.split('\\t')[6]))\n",
    "    \n",
    "f.close()\n",
    "\n",
    "f = open('data/ES_virulence_pars_Dx=%g.tsv'%Delta_x, 'r')\n",
    "lines = f.readlines()\n",
    "D1 = float(lines[1].split('\\t')[1])\n",
    "b1 = float(lines[2].split('\\t')[1])\n",
    "gamma1 = float(lines[3].split('\\t')[1])\n",
    "f.close()\n",
    "\n",
    "         \n",
    "Delta_x = 1\n",
    "f = open('data/ES_virulence_Dx=%g.tsv'%Delta_x, 'r')\n",
    "\n",
    "r0_list2, f_tips2, s_tips2 = np.array([]), np.array([]), np.array([])\n",
    "a_list2, a_tip2, a_FKPP2, a_lin2 = np.array([]), np.array([]), np.array([]), np.array([])\n",
    "for line in f.readlines():\n",
    "    if line[0] == '#':\n",
    "        continue\n",
    "        \n",
    "    r0_list2 = np.append(r0_list2, float(line.split('\\t')[0]))\n",
    "    a_list2 = np.append(a_list2, float(line.split('\\t')[1]))\n",
    "    a_tip2 = np.append(a_tip2, float(line.split('\\t')[2]))\n",
    "    f_tips2 = np.append(f_tips2, float(line.split('\\t')[3]))\n",
    "    s_tips2 = np.append(s_tips2, float(line.split('\\t')[4]))\n",
    "    a_FKPP2 = np.append(a_FKPP2, float(line.split('\\t')[5]))\n",
    "    if line.split('\\t')[6] == 0:\n",
    "        a_lin2 = np.append(a_lin2, float('nan'))\n",
    "    else:\n",
    "        a_lin2 = np.append(a_lin2, float(line.split('\\t')[6]))\n",
    "    \n",
    "f.close()\n",
    "\n",
    "f = open('data/ES_virulence_pars_Dx=%g.tsv'%Delta_x, 'r')\n",
    "lines = f.readlines()\n",
    "D2 = float(lines[1].split('\\t')[1])\n",
    "f.close()\n",
    "\n",
    "\n",
    "Delta_x = 2\n",
    "f = open('data/ES_virulence_Dx=%g.tsv'%Delta_x, 'r')\n",
    "\n",
    "r0_list3, f_tips3, s_tips3 = np.array([]), np.array([]), np.array([])\n",
    "a_list3, a_tip3, a_FKPP3, a_lin3 = np.array([]), np.array([]), np.array([]), np.array([])\n",
    "for line in f.readlines():\n",
    "    if line[0] == '#':\n",
    "        continue\n",
    "        \n",
    "    r0_list3 = np.append(r0_list3, float(line.split('\\t')[0]))\n",
    "    a_list3 = np.append(a_list3, float(line.split('\\t')[1]))\n",
    "    a_tip3 = np.append(a_tip3, float(line.split('\\t')[2]))\n",
    "    f_tips3 = np.append(f_tips3, float(line.split('\\t')[3]))\n",
    "    s_tips3 = np.append(s_tips3, float(line.split('\\t')[4]))\n",
    "    a_FKPP3 = np.append(a_FKPP3, float(line.split('\\t')[5]))\n",
    "    if line.split('\\t')[6] == 0:\n",
    "        a_lin3 = np.append(a_lin3, float('nan'))\n",
    "    else:\n",
    "        a_lin3 = np.append(a_lin3, float(line.split('\\t')[6]))\n",
    "    \n",
    "f.close()\n",
    "\n",
    "f = open('data/ES_virulence_pars_Dx=%g.tsv'%Delta_x, 'r')\n",
    "lines = f.readlines()\n",
    "D3 = float(lines[1].split('\\t')[1])\n",
    "f.close()\n",
    "\n",
    "\n",
    "f = open('data/ES_virulence_stoch.tsv', 'r')\n",
    "\n",
    "r0_list_st, f_tips_st, s_tips_st = np.array([]), np.array([]), np.array([])\n",
    "a_list_st, a_std = np.array([]), np.array([])\n",
    "for line in f.readlines():\n",
    "    if line[0] == '#':\n",
    "        continue\n",
    "        \n",
    "    r0_list_st = np.append(r0_list_st, float(line.split('\\t')[0]))\n",
    "    a_list_st = np.append(a_list_st, float(line.split('\\t')[1]))\n",
    "    a_std = np.append(a_std, float(line.split('\\t')[2]))\n",
    "    f_tips_st = np.append(f_tips_st, float(line.split('\\t')[3]))\n",
    "    s_tips_st = np.append(s_tips_st, float(line.split('\\t')[4]))\n",
    "    \n",
    "f.close()\n",
    "\n",
    "f = open('data/ES_virulence_stoch_pars.tsv', 'r')\n",
    "lines = f.readlines()\n",
    "D_st = float(lines[1].split('\\t')[1])\n",
    "gamma_st = float(lines[3].split('\\t')[1])\n",
    "f.close()"
   ]
  },
  {
   "cell_type": "markdown",
   "id": "fb1da9ed-343c-4a73-a9fa-bce5151c7ff2",
   "metadata": {},
   "source": [
    "## Alpha as a function of r0"
   ]
  },
  {
   "cell_type": "code",
   "execution_count": 14,
   "id": "7c9ccb58-a271-4635-bce3-98ec3ef0da94",
   "metadata": {},
   "outputs": [
    {
     "data": {
      "image/png": "[encoded data removed]",
      "text/plain": [
       "<Figure size 432x216 with 1 Axes>"
      ]
     },
     "metadata": {
      "needs_background": "light"
     },
     "output_type": "display_data"
    }
   ],
   "source": [
    "plt.figure(figsize=(6,3))\n",
    "plt.xscale('log')\n",
    "plt.xlabel('$r_0$', fontsize=12)\n",
    "plt.xlim(r0_list_st[0]-0.002, r0_list_st[-1]+0.2)\n",
    "plt.ylabel(r'$\\alpha^*$', fontsize=12)\n",
    "\n",
    "plt.errorbar(r0_list_st, a_list_st, yerr=a_std, c='k')\n",
    "\n",
    "sigm = -2.3381*(D_st*s_tips_st**2)**(1/3) \n",
    "est = f_tips_st + gamma_st + 2/3*sigm\n",
    "plt.plot(r0_list_st, est, label=r'$v^2/4/D+\\gamma - \\xi_0(D s_T^2)^{1/3}/3$')\n",
    "\n",
    "plt.savefig('plots/es_virulence_stochastic.svg', dpi=200)"
   ]
  },
  {
   "cell_type": "markdown",
   "id": "3219aa65-63e3-4bd6-a020-2c05371a2f52",
   "metadata": {},
   "source": [
    "## ES relation"
   ]
  },
  {
   "cell_type": "code",
   "execution_count": 13,
   "id": "b8400b6f-c2bf-49f6-ae4d-fb5a877f95c2",
   "metadata": {},
   "outputs": [],
   "source": [
    "sigm1 = -2.3381 * (D1*s_tips1**2)**(1/3)\n",
    "y1 = f_tips1 + gamma1 + 2*sigm1/3\n",
    "sigm2 = -2.3381 * (D2*s_tips2**2)**(1/3)\n",
    "y2 = f_tips2 + gamma1 + 2*sigm2/3\n",
    "sigm3 = -2.3381 * (D3*s_tips3**2)**(1/3)\n",
    "y3 = f_tips3 + gamma1 + 2*sigm3/3\n",
    "\n",
    "sigm_st = -2.3381 * (D_st*s_tips_st**2)**(1/3)\n",
    "y_st = f_tips_st + gamma_st + 2*sigm_st/3"
   ]
  },
  {
   "cell_type": "code",
   "execution_count": 23,
   "id": "609c5208-a6fd-4d4f-9a20-c9130c4da83a",
   "metadata": {},
   "outputs": [
    {
     "data": {
      "image/png": "[encoded data removed]",
      "text/plain": [
       "<Figure size 468x216 with 2 Axes>"
      ]
     },
     "metadata": {
      "needs_background": "light"
     },
     "output_type": "display_data"
    }
   ],
   "source": [
    "fig, (ax1, ax2) = plt.subplots(1,2,figsize=(6.5,3))\n",
    "\n",
    "ax1.scatter(a_list1, y1, marker='o', facecolor='none', edgecolor='b', s=60, label=r'$D$=%g'%D1)\n",
    "ax1.scatter(a_list2, y2, marker='s', s=60, facecolor='none', edgecolor='#a2cffe', label=r'$D$=%g'%D2)\n",
    "ax1.scatter(a_list3, y3, marker='v', edgecolor='#2c6fbb', s=60, facecolor='none', label=r'$D$=%g'%D3)\n",
    "ax1.set_xlabel(r'$F_T^* + 2/3 \\sigma_T^* + \\gamma$', fontsize=14)\n",
    "ax1.legend()\n",
    "\n",
    "ax2.scatter(a_list_st, y_st, marker='x', c='g')\n",
    "ax2.set_xlabel(r'$F_T^* + 2/3 \\sigma_T^* + \\gamma$', fontsize=14)\n",
    "ax1.set_ylabel(r'$\\alpha^*$', fontsize=14)\n",
    "\n",
    "xs = np.linspace(min(y1), max(y1))\n",
    "ax1.plot(xs, xs, c='k')\n",
    "xs = np.linspace(min(y_st), max(y_st))\n",
    "ax2.plot(xs, xs, c='k')\n",
    "\n",
    "plt.savefig('plots/es_virulence_relation.svg', dpi=200)"
   ]
  },
  {
   "cell_type": "code",
   "execution_count": null,
   "id": "0b5d5dcd-8305-4bfa-8590-640adfe00d15",
   "metadata": {},
   "outputs": [],
   "source": []
  }
 ],
 "metadata": {
  "kernelspec": {
   "display_name": "Python 3",
   "language": "python",
   "name": "python3"
  },
  "language_info": {
   "codemirror_mode": {
    "name": "ipython",
    "version": 3
   },
   "file_extension": ".py",
   "mimetype": "text/x-python",
   "name": "python",
   "nbconvert_exporter": "python",
   "pygments_lexer": "ipython3",
   "version": "3.8.8"
  }
 },
 "nbformat": 4,
 "nbformat_minor": 5
}
