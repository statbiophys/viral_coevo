{
 "cells": [
  {
   "cell_type": "code",
   "execution_count": 15,
   "id": "21dcae67-3af3-47f9-98dc-e8385cc7ec4d",
   "metadata": {},
   "outputs": [],
   "source": [
    "import numpy as np\n",
    "import matplotlib.pyplot as plt"
   ]
  },
  {
   "cell_type": "markdown",
   "id": "89de8ca3-8c47-4df5-b7ed-bdae41a6ff5f",
   "metadata": {},
   "source": [
    "### Importing data points"
   ]
  },
  {
   "cell_type": "code",
   "execution_count": 16,
   "id": "13314858-880f-4888-82aa-e614cae612c0",
   "metadata": {},
   "outputs": [],
   "source": [
    "Delta_x = 0.5\n",
    "f = open('data/ES_virulence_Dx=%g.tsv'%Delta_x, 'r')\n",
    "\n",
    "r0_list1, f_tips1, s_tips1 = np.array([]), np.array([]), np.array([])\n",
    "a_list1, a_tip1, a_FKPP1, a_lin1 = np.array([]), np.array([]), np.array([]), np.array([])\n",
    "for line in f.readlines():\n",
    "    if line[0] == '#':\n",
    "        continue\n",
    "        \n",
    "    r0_list1 = np.append(r0_list1, float(line.split('\\t')[0]))\n",
    "    a_list1 = np.append(a_list1, float(line.split('\\t')[1]))\n",
    "    a_tip1 = np.append(a_tip1, float(line.split('\\t')[2]))\n",
    "    f_tips1 = np.append(f_tips1, float(line.split('\\t')[3]))\n",
    "    s_tips1 = np.append(s_tips1, float(line.split('\\t')[4]))\n",
    "    a_FKPP1 = np.append(a_FKPP1, float(line.split('\\t')[5]))\n",
    "    if line.split('\\t')[6] == 0:\n",
    "        a_lin1 = np.append(a_lin1, float('nan'))\n",
    "    else:\n",
    "        a_lin1 = np.append(a_lin1, float(line.split('\\t')[6]))\n",
    "    \n",
    "f.close()\n",
    "\n",
    "f = open('data/ES_virulence_pars_Dx=%g.tsv'%Delta_x, 'r')\n",
    "lines = f.readlines()\n",
    "D1 = float(lines[1].split('\\t')[1])\n",
    "b1 = float(lines[2].split('\\t')[1])\n",
    "gamma1 = float(lines[3].split('\\t')[1])\n",
    "f.close()\n",
    "\n",
    "         \n",
    "Delta_x = 1\n",
    "f = open('data/ES_virulence_Dx=%g.tsv'%Delta_x, 'r')\n",
    "\n",
    "r0_list2, f_tips2, s_tips2 = np.array([]), np.array([]), np.array([])\n",
    "a_list2, a_tip2, a_FKPP2, a_lin2 = np.array([]), np.array([]), np.array([]), np.array([])\n",
    "for line in f.readlines():\n",
    "    if line[0] == '#':\n",
    "        continue\n",
    "        \n",
    "    r0_list2 = np.append(r0_list2, float(line.split('\\t')[0]))\n",
    "    a_list2 = np.append(a_list2, float(line.split('\\t')[1]))\n",
    "    a_tip2 = np.append(a_tip2, float(line.split('\\t')[2]))\n",
    "    f_tips2 = np.append(f_tips2, float(line.split('\\t')[3]))\n",
    "    s_tips2 = np.append(s_tips2, float(line.split('\\t')[4]))\n",
    "    a_FKPP2 = np.append(a_FKPP2, float(line.split('\\t')[5]))\n",
    "    if line.split('\\t')[6] == 0:\n",
    "        a_lin2 = np.append(a_lin2, float('nan'))\n",
    "    else:\n",
    "        a_lin2 = np.append(a_lin2, float(line.split('\\t')[6]))\n",
    "    \n",
    "f.close()\n",
    "\n",
    "f = open('data/ES_virulence_pars_Dx=%g.tsv'%Delta_x, 'r')\n",
    "lines = f.readlines()\n",
    "D2 = float(lines[1].split('\\t')[1])\n",
    "f.close()\n",
    "\n",
    "\n",
    "Delta_x = 2\n",
    "f = open('data/ES_virulence_Dx=%g.tsv'%Delta_x, 'r')\n",
    "\n",
    "r0_list3, f_tips3, s_tips3 = np.array([]), np.array([]), np.array([])\n",
    "a_list3, a_tip3, a_FKPP3, a_lin3 = np.array([]), np.array([]), np.array([]), np.array([])\n",
    "for line in f.readlines():\n",
    "    if line[0] == '#':\n",
    "        continue\n",
    "        \n",
    "    r0_list3 = np.append(r0_list3, float(line.split('\\t')[0]))\n",
    "    a_list3 = np.append(a_list3, float(line.split('\\t')[1]))\n",
    "    a_tip3 = np.append(a_tip3, float(line.split('\\t')[2]))\n",
    "    f_tips3 = np.append(f_tips3, float(line.split('\\t')[3]))\n",
    "    s_tips3 = np.append(s_tips3, float(line.split('\\t')[4]))\n",
    "    a_FKPP3 = np.append(a_FKPP3, float(line.split('\\t')[5]))\n",
    "    if line.split('\\t')[6] == 0:\n",
    "        a_lin3 = np.append(a_lin3, float('nan'))\n",
    "    else:\n",
    "        a_lin3 = np.append(a_lin3, float(line.split('\\t')[6]))\n",
    "    \n",
    "f.close()\n",
    "\n",
    "f = open('data/ES_virulence_pars_Dx=%g.tsv'%Delta_x, 'r')\n",
    "lines = f.readlines()\n",
    "D3 = float(lines[1].split('\\t')[1])\n",
    "f.close()\n",
    "\n",
    "\n",
    "f = open('data/ES_virulence_stoch.tsv', 'r')\n",
    "\n",
    "r0_list_st, f_tips_st, s_tips_st = np.array([]), np.array([]), np.array([])\n",
    "a_list_st, a_std = np.array([]), np.array([])\n",
    "for line in f.readlines():\n",
    "    if line[0] == '#':\n",
    "        continue\n",
    "        \n",
    "    r0_list_st = np.append(r0_list_st, float(line.split('\\t')[0]))\n",
    "    a_list_st = np.append(a_list_st, float(line.split('\\t')[1]))\n",
    "    a_std = np.append(a_std, float(line.split('\\t')[2]))\n",
    "    f_tips_st = np.append(f_tips_st, float(line.split('\\t')[3]))\n",
    "    s_tips_st = np.append(s_tips_st, float(line.split('\\t')[4]))\n",
    "    \n",
    "f.close()\n",
    "\n",
    "f = open('data/ES_virulence_stoch_pars.tsv', 'r')\n",
    "lines = f.readlines()\n",
    "D_st = float(lines[1].split('\\t')[1])\n",
    "gamma_st = float(lines[3].split('\\t')[1])\n",
    "f.close()"
   ]
  },
  {
   "cell_type": "markdown",
   "id": "72ad4dda-42cb-465b-bba5-86e1e9b52af4",
   "metadata": {},
   "source": [
    "### Panel A"
   ]
  },
  {
   "cell_type": "code",
   "execution_count": 17,
   "id": "d1bff4a7-c9b5-471e-98e1-0ef890ca28f5",
   "metadata": {},
   "outputs": [
    {
     "data": {
      "image/png": "[encoded data removed]",
      "text/plain": [
       "<Figure size 432x216 with 1 Axes>"
      ]
     },
     "metadata": {
      "needs_background": "light"
     },
     "output_type": "display_data"
    }
   ],
   "source": [
    "plt.figure(figsize=(6,3))\n",
    "plt.xscale('log')\n",
    "plt.scatter(r0_list1**2/D1, a_list1, marker='o', facecolor='none', edgecolor='b', s=60, label=r'$D$=%g'%D1)\n",
    "plt.scatter(r0_list2**2/D2, a_list2, marker='s', s=60, facecolor='none', edgecolor='#a2cffe', label=r'$D$=%g'%D2)\n",
    "plt.scatter(r0_list3**2/D3, a_list3, marker='v', edgecolor='#2c6fbb', s=60, facecolor='none', label=r'$D$=%g'%D3)\n",
    "\n",
    "plt.legend()\n",
    "\n",
    "i_FKPP_end = 13\n",
    "i_lin_start = 10\n",
    "plt.plot(r0_list1[:i_FKPP_end]**2/D1, a_FKPP1[:i_FKPP_end], c='k', ls=':', lw=2)\n",
    "plt.plot(r0_list3[i_lin_start:]**2/D3, a_lin3[i_lin_start:], c='k', ls='--', lw=2)\n",
    "\n",
    "plt.xlabel(r'$r_0^2/D$', fontsize=12)\n",
    "plt.ylabel(r'$\\alpha^*$', fontsize=12)\n",
    "\n",
    "plt.savefig('plots/es_virulence.svg', dpi=200)"
   ]
  },
  {
   "cell_type": "markdown",
   "id": "bd806276-342c-4235-a113-9d6c5c46f043",
   "metadata": {},
   "source": [
    "### Panel A inset"
   ]
  },
  {
   "cell_type": "code",
   "execution_count": 18,
   "id": "593bb73f-a330-4018-b042-7c35c62ee225",
   "metadata": {},
   "outputs": [
    {
     "data": {
      "image/png": "[encoded data removed]",
      "text/plain": [
       "<Figure size 216x108 with 1 Axes>"
      ]
     },
     "metadata": {
      "needs_background": "light"
     },
     "output_type": "display_data"
    }
   ],
   "source": [
    "plt.figure(figsize=(3,1.5))\n",
    "plt.xscale('log')\n",
    "plt.scatter(r0_list1, a_list1, marker='o', facecolor='none', edgecolor='b', s=60, label=r'$D$=%g'%D1)\n",
    "plt.scatter(r0_list2, a_list2, marker='s', s=60, facecolor='none', edgecolor='#a2cffe', label=r'$D$=%g'%D2)\n",
    "plt.scatter(r0_list3, a_list3, marker='v', edgecolor='#2c6fbb', s=60, facecolor='none', label=r'$D$=%g'%D3)\n",
    "\n",
    "plt.xlabel(r'$r_0$', fontsize=12)\n",
    "plt.ylabel(r'$\\alpha^*$', fontsize=12)\n",
    "\n",
    "plt.savefig('plots/es_virulence_noresc.svg', dpi=200)"
   ]
  },
  {
   "cell_type": "markdown",
   "id": "c97d66c7-8637-4faa-b9a9-e1e954cb9264",
   "metadata": {},
   "source": [
    "## Panel B"
   ]
  },
  {
   "cell_type": "code",
   "execution_count": 21,
   "id": "fb7eddf1-81e4-47c0-8dad-681bd178e8a1",
   "metadata": {},
   "outputs": [],
   "source": [
    "f = open('data/speed_R0_vs_alpha_FKPP.tsv', 'r')\n",
    "\n",
    "a_list, speeds, R0s = np.array([]), np.array([]), np.array([])\n",
    "for line in f.readlines():\n",
    "    if line[0] == '#':\n",
    "        continue\n",
    "    \n",
    "    a_list = np.append(a_list, float(line.split('\\t')[0]))\n",
    "    speeds = np.append(speeds, float(line.split('\\t')[1]))\n",
    "    R0s = np.append(R0s, float(line.split('\\t')[2]))\n",
    "    \n",
    "f.close()\n",
    "\n",
    "f = open('data/speed_R0_vs_alpha_linfit.tsv', 'r')\n",
    "\n",
    "a_list2, speeds2, R0s2 = np.array([]), np.array([]), np.array([])\n",
    "for line in f.readlines():\n",
    "    if line[0] == '#':\n",
    "        continue\n",
    "    \n",
    "    a_list2 = np.append(a_list2, float(line.split('\\t')[0]))\n",
    "    speeds2 = np.append(speeds2, float(line.split('\\t')[1]))\n",
    "    R0s2 = np.append(R0s2, float(line.split('\\t')[2]))\n",
    "    \n",
    "f.close()"
   ]
  },
  {
   "cell_type": "code",
   "execution_count": 22,
   "id": "ad0608cb-35d5-4396-bfc4-1bce1757556a",
   "metadata": {},
   "outputs": [
    {
     "data": {
      "image/png": "[encoded data removed]",
      "text/plain": [
       "<Figure size 252x144 with 2 Axes>"
      ]
     },
     "metadata": {
      "needs_background": "light"
     },
     "output_type": "display_data"
    }
   ],
   "source": [
    "fig, ax1 = plt.subplots(figsize=(3.5,2))\n",
    "ax2 = plt.twinx(ax1)\n",
    "\n",
    "ax1.plot(a_list, speeds)\n",
    "ax1.plot(np.ones(2)*0.06210757493071612, [min(speeds), max(speeds)], c='k', ls='--', lw=3)\n",
    "\n",
    "ax2.plot(a_list, R0s)\n",
    "plt.tight_layout()\n",
    "\n",
    "plt.savefig('plots/speed_R0_vs_alpha_FKPP.svg')"
   ]
  },
  {
   "cell_type": "code",
   "execution_count": 23,
   "id": "84587cec-36bd-4a7a-a8ef-95bad5a0983a",
   "metadata": {},
   "outputs": [
    {
     "data": {
      "image/png": "[encoded data removed]",
      "text/plain": [
       "<Figure size 252x144 with 2 Axes>"
      ]
     },
     "metadata": {
      "needs_background": "light"
     },
     "output_type": "display_data"
    }
   ],
   "source": [
    "fig, ax1 = plt.subplots(figsize=(3.5,2))\n",
    "ax2 = plt.twinx(ax1)\n",
    "\n",
    "ax1.plot(a_list2, speeds2)\n",
    "ax1.plot(np.ones(2)*0.05112595680039541, [min(speeds2), max(speeds2)], c='k', ls='--', lw=3)\n",
    "\n",
    "ax2.plot(a_list2, R0s2)\n",
    "plt.tight_layout()\n",
    "\n",
    "plt.savefig('plots/speed_R0_vs_alpha_linfit.svg')"
   ]
  },
  {
   "cell_type": "code",
   "execution_count": null,
   "id": "f9a8308f-3d92-49eb-a575-1bbd4078f480",
   "metadata": {},
   "outputs": [],
   "source": []
  }
 ],
 "metadata": {
  "kernelspec": {
   "display_name": "Python 3",
   "language": "python",
   "name": "python3"
  },
  "language_info": {
   "codemirror_mode": {
    "name": "ipython",
    "version": 3
   },
   "file_extension": ".py",
   "mimetype": "text/x-python",
   "name": "python",
   "nbconvert_exporter": "python",
   "pygments_lexer": "ipython3",
   "version": "3.8.8"
  }
 },
 "nbformat": 4,
 "nbformat_minor": 5
}
