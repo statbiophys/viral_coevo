{
 "cells": [
  {
   "cell_type": "code",
   "execution_count": 1,
   "id": "46a7db57-f9e1-435a-aeab-52c5b370e84f",
   "metadata": {},
   "outputs": [],
   "source": [
    "import numpy as np\n",
    "import matplotlib.pyplot as plt\n",
    "import sys\n",
    "sys.path.insert(0, '../src/')\n",
    "import utils as ut\n",
    "import plotter\n",
    "import wave as w\n",
    "import pickle"
   ]
  },
  {
   "cell_type": "code",
   "execution_count": 2,
   "id": "8a676aa2-44ef-4e3a-ba08-f796a280f670",
   "metadata": {},
   "outputs": [],
   "source": [
    "def build_assay_wave(id_, r0, D, beta, use_fft, gamma=0.1, cutoff=1):\n",
    "    \"\"\"\n",
    "    It created a wave object with a good tuning of the parameters.\n",
    "    The object has to be run.\n",
    "    \"\"\"\n",
    "    \n",
    "    k = r0**2*(beta - gamma)/D\n",
    "    print(k)\n",
    "    dx = ut.lin_from_two_log_points(r0, 0.5, 0.1, 100, 0.6)\n",
    "    dt = ut.dt_from_cfl(0.03, D, dx)\n",
    "    nbins = int(ut.lin_from_two_loglog_points(r0, 0.5, 150, 100, 15000)/dx)\n",
    "\n",
    "    p = w.Vwave_pars(id_, tot_time=ut.lin_from_two_loglog_points(r0, 0.75, 2000, 100, 30000), dt=dt, dx=dx, \n",
    "                     n_x_bins=nbins, \n",
    "                     M=5, r0=r0, D_coef=D, beta=beta, alpha=0.0, gamma=gamma,\n",
    "                     Nh=10**10, N0=10**8, cutoff=cutoff,\n",
    "                     t_burn=ut.lin_from_two_loglog_points(r0, 0.5, 3000, 100, 200000), \n",
    "                     t_burn_cutoff=ut.lin_from_two_loglog_points(r0, 0.5, 400, 100, 8000), \n",
    "                     back_width_fract=ut.lin_from_two_log_points(k, 2.5, 0.2, 10**6, 2),\n",
    "                     traj_step=int(20/dt), check_step=int(0/dt), traj_after_burn=True, verbose=True, use_fft=use_fft)\n",
    "    return w.Vwave(p)"
   ]
  },
  {
   "cell_type": "code",
   "execution_count": 3,
   "id": "a2400d5d-b381-4a81-8ae9-bee1cce4e5ce",
   "metadata": {},
   "outputs": [],
   "source": [
    "def build_assay_wave_discr(id_, r0, D, beta, dx, use_fft, gamma=0.1, cutoff=1):\n",
    "    \"\"\"\n",
    "    It created a wave object with a good tuning of the parameters.\n",
    "    The object has to be run.\n",
    "    \"\"\"\n",
    "    \n",
    "    k = r0**2*(beta - gamma)/D\n",
    "    print(k)\n",
    "    dx_aux = ut.lin_from_two_log_points(r0, 0.5, 0.1, 100, 0.6)\n",
    "    dt = ut.dt_from_cfl(0.03, D, dx_aux)\n",
    "    nbins = int(ut.lin_from_two_loglog_points(r0, 0.5, 150, 100, 15000)/dx)\n",
    "\n",
    "    p = w.Vwave_pars(id_, tot_time=ut.lin_from_two_loglog_points(r0, 0.75, 2000, 100, 30000), dt=dt, dx=dx, \n",
    "                     n_x_bins=nbins, \n",
    "                     M=5, r0=r0, D_coef=D, beta=beta, alpha=0.0, gamma=gamma,\n",
    "                     Nh=10**10, N0=10**8, cutoff=cutoff,\n",
    "                     t_burn=ut.lin_from_two_loglog_points(r0, 0.5, 3000, 100, 200000), \n",
    "                     t_burn_cutoff=ut.lin_from_two_loglog_points(r0, 0.5, 400, 100, 8000), \n",
    "                     back_width_fract=ut.lin_from_two_log_points(k, 2.5, 0.2, 10**6, 2),\n",
    "                     traj_step=int(20/dt), check_step=int(0/dt), traj_after_burn=True, verbose=True, use_fft=use_fft)\n",
    "    return w.Vwave(p)"
   ]
  },
  {
   "cell_type": "markdown",
   "id": "9951fe04-7dd8-4152-a5bc-31f6386bf018",
   "metadata": {},
   "source": [
    "## Continuous case test"
   ]
  },
  {
   "cell_type": "code",
   "execution_count": 23,
   "id": "edcc601f-55c4-4c8b-8bc3-fcf0fe7cde28",
   "metadata": {},
   "outputs": [
    {
     "name": "stdout",
     "output_type": "stream",
     "text": [
      "9.999999999999995\n",
      "proc. 0 WARNING: dx is not small compared to r0. dx/r0= 0.1654120103239064\n",
      " "
     ]
    },
    {
     "data": {
      "application/vnd.jupyter.widget-view+json": {
       "model_id": "78c27ca8462a4340af7763ae13923cb3",
       "version_major": 2,
       "version_minor": 0
      },
      "text/plain": [
       "Process 0:   0%|          | 0/18376 [00:00<?, ?it/s]"
      ]
     },
     "metadata": {},
     "output_type": "display_data"
    },
    {
     "data": {
      "text/plain": [
       "<wave.Vwave at 0x7fb74defcbe0>"
      ]
     },
     "execution_count": 23,
     "metadata": {},
     "output_type": "execute_result"
    }
   ],
   "source": [
    "r0 = 1\n",
    "D = 2e-3\n",
    "beta = 0.12\n",
    "wave_fft = build_assay_wave(0, r0, D, beta, True, gamma=0.1, cutoff=1)\n",
    "wave_fft.run()"
   ]
  },
  {
   "cell_type": "code",
   "execution_count": 24,
   "id": "3ee2778b-0a2a-43b1-ba93-5d994498332a",
   "metadata": {},
   "outputs": [
    {
     "name": "stdout",
     "output_type": "stream",
     "text": [
      "averaged fft speed: 0.012289484172567882\n",
      "averaged fft speed: 23748604.61195119\n"
     ]
    }
   ],
   "source": [
    "print('averaged fft speed:', np.mean(wave_fft.traj.speed(20)))\n",
    "print('averaged fft speed:', np.mean(wave_fft.traj.nvirus))"
   ]
  },
  {
   "cell_type": "code",
   "execution_count": 19,
   "id": "d253f365-4b77-4a54-950f-93c36aa36fd5",
   "metadata": {},
   "outputs": [
    {
     "name": "stdout",
     "output_type": "stream",
     "text": [
      "9.999999999999995\n",
      "proc. 0 WARNING: dx is not small compared to r0. dx/r0= 0.1654120103239064\n",
      " "
     ]
    },
    {
     "data": {
      "application/vnd.jupyter.widget-view+json": {
       "model_id": "5bbe4ab2310543779b5436263e21fc9c",
       "version_major": 2,
       "version_minor": 0
      },
      "text/plain": [
       "Process 0:   0%|          | 0/18376 [00:00<?, ?it/s]"
      ]
     },
     "metadata": {},
     "output_type": "display_data"
    },
    {
     "data": {
      "text/plain": [
       "<wave.Vwave at 0x7fb74bac8760>"
      ]
     },
     "execution_count": 19,
     "metadata": {},
     "output_type": "execute_result"
    }
   ],
   "source": [
    "wave = build_assay_wave(0, r0, D, beta, False, gamma=0.1, cutoff=1)\n",
    "wave.run()"
   ]
  },
  {
   "cell_type": "code",
   "execution_count": 22,
   "id": "96c848d2-c353-43b5-b5f8-bc288e1109e2",
   "metadata": {},
   "outputs": [
    {
     "name": "stdout",
     "output_type": "stream",
     "text": [
      "averaged fft speed: 0.012289484172567882\n",
      "averaged fft speed: 23748634.77204462\n"
     ]
    }
   ],
   "source": [
    "print('averaged fft speed:', np.mean(wave.traj.speed(20)))\n",
    "print('averaged fft speed:', np.mean(wave_fft.traj.nvirus))"
   ]
  },
  {
   "cell_type": "markdown",
   "id": "43c4af73-3361-491c-b86f-84b5d3c74bc6",
   "metadata": {},
   "source": [
    "## Discrete case test"
   ]
  },
  {
   "cell_type": "code",
   "execution_count": 32,
   "id": "6f850d39-2dd7-49e1-becc-ff11c6902f29",
   "metadata": {},
   "outputs": [
    {
     "name": "stdout",
     "output_type": "stream",
     "text": [
      "249.9999999999999\n",
      "proc. 0 WARNING: dx is not small compared to r0. dx/r0= 0.2\n",
      " "
     ]
    },
    {
     "data": {
      "application/vnd.jupyter.widget-view+json": {
       "model_id": "fb566645da2f46bcaf13939340dc084a",
       "version_major": 2,
       "version_minor": 0
      },
      "text/plain": [
       "Process 0:   0%|          | 0/16108 [00:00<?, ?it/s]"
      ]
     },
     "metadata": {},
     "output_type": "display_data"
    },
    {
     "data": {
      "text/plain": [
       "<wave.Vwave at 0x7fb74ba4e700>"
      ]
     },
     "execution_count": 32,
     "metadata": {},
     "output_type": "execute_result"
    }
   ],
   "source": [
    "r0 = 5\n",
    "D = 2e-3\n",
    "beta = 0.12\n",
    "wave_fft = build_assay_wave_discr(0, r0, D, beta, 1, False, gamma=0.1, cutoff=1)\n",
    "wave_fft.run()"
   ]
  },
  {
   "cell_type": "code",
   "execution_count": 33,
   "id": "7be9fb25-260c-4fc8-9a76-f37e5bafd846",
   "metadata": {},
   "outputs": [
    {
     "name": "stdout",
     "output_type": "stream",
     "text": [
      "averaged fft speed: 0.012367966096939801\n",
      "averaged fft speed: 4628695.964952155\n"
     ]
    }
   ],
   "source": [
    "print('averaged fft speed:', np.mean(wave_fft.traj.speed(20)))\n",
    "print('averaged fft speed:', np.mean(wave_fft.traj.nvirus))"
   ]
  },
  {
   "cell_type": "code",
   "execution_count": 34,
   "id": "98049dba-f7fe-4c41-94ce-33d49922e9f6",
   "metadata": {},
   "outputs": [
    {
     "name": "stdout",
     "output_type": "stream",
     "text": [
      "249.9999999999999\n",
      "proc. 0 WARNING: dx is not small compared to r0. dx/r0= 0.2\n",
      " "
     ]
    },
    {
     "data": {
      "application/vnd.jupyter.widget-view+json": {
       "model_id": "d6c54c8ffe654cedaebe83763254c376",
       "version_major": 2,
       "version_minor": 0
      },
      "text/plain": [
       "Process 0:   0%|          | 0/16108 [00:00<?, ?it/s]"
      ]
     },
     "metadata": {},
     "output_type": "display_data"
    },
    {
     "data": {
      "text/plain": [
       "<wave.Vwave at 0x7fb74ba7c880>"
      ]
     },
     "execution_count": 34,
     "metadata": {},
     "output_type": "execute_result"
    }
   ],
   "source": [
    "wave = build_assay_wave_discr(0, r0, D, beta, 1, True, gamma=0.1, cutoff=1)\n",
    "wave.run()"
   ]
  },
  {
   "cell_type": "code",
   "execution_count": 35,
   "id": "f23d793f-a5d3-49d8-86a1-cc3adbc87086",
   "metadata": {},
   "outputs": [
    {
     "name": "stdout",
     "output_type": "stream",
     "text": [
      "averaged fft speed: 0.012452549451706107\n",
      "averaged fft speed: 5385144.834642412\n"
     ]
    }
   ],
   "source": [
    "print('averaged fft speed:', np.mean(wave.traj.speed(20)))\n",
    "print('averaged fft speed:', np.mean(wave_fft.traj.nvirus))"
   ]
  },
  {
   "cell_type": "code",
   "execution_count": null,
   "id": "850a224d-b9ac-4a19-a9bd-deeb9ec09ca4",
   "metadata": {},
   "outputs": [],
   "source": []
  }
 ],
 "metadata": {
  "kernelspec": {
   "display_name": "Python 3",
   "language": "python",
   "name": "python3"
  },
  "language_info": {
   "codemirror_mode": {
    "name": "ipython",
    "version": 3
   },
   "file_extension": ".py",
   "mimetype": "text/x-python",
   "name": "python",
   "nbconvert_exporter": "python",
   "pygments_lexer": "ipython3",
   "version": "3.8.8"
  }
 },
 "nbformat": 4,
 "nbformat_minor": 5
}
