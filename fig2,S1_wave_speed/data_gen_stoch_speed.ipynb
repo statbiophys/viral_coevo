{
 "cells": [
  {
   "cell_type": "code",
   "execution_count": 1,
   "id": "3cfea274-2790-45a0-8765-1c445ea8e37b",
   "metadata": {},
   "outputs": [],
   "source": [
    "import numpy as np\n",
    "import matplotlib.pyplot as plt\n",
    "import sys\n",
    "sys.path.insert(0, '../src/')\n",
    "import utils as ut\n",
    "import plotter\n",
    "import wave as w\n",
    "import pickle"
   ]
  },
  {
   "cell_type": "code",
   "execution_count": 2,
   "id": "b109069f-318c-4ec7-a6ea-d77d53361aa7",
   "metadata": {},
   "outputs": [],
   "source": [
    "def build_assay_wave_stoch(id_, r0, D, beta, gamma=1.0, cutoff=1e6):\n",
    "    dx = ut.lin_from_two_points(np.log(r0), np.log(0.01), 0.001, np.log(1), 0.005)\n",
    "    dt = ut.dt_from_cfl(0.03, D, dx)\n",
    "\n",
    "    p = w.Vwave_pars(id_, tot_time=1000, dt=dt, dx=dx, \n",
    "                     n_x_bins=int( ut.lin_from_two_points(r0, 0.01, 3, 1, 50)/dx ), \n",
    "                     M=5, r0=r0, D_coef=D, beta=beta, alpha=0.0, gamma=gamma,\n",
    "                     Nh=10**12, N0=10**10, cutoff=cutoff,\n",
    "                     t_burn=ut.lin_from_two_points(r0, 0.01, 250, 1, 6000), \n",
    "                     t_burn_cutoff=ut.lin_from_two_points(r0, 0.01, 70, 1, 1000), \n",
    "                     back_width_fract=ut.lin_from_two_points(np.log(r0), np.log(0.01), 0.1, np.log(1), 3),\n",
    "                     traj_step=int(5/dt), check_step=0, traj_after_burn=True, verbose=True)\n",
    "    \n",
    "    return w.Vwave_stoch_poiss(p)"
   ]
  },
  {
   "cell_type": "code",
   "execution_count": 3,
   "id": "9bc4c376-f6ad-48cb-84b6-0969b5da43f8",
   "metadata": {},
   "outputs": [],
   "source": [
    "r0_list_poiss = np.logspace(np.log10(0.01), np.log10(2), 15)\n",
    "D_poiss = 1e-5\n",
    "beta_poiss = 2\n",
    "cutoff_poiss = 1e5 # In the stochastic case the cutoff refers to the value below which the dynamics is stochastic"
   ]
  },
  {
   "cell_type": "markdown",
   "id": "7518d618-43e2-444f-b12f-55096a4d3f6a",
   "metadata": {},
   "source": [
    "### The cell below runs a long-time simulation. The output generate has been saved in a pickle file and can be imported without re-running everythng"
   ]
  },
  {
   "cell_type": "code",
   "execution_count": 9,
   "id": "80ce3527-0374-471b-af94-e470523e5061",
   "metadata": {},
   "outputs": [
    {
     "name": "stdout",
     "output_type": "stream",
     "text": [
      "   "
     ]
    },
    {
     "data": {
      "application/vnd.jupyter.widget-view+json": {
       "model_id": "c014fda2ba0b45f3b76d1a0c236cb8c2",
       "version_major": 2,
       "version_minor": 0
      },
      "text/plain": [
       "Process 0:   0%|          | 0/416666 [00:00<?, ?it/s]"
      ]
     },
     "metadata": {},
     "output_type": "display_data"
    },
    {
     "data": {
      "application/vnd.jupyter.widget-view+json": {
       "model_id": "518740c7021344328072c0a9c624f9bd",
       "version_major": 2,
       "version_minor": 0
      },
      "text/plain": [
       "Process 1:   0%|          | 0/241050 [00:00<?, ?it/s]"
      ]
     },
     "metadata": {},
     "output_type": "display_data"
    },
    {
     "name": "stdout",
     "output_type": "stream",
     "text": [
      " "
     ]
    },
    {
     "data": {
      "application/vnd.jupyter.widget-view+json": {
       "model_id": "724f03c7159e44fe9ab4f0836fe22384",
       "version_major": 2,
       "version_minor": 0
      },
      "text/plain": [
       "Process 2:   0%|          | 0/159650 [00:00<?, ?it/s]"
      ]
     },
     "metadata": {},
     "output_type": "display_data"
    },
    {
     "data": {
      "application/vnd.jupyter.widget-view+json": {
       "model_id": "6bc1b212d6e44566a4fb0d65504d42fd",
       "version_major": 2,
       "version_minor": 0
      },
      "text/plain": [
       "Process 3:   0%|          | 0/115990 [00:00<?, ?it/s]"
      ]
     },
     "metadata": {},
     "output_type": "display_data"
    },
    {
     "name": "stdout",
     "output_type": "stream",
     "text": [
      " "
     ]
    },
    {
     "data": {
      "application/vnd.jupyter.widget-view+json": {
       "model_id": "10686e9da2ed424fb2604b4e39740fb4",
       "version_major": 2,
       "version_minor": 0
      },
      "text/plain": [
       "Process 4:   0%|          | 0/90560 [00:00<?, ?it/s]"
      ]
     },
     "metadata": {},
     "output_type": "display_data"
    },
    {
     "name": "stdout",
     "output_type": "stream",
     "text": [
      " "
     ]
    },
    {
     "data": {
      "application/vnd.jupyter.widget-view+json": {
       "model_id": "cecb8877bfaa4013a2bbde1f43ce8a88",
       "version_major": 2,
       "version_minor": 0
      },
      "text/plain": [
       "Process 5:   0%|          | 0/75229 [00:00<?, ?it/s]"
      ]
     },
     "metadata": {},
     "output_type": "display_data"
    },
    {
     "name": "stdout",
     "output_type": "stream",
     "text": [
      " "
     ]
    },
    {
     "data": {
      "application/vnd.jupyter.widget-view+json": {
       "model_id": "f47ddffd05494690a42d37807c6c3cb7",
       "version_major": 2,
       "version_minor": 0
      },
      "text/plain": [
       "Process 6:   0%|          | 0/66197 [00:00<?, ?it/s]"
      ]
     },
     "metadata": {},
     "output_type": "display_data"
    },
    {
     "name": "stdout",
     "output_type": "stream",
     "text": [
      " "
     ]
    },
    {
     "data": {
      "application/vnd.jupyter.widget-view+json": {
       "model_id": "717d3783ae4f43c4a8f344e8c330f042",
       "version_major": 2,
       "version_minor": 0
      },
      "text/plain": [
       "Process 7:   0%|          | 0/61587 [00:00<?, ?it/s]"
      ]
     },
     "metadata": {},
     "output_type": "display_data"
    },
    {
     "name": "stdout",
     "output_type": "stream",
     "text": [
      " "
     ]
    },
    {
     "data": {
      "application/vnd.jupyter.widget-view+json": {
       "model_id": "ed7b86ea81424b8487cc0404c6ca974a",
       "version_major": 2,
       "version_minor": 0
      },
      "text/plain": [
       "Process 8:   0%|          | 0/60497 [00:00<?, ?it/s]"
      ]
     },
     "metadata": {},
     "output_type": "display_data"
    },
    {
     "name": "stdout",
     "output_type": "stream",
     "text": [
      " "
     ]
    },
    {
     "data": {
      "application/vnd.jupyter.widget-view+json": {
       "model_id": "958086d28c894791a16a6ef700f1837f",
       "version_major": 2,
       "version_minor": 0
      },
      "text/plain": [
       "Process 9:   0%|          | 0/62602 [00:00<?, ?it/s]"
      ]
     },
     "metadata": {},
     "output_type": "display_data"
    },
    {
     "name": "stdout",
     "output_type": "stream",
     "text": [
      " "
     ]
    },
    {
     "data": {
      "application/vnd.jupyter.widget-view+json": {
       "model_id": "44b36c1ec57d43319fe4e1b0df0bdc96",
       "version_major": 2,
       "version_minor": 0
      },
      "text/plain": [
       "Process 10:   0%|          | 0/67978 [00:00<?, ?it/s]"
      ]
     },
     "metadata": {},
     "output_type": "display_data"
    },
    {
     "name": "stdout",
     "output_type": "stream",
     "text": [
      " "
     ]
    },
    {
     "data": {
      "application/vnd.jupyter.widget-view+json": {
       "model_id": "416d035ec7d14d559bcbe73c79a6dae1",
       "version_major": 2,
       "version_minor": 0
      },
      "text/plain": [
       "Process 11:   0%|          | 0/77038 [00:00<?, ?it/s]"
      ]
     },
     "metadata": {},
     "output_type": "display_data"
    },
    {
     "name": "stdout",
     "output_type": "stream",
     "text": [
      " "
     ]
    },
    {
     "data": {
      "application/vnd.jupyter.widget-view+json": {
       "model_id": "c09409f668964798ad7be9d027b6434d",
       "version_major": 2,
       "version_minor": 0
      },
      "text/plain": [
       "Process 12:   0%|          | 0/90544 [00:00<?, ?it/s]"
      ]
     },
     "metadata": {},
     "output_type": "display_data"
    },
    {
     "name": "stdout",
     "output_type": "stream",
     "text": [
      " "
     ]
    },
    {
     "data": {
      "application/vnd.jupyter.widget-view+json": {
       "model_id": "e7d34d6f79574045ba9ba9b3fd809486",
       "version_major": 2,
       "version_minor": 0
      },
      "text/plain": [
       "Process 13:   0%|          | 0/109657 [00:00<?, ?it/s]"
      ]
     },
     "metadata": {},
     "output_type": "display_data"
    },
    {
     "name": "stdout",
     "output_type": "stream",
     "text": [
      " "
     ]
    },
    {
     "data": {
      "application/vnd.jupyter.widget-view+json": {
       "model_id": "4910b725a9284ce381427b5598338533",
       "version_major": 2,
       "version_minor": 0
      },
      "text/plain": [
       "Process 14:   0%|          | 0/136040 [00:00<?, ?it/s]"
      ]
     },
     "metadata": {},
     "output_type": "display_data"
    }
   ],
   "source": [
    "assays_poiss = []\n",
    "count = 0\n",
    "for r0 in r0_list_poiss:\n",
    "    assays_poiss.append(build_assay_wave_stoch(count, r0, D_poiss, beta_poiss, cutoff=cutoff_poiss))\n",
    "    count += 1\n",
    "    \n",
    "assays_poiss = ut.multiprocess_sim(assays_poiss, nproc=4)"
   ]
  },
  {
   "cell_type": "code",
   "execution_count": 10,
   "id": "98458a68-782b-4334-809a-bb1591984a14",
   "metadata": {},
   "outputs": [],
   "source": [
    "# saving the assays in a file \n",
    "f = open('data/assays_poiss.pickle', 'wb')\n",
    "pickle.dump(assays_poiss, f)\n",
    "f.close()"
   ]
  },
  {
   "cell_type": "code",
   "execution_count": 11,
   "id": "50bf4cf4-f182-4b9d-9d48-2836a5633edf",
   "metadata": {},
   "outputs": [],
   "source": [
    "f = open('data/assays_poiss.pickle', 'rb')\n",
    "assays_poiss = pickle.load(f)\n",
    "f.close()"
   ]
  },
  {
   "cell_type": "code",
   "execution_count": 17,
   "id": "583f0c34-ee22-4dd4-9c72-876cfa9c556b",
   "metadata": {},
   "outputs": [],
   "source": [
    "speeds_poiss = np.zeros(len(r0_list_poiss))\n",
    "f_tips_poiss = np.zeros(len(r0_list_poiss))\n",
    "s_tips_poiss = np.zeros(len(r0_list_poiss))\n",
    "count = 0\n",
    "for i, r in enumerate(r0_list_poiss):\n",
    "    for a in assays_poiss:\n",
    "        if a.p.id == count:\n",
    "            speeds_poiss[i] = np.mean(a.traj.speed(10))\n",
    "            f_tips_poiss[i] = np.mean(a.traj.f_tip)\n",
    "            s_tips_poiss[i] = np.mean(a.traj.s_tip)\n",
    "    count+=1"
   ]
  },
  {
   "cell_type": "code",
   "execution_count": 18,
   "id": "5b3c0af4-11d8-4246-bf53-a29a44ce786f",
   "metadata": {},
   "outputs": [],
   "source": [
    "f = open('data/stoch_speed.tsv', 'w')\n",
    "\n",
    "header = '#r0\\tspeed\\tF_T\\ts_T\\n'\n",
    "f.write(header)\n",
    "\n",
    "for i in range(len(r0_list_poiss)):\n",
    "    f.write(str(r0_list_poiss[i]) + '\\t')\n",
    "    f.write(str(speeds_poiss[i]) + '\\t')\n",
    "    f.write(str(f_tips_poiss[i]) + '\\t')\n",
    "    f.write(str(s_tips_poiss[i]) + '\\t')\n",
    "    f.write('\\n')\n",
    "    \n",
    "f.close()"
   ]
  },
  {
   "cell_type": "code",
   "execution_count": 19,
   "id": "e82f162c-a7c3-4ded-8e23-a32a8f5a382b",
   "metadata": {},
   "outputs": [],
   "source": [
    "f = open('data/stoch_speed_pars.tsv', 'w')\n",
    "\n",
    "header = '#parameter\\tvalue\\n'\n",
    "f.write(header)\n",
    "\n",
    "f.write('D\\t' + str(D_poiss) + '\\n')\n",
    "f.write('beta\\t' + str(beta_poiss) + '\\n')\n",
    "f.write('alpha\\t' + str(assays_poiss[0].p.alpha) + '\\n')\n",
    "f.write('Nh\\t' + str(assays_poiss[0].p.Nh) + '\\n')\n",
    "f.write('M\\t' + str(assays_poiss[0].p.M) + '\\n')\n",
    "f.write('stoch_cutoff\\t' + str(assays_poiss[0].p.cutoff) + '\\n')\n",
    "\n",
    "f.close()"
   ]
  },
  {
   "cell_type": "code",
   "execution_count": 16,
   "id": "bed21b27-3f0a-4c88-9d8f-17f86d97047d",
   "metadata": {},
   "outputs": [
    {
     "data": {
      "text/plain": [
       "array([0.00620532, 0.00618681, 0.00609961, 0.005991  , 0.00575693,\n",
       "       0.0054677 , 0.0051404 , 0.00475517, 0.00438944, 0.00386101,\n",
       "       0.00337416, 0.00298699, 0.00256661, 0.00231372, 0.00190264])"
      ]
     },
     "execution_count": 16,
     "metadata": {},
     "output_type": "execute_result"
    }
   ],
   "source": [
    "speeds_poiss"
   ]
  },
  {
   "cell_type": "code",
   "execution_count": null,
   "id": "d53e5327-5f47-4332-8160-1fd49de651a1",
   "metadata": {},
   "outputs": [],
   "source": []
  }
 ],
 "metadata": {
  "kernelspec": {
   "display_name": "Python 3",
   "language": "python",
   "name": "python3"
  },
  "language_info": {
   "codemirror_mode": {
    "name": "ipython",
    "version": 3
   },
   "file_extension": ".py",
   "mimetype": "text/x-python",
   "name": "python",
   "nbconvert_exporter": "python",
   "pygments_lexer": "ipython3",
   "version": "3.8.8"
  }
 },
 "nbformat": 4,
 "nbformat_minor": 5
}
