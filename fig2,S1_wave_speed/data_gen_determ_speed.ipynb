{
 "cells": [
  {
   "cell_type": "code",
   "execution_count": 1,
   "id": "91ffc1a3-f1fd-4bc6-b1b6-46d8894ad50d",
   "metadata": {},
   "outputs": [],
   "source": [
    "import numpy as np\n",
    "import matplotlib.pyplot as plt\n",
    "import sys\n",
    "sys.path.insert(0, '../src/')\n",
    "import utils as ut\n",
    "import plotter\n",
    "import wave as w\n",
    "import pickle"
   ]
  },
  {
   "cell_type": "markdown",
   "id": "4e5871fa-4e0c-49a4-91ac-24f1b5d6ab6e",
   "metadata": {},
   "source": [
    "### Computing the speed of the wave varying r0"
   ]
  },
  {
   "cell_type": "code",
   "execution_count": 2,
   "id": "cff11278-9066-42df-866d-4546ede6bb9f",
   "metadata": {},
   "outputs": [],
   "source": [
    "def build_assay_wave(id_, r0, D, beta, gamma=1.0, cutoff=1):\n",
    "    \"\"\"\n",
    "    It created a wave object with a good tuning of the parameters.\n",
    "    The object has to be run.\n",
    "    \"\"\"\n",
    "    \n",
    "    dx = ut.lin_from_two_points(np.log(r0), np.log(0.01), 0.001, np.log(1), 0.006)\n",
    "    dt = ut.dt_from_cfl(0.03, D, dx)\n",
    "\n",
    "    p = w.Vwave_pars(id_, tot_time=400, dt=dt, dx=dx, \n",
    "                     n_x_bins=int( ut.lin_from_two_points(r0, 0.01, 3, 1, 50)/dx ), \n",
    "                     M=5, r0=r0, D_coef=D, beta=beta, alpha=0.0, gamma=gamma,\n",
    "                     Nh=10**10, N0=10**8, cutoff=cutoff,\n",
    "                     t_burn=ut.lin_from_two_points(r0, 0.01, 200, 1, 10000), \n",
    "                     t_burn_cutoff=ut.lin_from_two_points(r0, 0.01, 70, 1, 1000), \n",
    "                     back_width_fract=ut.lin_from_two_points(np.log(r0), np.log(0.0075), 0.1, np.log(1), 3),\n",
    "                     traj_step=int(10/dt), check_step=0, traj_after_burn=True, verbose=True)\n",
    "    return w.Vwave(p)"
   ]
  },
  {
   "cell_type": "code",
   "execution_count": 3,
   "id": "3813141d-b2d2-4f20-b6b9-83dc613108d1",
   "metadata": {},
   "outputs": [],
   "source": [
    "r0_list = np.logspace(np.log10(0.0075), np.log10(5), 20)\n",
    "D = 1e-5\n",
    "beta = 2"
   ]
  },
  {
   "cell_type": "code",
   "execution_count": null,
   "id": "8ecfdfae-f6af-488f-b384-8863f6f8317c",
   "metadata": {},
   "outputs": [],
   "source": [
    "assays = []\n",
    "count = 0\n",
    "for r0 in r0_list:\n",
    "    assays.append(build_assay_wave(count, r0, D, beta))\n",
    "    count += 1\n",
    "    \n",
    "assays = ut.multiprocess_sim(assays, nproc=4)"
   ]
  },
  {
   "cell_type": "code",
   "execution_count": 21,
   "id": "f01a12b6-4f72-4330-ab44-57112a33bcb2",
   "metadata": {},
   "outputs": [],
   "source": [
    "# saving the assays in a file \n",
    "#f = open('data/assays.pickle', 'wb')\n",
    "#pickle.dump(assays, f)\n",
    "#f.close()"
   ]
  },
  {
   "cell_type": "code",
   "execution_count": 5,
   "id": "18d63a07-89f1-44cd-8d49-73f28a639765",
   "metadata": {},
   "outputs": [],
   "source": [
    "# importing the assays\n",
    "f = open('data/assays.pickle', 'rb')\n",
    "assays = pickle.load(f)\n",
    "f.close()"
   ]
  },
  {
   "cell_type": "code",
   "execution_count": 7,
   "id": "6c8042ff-77a5-4019-be92-7239a0850844",
   "metadata": {},
   "outputs": [],
   "source": [
    "speeds = np.zeros(len(r0_list))\n",
    "f_tips = np.zeros(len(r0_list))\n",
    "s_tips = np.zeros(len(r0_list))\n",
    "speed_lin = np.zeros(len(r0_list))\n",
    "speed_FKPP = np.zeros(len(r0_list))\n",
    "\n",
    "count = 0\n",
    "for i, r in enumerate(r0_list):\n",
    "    for a in assays:\n",
    "        if a.p.id == count:\n",
    "            speeds[i] = np.mean(a.traj.speed(10))\n",
    "            f_tips[i] = np.mean(a.traj.f_tip)\n",
    "            s_tips[i] = np.mean(a.traj.s_tip)\n",
    "            speed_FKPP[i] = ut.speed_FKPP(a.p, 1e20, 1e-10) # No size correction here\n",
    "            n = ut.size_lin(a.p, 1)\n",
    "            speed_lin[i] = ut.speed_lin(a.p, n, 1)\n",
    "    count+=1"
   ]
  },
  {
   "cell_type": "code",
   "execution_count": 11,
   "id": "1065a310-2c00-4afe-adeb-cd8857307eb3",
   "metadata": {},
   "outputs": [],
   "source": [
    "f = open('data/det_speed.tsv', 'w')\n",
    "\n",
    "header = '#r0\\tspeed\\tF_T\\ts_T\\tspeed_FKPP\\tspeed_linfit\\n'\n",
    "f.write(header)\n",
    "\n",
    "for i in range(len(r0_list)):\n",
    "    f.write(str(r0_list[i]) + '\\t')\n",
    "    f.write(str(speeds[i]) + '\\t')\n",
    "    f.write(str(f_tips[i]) + '\\t')\n",
    "    f.write(str(s_tips[i]) + '\\t')\n",
    "    f.write(str(speed_FKPP[i]) + '\\t')\n",
    "    f.write(str(speed_lin[i]) + '\\t')\n",
    "    f.write('\\n')\n",
    "    \n",
    "f.close()"
   ]
  },
  {
   "cell_type": "code",
   "execution_count": 20,
   "id": "36e57fa9-457c-43fc-ae5f-93811d38eb21",
   "metadata": {},
   "outputs": [],
   "source": [
    "f = open('data/det_speed_pars.tsv', 'w')\n",
    "\n",
    "header = '#parameter\\tvalue\\n'\n",
    "f.write(header)\n",
    "\n",
    "f.write('D\\t' + str(D) + '\\n')\n",
    "f.write('beta\\t' + str(beta) + '\\n')\n",
    "f.write('alpha\\t' + str(assays[0].p.alpha) + '\\n')\n",
    "f.write('Nh\\t' + str(assays[0].p.Nh) + '\\n')\n",
    "f.write('M\\t' + str(assays[0].p.M) + '\\n')\n",
    "f.write('cutoff\\t' + str(assays[0].p.cutoff) + '\\n')\n",
    "\n",
    "f.close()"
   ]
  },
  {
   "cell_type": "markdown",
   "id": "5060d377-4122-4f18-80a2-bd04c22a3059",
   "metadata": {},
   "source": [
    "## Speed re-scaling"
   ]
  },
  {
   "cell_type": "code",
   "execution_count": 18,
   "id": "639e2ba8-c9b8-4c47-aa88-6bf14ac1a89b",
   "metadata": {},
   "outputs": [],
   "source": [
    "r0_list_resc = np.logspace(np.log10(0.01), np.log10(2), 10)\n",
    "Ds = [1e-5, 0.5e-5]\n",
    "betas = [2, 4]"
   ]
  },
  {
   "cell_type": "code",
   "execution_count": null,
   "id": "36431e77-2086-494d-bab4-39a9e0a3fdd7",
   "metadata": {},
   "outputs": [],
   "source": [
    "assay_resc = []\n",
    "count = 0\n",
    "for r0 in r0_list_resc:\n",
    "    for D in Ds:\n",
    "        for b in betas:\n",
    "            assay_resc.append(build_assay_wave(count, r0, D, b))\n",
    "            count += 1\n",
    "    \n",
    "assay_resc = ut.multiprocess_sim(assay_resc, nproc=4)"
   ]
  },
  {
   "cell_type": "code",
   "execution_count": 22,
   "id": "29fd254d-02c3-46c4-92a1-62935e576087",
   "metadata": {},
   "outputs": [],
   "source": [
    "# saving the assays in a file \n",
    "f = open('data/assays_resc.pickle', 'wb')\n",
    "pickle.dump(assay_resc, f)\n",
    "f.close()"
   ]
  },
  {
   "cell_type": "code",
   "execution_count": 23,
   "id": "0280de88-0ce8-4bfb-bfd0-e03bd96113a5",
   "metadata": {},
   "outputs": [],
   "source": [
    "# importing the assays\n",
    "f = open('data/assays_resc.pickle', 'rb')\n",
    "assay_resc = pickle.load(f)\n",
    "f.close()"
   ]
  },
  {
   "cell_type": "code",
   "execution_count": 24,
   "id": "7c447af8-93e5-4509-806b-86ddafe21e44",
   "metadata": {},
   "outputs": [],
   "source": [
    "speeds_resc = np.zeros((len(r0_list_resc),len(Ds),len(betas)))\n",
    "f_tips_resc = np.zeros((len(r0_list_resc),len(Ds),len(betas)))\n",
    "s_tips_resc = np.zeros((len(r0_list_resc),len(Ds),len(betas)))\n",
    "speed_lin_resc = np.zeros(len(r0_list_resc))\n",
    "speed_FKPP_resc = np.zeros(len(r0_list_resc))\n",
    "\n",
    "count = 0\n",
    "for i,r0 in enumerate(r0_list_resc):\n",
    "    \n",
    "    for j, D in enumerate(Ds):\n",
    "        for k, b in enumerate(betas):\n",
    "            for a in assay_resc:\n",
    "                if a.p.id == count:\n",
    "                    #print(a.p.id, a.p.r0, r0, a.p.D_coef, D)\n",
    "                    speeds_resc[i,j,k] = np.mean(a.traj.speed(10))\n",
    "                    f_tips_resc[i,j,k] = np.mean(a.traj.f_tip)\n",
    "                    s_tips_resc[i,j,k] = np.mean(a.traj.s_tip)\n",
    "                    \n",
    "                    if j == 0 and k == 0:\n",
    "                        speed_FKPP_resc[i] = ut.speed_FKPP(a.p, 1e20, 1e-10) # No size correction here\n",
    "                    if j == 1 and k == 1:\n",
    "                        n = ut.size_lin(a.p, 1)\n",
    "                        speed_lin_resc[i] = ut.speed_lin(a.p, n, 1)\n",
    "            \n",
    "            count+=1"
   ]
  },
  {
   "cell_type": "code",
   "execution_count": 33,
   "id": "92cc4988-cc7d-4419-b0b8-bf15833af799",
   "metadata": {},
   "outputs": [],
   "source": [
    "f = open('data/rescaling_speed.tsv', 'w')\n",
    "\n",
    "header = '#run\\tr0\\tspeed\\tF_T\\ts_T\\tspeed_FKPP\\tspeed_linfit\\n'\n",
    "f.write(header)\n",
    "\n",
    "run = 0\n",
    "for j in range(len(Ds)):\n",
    "    for k in range(len(betas)):\n",
    "        for i in range(len(r0_list_resc)):\n",
    "            f.write(str(run) + '\\t')\n",
    "            f.write(str(r0_list_resc[i]) + '\\t')\n",
    "            f.write(str(speeds_resc[i,j,k]) + '\\t')\n",
    "            f.write(str(f_tips_resc[i,j,k]) + '\\t')\n",
    "            f.write(str(s_tips_resc[i,j,k]) + '\\t')\n",
    "            if j == 0 and k == 0:\n",
    "                f.write(str(speed_FKPP_resc[i]) + '\\t')\n",
    "            else:\n",
    "                f.write('\\t')\n",
    "            if j == 1 and k == 1:\n",
    "                f.write(str(speed_lin_resc[i]) + '\\t')\n",
    "            else:\n",
    "                f.write('\\t')\n",
    "            f.write('\\n')\n",
    "        run += 1\n",
    "\n",
    "f.close()"
   ]
  },
  {
   "cell_type": "code",
   "execution_count": 29,
   "id": "bf1ffebe-9c93-413d-aed9-7e4728e0750f",
   "metadata": {},
   "outputs": [],
   "source": [
    "f = open('data/rescaling_speed_pars.tsv', 'w')\n",
    "\n",
    "header = '#parameter\\tvalue\\trun\\n'\n",
    "f.write(header)\n",
    "\n",
    "run = 0\n",
    "for i in range(len(Ds)):\n",
    "    for j in range(len(betas)):\n",
    "        for a in assay_resc:\n",
    "            if a.p.id == run:\n",
    "                f.write('D\\t' + str(a.p.D_coef) + '\\t' + str(run) + '\\n')\n",
    "                f.write('beta\\t' + str(a.p.beta) + '\\t' + str(run) + '\\n')\n",
    "                f.write('alpha\\t' + str(a.p.alpha) + '\\t' + str(run) + '\\n')\n",
    "                f.write('Nh\\t' + str(a.p.Nh) + '\\t' + str(run) + '\\n')\n",
    "                f.write('M\\t' + str(a.p.M) + '\\t' + str(run) + '\\n')\n",
    "                f.write('cutoff\\t' + str(a.p.cutoff) + '\\t' + str(run) + '\\n')\n",
    "        run += 1\n",
    "\n",
    "f.close()"
   ]
  },
  {
   "cell_type": "markdown",
   "id": "882f7dc6-134e-4e72-aa78-cb00ee68fc2d",
   "metadata": {},
   "source": [
    "## Computing the speed at different cutoffs"
   ]
  },
  {
   "cell_type": "code",
   "execution_count": 34,
   "id": "00361758-a712-4f4d-bb06-aae928bb3bbf",
   "metadata": {},
   "outputs": [],
   "source": [
    "r0_list_cutoff = np.logspace(np.log10(0.0075), np.log10(2), 15)\n",
    "D_cutoff = 1e-5\n",
    "beta_cutoff = 2\n",
    "cutoffs = np.logspace(np.log10(0.001),np.log10(1000),3)"
   ]
  },
  {
   "cell_type": "code",
   "execution_count": null,
   "id": "c0895207-b206-42ad-ae8b-69f9a3d10e94",
   "metadata": {},
   "outputs": [],
   "source": [
    "assays_cutoff = []\n",
    "count = 0\n",
    "for r0 in r0_list_cutoff:\n",
    "    for c in cutoffs:\n",
    "        assays_cutoff.append(build_assay_wave(count, r0, D_cutoff, beta_cutoff, cutoff=c))\n",
    "        count += 1\n",
    "    \n",
    "assays_cutoff = ut.multiprocess_sim(assays_cutoff, nproc=4)"
   ]
  },
  {
   "cell_type": "code",
   "execution_count": 36,
   "id": "dbeadd05-d8ba-4ad7-92c8-763980689e5f",
   "metadata": {},
   "outputs": [],
   "source": [
    "# saving the assays in a file \n",
    "#f = open('data/assays_cutoff.pickle', 'wb')\n",
    "#pickle.dump(assays_cutoff, f)\n",
    "#f.close()"
   ]
  },
  {
   "cell_type": "code",
   "execution_count": 37,
   "id": "f0917833-40df-4312-92db-cb45daf1a152",
   "metadata": {},
   "outputs": [],
   "source": [
    "# importing the assays\n",
    "f = open('data/assays_cutoff.pickle', 'rb')\n",
    "assays_cutoff = pickle.load(f)\n",
    "f.close()"
   ]
  },
  {
   "cell_type": "code",
   "execution_count": 47,
   "id": "ea1238df-4dfc-4256-8af1-d03d6d2bc138",
   "metadata": {},
   "outputs": [],
   "source": [
    "speeds_cutoff = np.zeros((len(r0_list_cutoff), len(cutoffs)))\n",
    "f_tips_cutoff = np.zeros((len(r0_list_cutoff), len(cutoffs)))\n",
    "s_tips_cutoff = np.zeros((len(r0_list_cutoff), len(cutoffs)))\n",
    "speeds_lin_cutoff = np.zeros((len(r0_list_cutoff), len(cutoffs)))\n",
    "speeds_FKPP_cutoff = np.zeros((len(r0_list_cutoff), len(cutoffs)))\n",
    "count = 0\n",
    "for i, r in enumerate(r0_list_cutoff):\n",
    "    for j, c in enumerate(cutoffs):\n",
    "        for a in assays_cutoff:\n",
    "            if a.p.id == count:\n",
    "                speeds_cutoff[i,j] = np.mean(a.traj.speed())\n",
    "                f_tips_cutoff[i,j] = np.mean(a.traj.f_tip)\n",
    "                s_tips_cutoff[i,j] = np.mean(a.traj.s_tip)\n",
    "                speeds_FKPP_cutoff[i,j] = ut.speed_FKPP(a.p, 1e20, 1e-10)\n",
    "                n = ut.size_lin(a.p, c)\n",
    "                speeds_lin_cutoff[i,j] = ut.speed_lin(a.p, n, c)\n",
    "        count+=1"
   ]
  },
  {
   "cell_type": "code",
   "execution_count": 52,
   "id": "e8979b28-37e0-4189-bd93-f0d390fc04d9",
   "metadata": {},
   "outputs": [],
   "source": [
    "f = open('data/cutoff_speed.tsv', 'w')\n",
    "\n",
    "header = '#run\\tr0\\tspeed\\tF_T\\ts_T\\tspeed_FKPP\\tspeed_linfit\\n'\n",
    "f.write(header)\n",
    "\n",
    "run = 0\n",
    "for j in range(len(cutoffs)):\n",
    "    for i in range(len(r0_list_cutoff)):\n",
    "        f.write(str(run) + '\\t')\n",
    "        f.write(str(r0_list_cutoff[i]) + '\\t')\n",
    "        f.write(str(speeds_cutoff[i,j]) + '\\t')\n",
    "        f.write(str(f_tips_cutoff[i,j]) + '\\t')\n",
    "        f.write(str(s_tips_cutoff[i,j]) + '\\t')\n",
    "        f.write(str(speeds_FKPP_cutoff[i,j]) + '\\t')\n",
    "        f.write(str(speeds_lin_cutoff[i,j]) + '\\t')\n",
    "        f.write('\\n')\n",
    "    run += 1\n",
    "\n",
    "f.close()"
   ]
  },
  {
   "cell_type": "code",
   "execution_count": 51,
   "id": "33d137ea-637f-4581-8f44-741c723d994a",
   "metadata": {},
   "outputs": [],
   "source": [
    "f = open('data/cutoff_speed_pars.tsv', 'w')\n",
    "\n",
    "header = '#parameter\\tvalue\\trun\\n'\n",
    "f.write(header)\n",
    "\n",
    "run = 0\n",
    "for j in range(len(cutoffs)):\n",
    "    for a in assays_cutoff:\n",
    "        if a.p.id == run:\n",
    "            f.write('D\\t' + str(a.p.D_coef) + '\\t' + str(run) + '\\n')\n",
    "            f.write('beta\\t' + str(a.p.beta) + '\\t' + str(run) + '\\n')\n",
    "            f.write('alpha\\t' + str(a.p.alpha) + '\\t' + str(run) + '\\n')\n",
    "            f.write('Nh\\t' + str(a.p.Nh) + '\\t' + str(run) + '\\n')\n",
    "            f.write('M\\t' + str(a.p.M) + '\\t' + str(run) + '\\n')\n",
    "            f.write('cutoff\\t' + str(a.p.cutoff) + '\\t' + str(run) + '\\n')\n",
    "    run += 1\n",
    "\n",
    "f.close()"
   ]
  },
  {
   "cell_type": "markdown",
   "id": "de5c11df-78e9-42f6-a5be-3882b7bdfafd",
   "metadata": {},
   "source": [
    "## Computing the speed at different delta x"
   ]
  },
  {
   "cell_type": "code",
   "execution_count": 3,
   "id": "e1aaa2ea-291b-4159-b671-872e2d861aa1",
   "metadata": {},
   "outputs": [],
   "source": [
    "def build_assay_wave_dx(id_, r0, D, beta, Delta_x=0.5, gamma=1.0, cutoff=1):\n",
    "    dx = ut.lin_from_two_points(np.log(r0/Delta_x), np.log(0.01), 0.001, np.log(1), 0.005)\n",
    "    dt = ut.dt_from_cfl(0.03, D, dx)\n",
    "\n",
    "    p = w.Vwave_pars(id_, tot_time=2000, dt=dt, dx=dx, \n",
    "                     n_x_bins=int( ut.lin_from_two_points(r0/Delta_x, 0.01, 3, 1, 50)/dx ), \n",
    "                     M=5, r0=r0, D_coef=D, beta=beta, alpha=0.0, gamma=gamma,\n",
    "                     Nh=10**12, N0=10**10, cutoff=cutoff,\n",
    "                     t_burn=ut.lin_from_two_points(r0/Delta_x, 0.01, 1000, 1, 15000), \n",
    "                     t_burn_cutoff=ut.lin_from_two_points(r0/Delta_x, 0.01, 70, 1, 1000), \n",
    "                     back_width_fract=ut.lin_from_two_points(np.log(r0/Delta_x), np.log(0.0075), 0.1, np.log(1), 3),\n",
    "                     traj_step=int(10/dt), check_step=int(0/dt), traj_after_burn=True, verbose=True)\n",
    "    return w.Vwave(p)"
   ]
  },
  {
   "cell_type": "code",
   "execution_count": 4,
   "id": "9558fe99-b071-4ef8-a30d-3719370377e5",
   "metadata": {},
   "outputs": [],
   "source": [
    "delta_xs = [0.5, 1, 2]\n",
    "c_list_dx = np.logspace(np.log10(0.0075), np.log10(2), 15)\n",
    "D0 = 1e-5\n",
    "beta = 2"
   ]
  },
  {
   "cell_type": "code",
   "execution_count": null,
   "id": "40f50330-9001-4912-a44e-b36381eb9103",
   "metadata": {},
   "outputs": [
    {
     "name": "stdout",
     "output_type": "stream",
     "text": [
      "proc. 0 WARNING: dx is not small compared to r0. dx/r0= 0.2000326738089065\n",
      "proc. 1 WARNING: dx is not small compared to r0. dx/r0= 0.10001633690445325\n",
      "proc. 3 WARNING: dx is not small compared to r0. dx/r0= 0.19623159428464632\n",
      "proc. 6 WARNING: dx is not small compared to r0. dx/r0= 0.17327873854697018\n",
      "proc. 9 WARNING: dx is not small compared to r0. dx/r0= 0.14418778632441664\n",
      "proc. 12 WARNING: dx is not small compared to r0. dx/r0= 0.11548229901699457\n",
      "  "
     ]
    },
    {
     "data": {
      "application/vnd.jupyter.widget-view+json": {
       "model_id": "653025d463684bc89ccbb3881a62da2f",
       "version_major": 2,
       "version_minor": 0
      },
      "text/plain": [
       "Process 1:   0%|          | 0/1756253 [00:00<?, ?it/s]"
      ]
     },
     "metadata": {},
     "output_type": "display_data"
    },
    {
     "name": "stdout",
     "output_type": "stream",
     "text": [
      " "
     ]
    },
    {
     "data": {
      "application/vnd.jupyter.widget-view+json": {
       "model_id": "22b624d518f44b24965b7a0711bb1df2",
       "version_major": 2,
       "version_minor": 0
      },
      "text/plain": [
       "Process 3:   0%|          | 0/209014 [00:00<?, ?it/s]"
      ]
     },
     "metadata": {},
     "output_type": "display_data"
    },
    {
     "data": {
      "application/vnd.jupyter.widget-view+json": {
       "model_id": "243581a48d2d4ccba500ea710d0568ae",
       "version_major": 2,
       "version_minor": 0
      },
      "text/plain": [
       "Process 2:   0%|          | 0/7025014 [00:00<?, ?it/s]"
      ]
     },
     "metadata": {},
     "output_type": "display_data"
    },
    {
     "name": "stdout",
     "output_type": "stream",
     "text": [
      " "
     ]
    },
    {
     "data": {
      "application/vnd.jupyter.widget-view+json": {
       "model_id": "a270f2a8851f4c2fa76441911981fe9b",
       "version_major": 2,
       "version_minor": 0
      },
      "text/plain": [
       "Process 0:   0%|          | 0/439063 [00:00<?, ?it/s]"
      ]
     },
     "metadata": {},
     "output_type": "display_data"
    },
    {
     "name": "stdout",
     "output_type": "stream",
     "text": [
      " "
     ]
    },
    {
     "data": {
      "application/vnd.jupyter.widget-view+json": {
       "model_id": "7ba184ef7c5542f7857832c5c30ceccb",
       "version_major": 2,
       "version_minor": 0
      },
      "text/plain": [
       "Process 4:   0%|          | 0/836058 [00:00<?, ?it/s]"
      ]
     },
     "metadata": {},
     "output_type": "display_data"
    },
    {
     "name": "stdout",
     "output_type": "stream",
     "text": [
      " "
     ]
    },
    {
     "data": {
      "application/vnd.jupyter.widget-view+json": {
       "model_id": "8a154132c5b341d89cc849de2236f613",
       "version_major": 2,
       "version_minor": 0
      },
      "text/plain": [
       "Process 5:   0%|          | 0/3344232 [00:00<?, ?it/s]"
      ]
     },
     "metadata": {},
     "output_type": "display_data"
    },
    {
     "name": "stdout",
     "output_type": "stream",
     "text": [
      " "
     ]
    },
    {
     "data": {
      "application/vnd.jupyter.widget-view+json": {
       "model_id": "2796aec089f14f35ac621e6eea12abfd",
       "version_major": 2,
       "version_minor": 0
      },
      "text/plain": [
       "Process 6:   0%|          | 0/123786 [00:00<?, ?it/s]"
      ]
     },
     "metadata": {},
     "output_type": "display_data"
    },
    {
     "name": "stdout",
     "output_type": "stream",
     "text": [
      " "
     ]
    },
    {
     "data": {
      "application/vnd.jupyter.widget-view+json": {
       "model_id": "a1f9ee4b111a406a9d97de389904de94",
       "version_major": 2,
       "version_minor": 0
      },
      "text/plain": [
       "Process 7:   0%|          | 0/495146 [00:00<?, ?it/s]"
      ]
     },
     "metadata": {},
     "output_type": "display_data"
    }
   ],
   "source": [
    "assays_dx = []\n",
    "count = 0\n",
    "for c in c_list_dx:\n",
    "    for dx in delta_xs:\n",
    "        assays_dx.append(build_assay_wave_dx(count, c * dx, D0 * dx**2, beta, Delta_x=dx))\n",
    "        count += 1\n",
    "    \n",
    "assays_dx = ut.multiprocess_sim(assays_dx, nproc=4)"
   ]
  },
  {
   "cell_type": "code",
   "execution_count": null,
   "id": "d3d4c032-3a87-4e95-b224-83fefab1e51f",
   "metadata": {},
   "outputs": [],
   "source": [
    "# saving the assays in a file \n",
    "f = open('data/assays_dx.pickle', 'wb')\n",
    "pickle.dump(assays_dx, f)\n",
    "f.close()"
   ]
  },
  {
   "cell_type": "code",
   "execution_count": null,
   "id": "a9a8fc72-8144-4a83-b8f2-00cd5614985c",
   "metadata": {},
   "outputs": [],
   "source": [
    "# importing the assays\n",
    "f = open('data/assays_dx.pickle', 'rb')\n",
    "assays_dx = pickle.load(f)\n",
    "f.close()"
   ]
  },
  {
   "cell_type": "code",
   "execution_count": null,
   "id": "fbed2701-412a-4d2b-b068-b095ac03ceff",
   "metadata": {},
   "outputs": [],
   "source": [
    "speeds_dx = np.zeros((len(c_list_dx), len(delta_xs)))\n",
    "count = 0\n",
    "for i, r in enumerate(c_list_dx):\n",
    "    for j in range(len(delta_xs)):\n",
    "        for a in assays_dx:\n",
    "            if a.p.id == count:\n",
    "                speeds_dx[i,j] = np.mean(a.traj.speed(10))\n",
    "        count+=1"
   ]
  },
  {
   "cell_type": "code",
   "execution_count": null,
   "id": "74de240a-37aa-4b7e-be0f-e7885f233a6c",
   "metadata": {},
   "outputs": [],
   "source": [
    "f = open('data/dx_speed.tsv', 'w')\n",
    "\n",
    "header = '#run\\tr0\\tspeed\\tF_T\\ts_T\\tspeed_FKPP\\tspeed_linfit\\n'\n",
    "f.write(header)\n",
    "\n",
    "run = 0\n",
    "for j in range(len(delta_xs)):\n",
    "    for i in range(len(c_list_dx)):\n",
    "        f.write(str(run) + '\\t')\n",
    "        f.write(str(c_list_dx[i]*dx) + '\\t')\n",
    "        f.write(str(speeds_dx[i,j]) + '\\t')\n",
    "        f.write('\\n')\n",
    "    run += 1\n",
    "\n",
    "f.close()"
   ]
  }
 ],
 "metadata": {
  "kernelspec": {
   "display_name": "Python 3",
   "language": "python",
   "name": "python3"
  },
  "language_info": {
   "codemirror_mode": {
    "name": "ipython",
    "version": 3
   },
   "file_extension": ".py",
   "mimetype": "text/x-python",
   "name": "python",
   "nbconvert_exporter": "python",
   "pygments_lexer": "ipython3",
   "version": "3.8.8"
  }
 },
 "nbformat": 4,
 "nbformat_minor": 5
}
