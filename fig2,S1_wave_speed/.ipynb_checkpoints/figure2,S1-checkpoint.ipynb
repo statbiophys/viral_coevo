{
 "cells": [
  {
   "cell_type": "code",
   "execution_count": 1,
   "metadata": {},
   "outputs": [],
   "source": [
    "import numpy as np\n",
    "import matplotlib.pyplot as plt\n",
    "import sys\n",
    "sys.path.insert(0, '../src/')\n",
    "import utils as ut\n",
    "import plotter\n",
    "import wave as w\n",
    "import pickle"
   ]
  },
  {
   "cell_type": "markdown",
   "metadata": {},
   "source": [
    "### Computing the speed of the wave varying r0"
   ]
  },
  {
   "cell_type": "code",
   "execution_count": 2,
   "metadata": {},
   "outputs": [],
   "source": [
    "def build_assay_wave(id_, r0, D, beta, gamma=1.0, cutoff=1):\n",
    "    \"\"\"\n",
    "    It created a wave object with a good tuning of the parameters.\n",
    "    The object has to be run.\n",
    "    \"\"\"\n",
    "    \n",
    "    dx = ut.lin_from_two_points(np.log(r0), np.log(0.01), 0.001, np.log(1), 0.006)\n",
    "    dt = ut.dt_from_cfl(0.03, D, dx)\n",
    "\n",
    "    p = w.Vwave_pars(id_, tot_time=400, dt=dt, dx=dx, \n",
    "                     n_x_bins=int( ut.lin_from_two_points(r0, 0.01, 3, 1, 50)/dx ), \n",
    "                     M=5, r0=r0, D_coef=D, beta=beta, alpha=0.0, gamma=gamma,\n",
    "                     Nh=10**10, N0=10**8, cutoff=cutoff,\n",
    "                     t_burn=ut.lin_from_two_points(r0, 0.01, 200, 1, 10000), \n",
    "                     t_burn_cutoff=ut.lin_from_two_points(r0, 0.01, 70, 1, 1000), \n",
    "                     back_width_fract=ut.lin_from_two_points(np.log(r0), np.log(0.0075), 0.1, np.log(1), 3),\n",
    "                     traj_step=int(10/dt), check_step=0, traj_after_burn=True, verbose=True)\n",
    "    return w.Vwave(p)"
   ]
  },
  {
   "cell_type": "code",
   "execution_count": 9,
   "metadata": {
    "tags": []
   },
   "outputs": [],
   "source": [
    "r0_list = np.logspace(np.log10(0.0075), np.log10(5), 20)\n",
    "D = 1e-5\n",
    "beta = 2"
   ]
  },
  {
   "cell_type": "code",
   "execution_count": null,
   "metadata": {},
   "outputs": [],
   "source": [
    "assays = []\n",
    "count = 0\n",
    "for r0 in r0_list:\n",
    "    assays.append(build_assay_wave(count, r0, D, beta))\n",
    "    count += 1\n",
    "    \n",
    "assays = ut.multiprocess_sim(assays, nproc=4)"
   ]
  },
  {
   "cell_type": "code",
   "execution_count": 7,
   "metadata": {},
   "outputs": [],
   "source": [
    "# saving the assays in a file \n",
    "#f = open('assays.pickle', 'wb')\n",
    "#pickle.dump(assays, f)\n",
    "#f.close()"
   ]
  },
  {
   "cell_type": "code",
   "execution_count": 10,
   "metadata": {},
   "outputs": [],
   "source": [
    "# importing the assays\n",
    "f = open('assays.pickle', 'rb')\n",
    "assays = pickle.load(f)\n",
    "f.close()"
   ]
  },
  {
   "cell_type": "code",
   "execution_count": 11,
   "metadata": {},
   "outputs": [],
   "source": [
    "speeds = np.zeros(len(r0_list))\n",
    "f_tips = np.zeros(len(r0_list))\n",
    "s_tips = np.zeros(len(r0_list))\n",
    "speed_lin = np.zeros(len(r0_list))\n",
    "speed_FKPP = np.zeros(len(r0_list))\n",
    "speed_impl = np.zeros(len(r0_list))\n",
    "\n",
    "count = 0\n",
    "for i, r in enumerate(r0_list):\n",
    "    for a in assays:\n",
    "        if a.p.id == count:\n",
    "            speeds[i] = np.mean(a.traj.speed(10))\n",
    "            f_tips[i] = np.mean(a.traj.f_tip)\n",
    "            s_tips[i] = np.mean(a.traj.s_tip)\n",
    "            speed_impl[i] = 2*np.sqrt(D*(f_tips[i] - 2.3381*(D*s_tips[i]**2)**(1/3)))\n",
    "            speed_FKPP[i] = ut.speed_FKPP(a.p, 1e20, 1e-10) # No size correction here\n",
    "            n = ut.size_lin(a.p, 1)\n",
    "            speed_lin[i] = ut.speed_lin(a.p, n, 1)\n",
    "    count+=1"
   ]
  },
  {
   "cell_type": "code",
   "execution_count": 6,
   "metadata": {},
   "outputs": [
    {
     "data": {
      "image/png": "[encoded data removed]",
      "text/plain": [
       "<Figure size 252x216 with 1 Axes>"
      ]
     },
     "metadata": {
      "needs_background": "light"
     },
     "output_type": "display_data"
    }
   ],
   "source": [
    "plt.figure(figsize=(3.5,3))\n",
    "\n",
    "plt.xscale('log')\n",
    "plt.xlabel('r0', fontsize=12)\n",
    "plt.ylabel('wave speed', fontsize=12)\n",
    "#plt.title(r'D=%.g, $\\beta$=%.g, $\\gamma$=%.g'%(D, 2, 1),fontsize=12)\n",
    "plt.xlim(r0_list[0]-0.001, r0_list[-1]+1)\n",
    "plt.ylim(0.0012,0.0065)\n",
    "\n",
    "\n",
    "plt.scatter(r0_list, speeds, s=30, c='k')\n",
    "plt.plot(r0_list, speed_FKPP, c='k', ls=':', label='FKPP', lw=2)\n",
    "plt.plot(r0_list, speed_lin, c='k', ls='--', label='linear fitness', lw=2)\n",
    "#plt.plot(r0_list, speed_impl, label='speed-tip relation', lw=2)\n",
    "plt.legend()\n",
    "plt.savefig('speed_cutoffs.svg', dpi=200)"
   ]
  },
  {
   "cell_type": "markdown",
   "metadata": {},
   "source": [
    "## Computing the speed in the stochastic setting\n",
    "\n",
    "Also here the pickle can be loaded"
   ]
  },
  {
   "cell_type": "code",
   "execution_count": 2,
   "metadata": {},
   "outputs": [],
   "source": [
    "def build_assay_wave_stoch(id_, r0, D, beta, gamma=1.0, cutoff=1e6):\n",
    "    dx = ut.lin_from_two_points(np.log(r0), np.log(0.01), 0.001, np.log(1), 0.005)\n",
    "    dt = ut.dt_from_cfl(0.03, D, dx)\n",
    "\n",
    "    p = w.Vwave_pars(id_, tot_time=800, dt=dt, dx=dx, \n",
    "                     n_x_bins=int( ut.lin_from_two_points(r0, 0.01, 3, 1, 50)/dx ), \n",
    "                     M=5, r0=r0, D_coef=D, beta=beta, alpha=0.0, gamma=gamma,\n",
    "                     Nh=10**12, N0=10**10, cutoff=cutoff,\n",
    "                     t_burn=ut.lin_from_two_points(r0, 0.01, 250, 1, 6000), \n",
    "                     t_burn_cutoff=ut.lin_from_two_points(r0, 0.01, 70, 1, 1000), \n",
    "                     back_width_fract=ut.lin_from_two_points(np.log(r0), np.log(0.0075), 0.1, np.log(1), 3),\n",
    "                     traj_step=int(5/dt), check_step=0, traj_after_burn=True, verbose=True)\n",
    "    \n",
    "    return w.Vwave_stoch_poiss(p)"
   ]
  },
  {
   "cell_type": "code",
   "execution_count": 13,
   "metadata": {},
   "outputs": [],
   "source": [
    "r0_list_poiss = np.logspace(np.log10(0.0075), np.log10(2), 15)\n",
    "D_poiss = 1e-5\n",
    "beta_poiss = 2\n",
    "cutoff_poiss = 1e6 # In the stochastic case the cutoff refers to the value below which the dynamics is stochastic"
   ]
  },
  {
   "cell_type": "code",
   "execution_count": null,
   "metadata": {},
   "outputs": [],
   "source": [
    "assays_poiss = []\n",
    "count = 0\n",
    "for r0 in r0_list_poiss:\n",
    "    assays_poiss.append(build_assay_wave_stoch(count, r0, D_poiss, beta_poiss, cutoff=cutoff_poiss))\n",
    "    count += 1\n",
    "    \n",
    "assays_poiss = ut.multiprocess_sim(assays_poiss, nproc=3)"
   ]
  },
  {
   "cell_type": "code",
   "execution_count": 15,
   "metadata": {},
   "outputs": [],
   "source": [
    "# saving the assays in a file \n",
    "f = open('assays_poiss.pickle', 'wb')\n",
    "pickle.dump(assays, f)\n",
    "f.close()"
   ]
  },
  {
   "cell_type": "code",
   "execution_count": 16,
   "metadata": {},
   "outputs": [],
   "source": [
    "f = open('assays_poiss.pickle', 'rb')\n",
    "assays_poiss = pickle.load(f)\n",
    "f.close()\n",
    "\n",
    "r0_list_poiss = np.logspace(np.log10(0.0075), np.log10(2), 15)\n",
    "D_poiss = 1e-5\n",
    "beta_poiss = 2\n",
    "cutoffs_poiss = [1e4, 1e6]\n",
    "\n",
    "speeds_poiss = np.zeros((len(r0_list_poiss), len(cutoffs_poiss)))\n",
    "f_tips_poiss = np.zeros((len(r0_list_poiss), len(cutoffs_poiss)))\n",
    "s_tips_poiss = np.zeros((len(r0_list_poiss), len(cutoffs_poiss)))\n",
    "count = 0\n",
    "for i, r in enumerate(r0_list_poiss):\n",
    "    for j, c in enumerate(cutoffs_poiss):\n",
    "        for a in assays_poiss:\n",
    "            if a.p.id == count:\n",
    "                speeds_poiss[i,j] = np.mean(a.traj.speed(10))\n",
    "                f_tips_poiss[i,j] = np.mean(a.traj.f_tip)\n",
    "                s_tips_poiss[i,j] = np.mean(a.traj.s_tip)\n",
    "        count+=1"
   ]
  },
  {
   "cell_type": "code",
   "execution_count": 17,
   "metadata": {},
   "outputs": [
    {
     "data": {
      "image/png": "[encoded data removed]",
      "text/plain": [
       "<Figure size 180x216 with 1 Axes>"
      ]
     },
     "metadata": {
      "needs_background": "light"
     },
     "output_type": "display_data"
    }
   ],
   "source": [
    "fig, ax1 = plt.subplots(1,1,figsize=(2.5,3))\n",
    "\n",
    "speed_estim = f_tips - 2.3381*(D * s_tips**2)**(1/3)\n",
    "speed_estim_stoch = f_tips_poiss[:,1] - 2.3381*(D_poiss * s_tips_poiss[:,1]**2)**(1/3)\n",
    "\n",
    "ax1.scatter(speed_estim, speeds**2 / 4 / D, c='k')\n",
    "ax1.scatter(speed_estim_stoch, speeds_poiss[:,1]**2 / 4 / D, c='g', marker='x')\n",
    "    \n",
    "ax1.set_ylabel(r'$v^2 / (4 D)$', fontsize=14)\n",
    "#ax2.set_ylabel(r'$v^2$', fontsize=14)\n",
    "#x1.set_xlabel(r'$4 D F_T$', fontsize=14)\n",
    "ax1.set_xlabel(r'$F_T + \\sigma_T$', fontsize=14)\n",
    "x = np.linspace(0,1)\n",
    "ax1.plot(x, x, c='k')\n",
    "#x2.plot(x, x, c='k', ls='--')\n",
    "\n",
    "plt.tight_layout()\n",
    "\n",
    "plt.savefig('speed_fitness_relation.svg')"
   ]
  },
  {
   "cell_type": "markdown",
   "metadata": {},
   "source": [
    "## Speed re-scaling"
   ]
  },
  {
   "cell_type": "code",
   "execution_count": 19,
   "metadata": {},
   "outputs": [],
   "source": [
    "r0_list_resc = np.logspace(np.log10(0.01), np.log10(2), 10)\n",
    "Ds = [1e-5, 0.5e-5]\n",
    "betas = [2, 4]"
   ]
  },
  {
   "cell_type": "code",
   "execution_count": null,
   "metadata": {},
   "outputs": [],
   "source": [
    "assay_resc = []\n",
    "count = 0\n",
    "for r0 in r0_list_resc:\n",
    "    for D in Ds:\n",
    "        for b in betas:\n",
    "            assay_resc.append(build_assay_wave(count, r0, D, b))\n",
    "            count += 1\n",
    "    \n",
    "assay_resc = ut.multiprocess_sim(assay_resc, nproc=4)"
   ]
  },
  {
   "cell_type": "code",
   "execution_count": 22,
   "metadata": {},
   "outputs": [],
   "source": [
    "# importing the assays\n",
    "f = open('data/assays_resc.pickle', 'rb')\n",
    "assay_resc = pickle.load(f)\n",
    "f.close()"
   ]
  },
  {
   "cell_type": "code",
   "execution_count": 23,
   "metadata": {},
   "outputs": [],
   "source": [
    "speeds_resc = np.zeros((len(r0_list_resc),len(Ds),len(betas)))\n",
    "f_tips_resc = np.zeros((len(r0_list_resc),len(Ds),len(betas)))\n",
    "s_tips_resc = np.zeros((len(r0_list_resc),len(Ds),len(betas)))\n",
    "speed_lin_resc = np.zeros(len(r0_list_resc))\n",
    "speed_FKPP_resc = np.zeros(len(r0_list_resc))\n",
    "speed_impl = np.zeros((len(r0_list_resc),len(Ds),len(betas)))\n",
    "\n",
    "count = 0\n",
    "for i,r0 in enumerate(r0_list_resc):\n",
    "    \n",
    "    for j, D in enumerate(Ds):\n",
    "        for k, b in enumerate(betas):\n",
    "            for a in assay_resc:\n",
    "                if a.p.id == count:\n",
    "                    #print(a.p.id, a.p.r0, r0, a.p.D_coef, D)\n",
    "                    speeds_resc[i,j,k] = np.mean(a.traj.speed(10))\n",
    "                    f_tips_resc[i,j,k] = np.mean(a.traj.f_tip)\n",
    "                    s_tips_resc[i,j,k] = np.mean(a.traj.s_tip)\n",
    "                    \n",
    "                    if j == 0 and k == 0:\n",
    "                        speed_FKPP_resc[i] = ut.speed_FKPP(a.p, 1e20, 1e-10) # No size correction here\n",
    "                    if j == 1 and k == 1:\n",
    "                        n = ut.size_lin(a.p, 1)\n",
    "                        speed_lin_resc[i] = ut.speed_lin(a.p, n, 1)\n",
    "                    speed_impl[i,j,k] = 2*np.sqrt(D*(f_tips_resc[i,j,k] - 2.3381*(D*s_tips_resc[i,j,k]**2)**(1/3)))\n",
    "            \n",
    "            count+=1"
   ]
  },
  {
   "cell_type": "code",
   "execution_count": 27,
   "metadata": {},
   "outputs": [
    {
     "data": {
      "image/png": "[encoded data removed]",
      "text/plain": [
       "<Figure size 432x216 with 1 Axes>"
      ]
     },
     "metadata": {
      "needs_background": "light"
     },
     "output_type": "display_data"
    }
   ],
   "source": [
    "fig, ax1 = plt.subplots(1, 1, figsize=(6,3))\n",
    "colors = ['#0504aa', '#0165fc', '#840000', '#ff474c']\n",
    "markers = ['x', '+', '3', '4']\n",
    "\n",
    "ax1.set_xscale('log')\n",
    "ax1.set_yscale('log')\n",
    "ax1.set_xlabel(r'$k = r_0^2 F_{max}/D$', fontsize=12)\n",
    "ax1.set_ylabel(r'$v/(r_0 F_{max})$', fontsize=12)\n",
    "for j, D in enumerate(Ds):\n",
    "    for k, b in enumerate(betas):\n",
    "        ind = j*len(betas) + k\n",
    "        ax1.scatter(r0_list_resc**2*(b-1)/D, speeds_resc[:,j,k]/r0_list_resc/(b-1), s=100,\n",
    "                    label=r\"$D=%g$, $\\beta=$%g\"%(D,b), marker=markers[ind], color=colors[ind])\n",
    "        #plt.plot(r0_list_resc**2*(b-1)/D, speed_impl[:,j,k]/r0_list_resc/(b-1), label='speed-tip relation', lw=4, c='grey')\n",
    "        \n",
    "ax1.legend()\n",
    "x=np.linspace(0.001,0.1,10)\n",
    "\n",
    "ax1.plot(r0_list_resc**2*(betas[0]-1)/Ds[0], speed_FKPP_resc/r0_list_resc/(betas[0]-1), c='k', ls=':', lw=2)\n",
    "ax1.plot(r0_list_resc**2*(betas[1]-1)/Ds[1], speed_lin_resc/r0_list_resc/(betas[1]-1), c='k', ls='--', lw=2)\n",
    "plt.tight_layout()\n",
    "\n",
    "#plt.savefig('speed_rescaling.svg')"
   ]
  },
  {
   "cell_type": "code",
   "execution_count": 30,
   "metadata": {},
   "outputs": [
    {
     "data": {
      "text/plain": [
       "array([0.01      , 0.01801648, 0.03245936, 0.05848035, 0.10536103,\n",
       "       0.18982351, 0.34199519, 0.61615503, 1.11009462, 2.        ])"
      ]
     },
     "execution_count": 30,
     "metadata": {},
     "output_type": "execute_result"
    }
   ],
   "source": [
    "r0_list_resc"
   ]
  },
  {
   "cell_type": "code",
   "execution_count": 25,
   "metadata": {},
   "outputs": [
    {
     "data": {
      "image/png": "[encoded data removed]",
      "text/plain": [
       "<Figure size 216x180 with 1 Axes>"
      ]
     },
     "metadata": {
      "needs_background": "light"
     },
     "output_type": "display_data"
    }
   ],
   "source": [
    "fig, ax1 = plt.subplots(1, 1, figsize=(3,2.5))\n",
    "\n",
    "ax1.set_xscale('log')\n",
    "ax1.set_xlabel(r'$r_0$', fontsize=14)\n",
    "ax1.set_ylabel(r'$v$', fontsize=14)\n",
    "for j, D in enumerate(Ds):\n",
    "    for k, b in enumerate(betas):\n",
    "        ind = j*len(betas) + k\n",
    "        ax1.scatter(r0_list_resc, speeds_resc[:,j,k], marker=markers[ind], color=colors[ind], s=70)\n",
    "\n",
    "plt.tight_layout()\n",
    "\n",
    "plt.savefig('speed_no_rescaling.svg')"
   ]
  },
  {
   "cell_type": "markdown",
   "metadata": {},
   "source": [
    "## Computing the speed at different cutoffs"
   ]
  },
  {
   "cell_type": "code",
   "execution_count": null,
   "metadata": {},
   "outputs": [],
   "source": [
    "r0_list_cutoff = np.logspace(np.log10(0.0075), np.log10(2), 15)\n",
    "D_cutoff = 1e-5\n",
    "beta_cutoff = 2\n",
    "cutoffs = np.logspace(np.log10(0.001),np.log10(1000),3)"
   ]
  },
  {
   "cell_type": "code",
   "execution_count": null,
   "metadata": {},
   "outputs": [],
   "source": [
    "assays_cutoff = []\n",
    "count = 0\n",
    "for r0 in r0_list_cutoff:\n",
    "    for c in cutoffs:\n",
    "        assays_cutoff.append(build_assay_wave(count, r0, D_cutoff, beta_cutoff, cutoff=c))\n",
    "        count += 1\n",
    "    \n",
    "assays_cutoff = ut.multiprocess_sim(assays_cutoff, nproc=4)"
   ]
  },
  {
   "cell_type": "code",
   "execution_count": null,
   "metadata": {},
   "outputs": [],
   "source": [
    "speeds_cutoff = np.zeros((len(r0_list_cutoff), len(cutoffs)))\n",
    "f_tips_cutoff = np.zeros((len(r0_list_cutoff), len(cutoffs)))\n",
    "s_tips_cutoff = np.zeros((len(r0_list_cutoff), len(cutoffs)))\n",
    "speed_cutoff_lin = np.zeros((len(r0_list_cutoff), len(cutoffs)))\n",
    "speed_cutoff_FKPP = np.zeros(len(r0_list_cutoff))\n",
    "count = 0\n",
    "for i, r in enumerate(r0_list_cutoff):\n",
    "    for j, c in enumerate(cutoffs):\n",
    "        for a in assays_cutoff:\n",
    "            if a.p.id == count:\n",
    "                speeds_cutoff[i,j] = np.mean(a.traj.speed())\n",
    "                f_tips_cutoff[i,j] = np.mean(a.traj.f_tip)\n",
    "                s_tips_cutoff[i,j] = np.mean(a.traj.s_tip)\n",
    "                speed_cutoff_FKPP[i] = ut.speed_FKPP(a.p, 1e20, 1e-10) # No size correction here\n",
    "                n = ut.size_lin(a.p, c)\n",
    "                speed_cutoff_lin[i,j] = ut.speed_lin(a.p, n, c)\n",
    "        count+=1"
   ]
  },
  {
   "cell_type": "code",
   "execution_count": null,
   "metadata": {},
   "outputs": [],
   "source": [
    "plt.xscale('log')\n",
    "plt.xlabel('r0', fontsize=12)\n",
    "plt.ylabel('wave speed', fontsize=12)\n",
    "plt.title(r'D=%.g, $\\beta$=%.g, $\\gamma$=%.g'%(D, 2, 1),fontsize=12)\n",
    "plt.xlim(r0_list[0], r0_list[-1])\n",
    "plt.ylim(0.0016,0.0065)\n",
    "\n",
    "for i,c in enumerate(cutoffs):\n",
    "    plt.plot(r0_list_cutoff, speeds_cutoff[:,i], label='cutoff=%g'%c, lw=2)\n",
    "    plt.plot(r0_list_cutoff, speed_cutoff_lin[:,i], c='k', ls=':', lw=2)\n",
    "    \n",
    "plt.plot([0,0],[0,0], c='k', ls=':', label='linear fitness')\n",
    "plt.plot(r0_list_cutoff, speed_cutoff_FKPP, c='k', ls='-.', label='FKPP', lw=2)\n",
    "\n",
    "#plt.scatter(r0_list_lang, speeds_lang[:,1], label='stochastic langevin'%c, c='r')\n",
    "plt.scatter(r0_list_poiss, speeds_poiss[:,1], label='stochastic poisson'%c, c='red')\n",
    "\n",
    "plt.legend(fontsize=12)\n",
    "plt.tight_layout()\n",
    "\n",
    "#plt.savefig('plots/speed_stochastic.svg', dpi=200)"
   ]
  }
 ],
 "metadata": {
  "kernelspec": {
   "display_name": "Python 3",
   "language": "python",
   "name": "python3"
  },
  "language_info": {
   "codemirror_mode": {
    "name": "ipython",
    "version": 3
   },
   "file_extension": ".py",
   "mimetype": "text/x-python",
   "name": "python",
   "nbconvert_exporter": "python",
   "pygments_lexer": "ipython3",
   "version": "3.8.8"
  }
 },
 "nbformat": 4,
 "nbformat_minor": 4
}
